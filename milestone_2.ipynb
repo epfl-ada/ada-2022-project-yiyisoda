{
 "cells": [
  {
   "cell_type": "code",
   "execution_count": 2,
   "metadata": {
    "collapsed": true
   },
   "outputs": [],
   "source": [
    "import pandas as pd\n",
    "import numpy as np\n",
    "import seaborn as sns\n",
    "import matplotlib.pyplot as plt\n",
    "import spacy"
   ]
  },
  {
   "cell_type": "code",
   "execution_count": 2,
   "outputs": [
    {
     "data": {
      "text/plain": "    wiki_id freebase_id                                               name  \\\n0   3196793   /m/08yl5d  Getting Away with Murder: The JonBenét Ramsey ...   \n1  28463795  /m/0crgdbh                                        Brun bitter   \n2   9363483  /m/0285_cd                                   White Of The Eye   \n3    261236   /m/01mrr1                                  A Woman in Flames   \n4  13696889  /m/03cfc81                                      The Gangsters   \n\n  release_date  box_office_revenue  runtime  \\\n0   2000-02-16                 NaN     95.0   \n1         1988                 NaN     83.0   \n2         1987                 NaN    110.0   \n3         1983                 NaN    106.0   \n4   1913-05-29                 NaN     35.0   \n\n                                           languages  \\\n0                 {\"/m/02h40lc\": \"English Language\"}   \n1                 {\"/m/05f_3\": \"Norwegian Language\"}   \n2                 {\"/m/02h40lc\": \"English Language\"}   \n3                  {\"/m/04306rv\": \"German Language\"}   \n4  {\"/m/06ppq\": \"Silent film\", \"/m/02h40lc\": \"Eng...   \n\n                                   countries  \\\n0  {\"/m/09c7w0\": \"United States of America\"}   \n1                     {\"/m/05b4w\": \"Norway\"}   \n2             {\"/m/07ssc\": \"United Kingdom\"}   \n3                    {\"/m/0345h\": \"Germany\"}   \n4  {\"/m/09c7w0\": \"United States of America\"}   \n\n                                              genres  \n0  {\"/m/02n4kr\": \"Mystery\", \"/m/03bxz7\": \"Biograp...  \n1  {\"/m/0lsxr\": \"Crime Fiction\", \"/m/07s9rl0\": \"D...  \n2  {\"/m/01jfsb\": \"Thriller\", \"/m/0glj9q\": \"Erotic...  \n3                            {\"/m/07s9rl0\": \"Drama\"}  \n4  {\"/m/02hmvc\": \"Short Film\", \"/m/06ppq\": \"Silen...  ",
      "text/html": "<div>\n<style scoped>\n    .dataframe tbody tr th:only-of-type {\n        vertical-align: middle;\n    }\n\n    .dataframe tbody tr th {\n        vertical-align: top;\n    }\n\n    .dataframe thead th {\n        text-align: right;\n    }\n</style>\n<table border=\"1\" class=\"dataframe\">\n  <thead>\n    <tr style=\"text-align: right;\">\n      <th></th>\n      <th>wiki_id</th>\n      <th>freebase_id</th>\n      <th>name</th>\n      <th>release_date</th>\n      <th>box_office_revenue</th>\n      <th>runtime</th>\n      <th>languages</th>\n      <th>countries</th>\n      <th>genres</th>\n    </tr>\n  </thead>\n  <tbody>\n    <tr>\n      <th>0</th>\n      <td>3196793</td>\n      <td>/m/08yl5d</td>\n      <td>Getting Away with Murder: The JonBenét Ramsey ...</td>\n      <td>2000-02-16</td>\n      <td>NaN</td>\n      <td>95.0</td>\n      <td>{\"/m/02h40lc\": \"English Language\"}</td>\n      <td>{\"/m/09c7w0\": \"United States of America\"}</td>\n      <td>{\"/m/02n4kr\": \"Mystery\", \"/m/03bxz7\": \"Biograp...</td>\n    </tr>\n    <tr>\n      <th>1</th>\n      <td>28463795</td>\n      <td>/m/0crgdbh</td>\n      <td>Brun bitter</td>\n      <td>1988</td>\n      <td>NaN</td>\n      <td>83.0</td>\n      <td>{\"/m/05f_3\": \"Norwegian Language\"}</td>\n      <td>{\"/m/05b4w\": \"Norway\"}</td>\n      <td>{\"/m/0lsxr\": \"Crime Fiction\", \"/m/07s9rl0\": \"D...</td>\n    </tr>\n    <tr>\n      <th>2</th>\n      <td>9363483</td>\n      <td>/m/0285_cd</td>\n      <td>White Of The Eye</td>\n      <td>1987</td>\n      <td>NaN</td>\n      <td>110.0</td>\n      <td>{\"/m/02h40lc\": \"English Language\"}</td>\n      <td>{\"/m/07ssc\": \"United Kingdom\"}</td>\n      <td>{\"/m/01jfsb\": \"Thriller\", \"/m/0glj9q\": \"Erotic...</td>\n    </tr>\n    <tr>\n      <th>3</th>\n      <td>261236</td>\n      <td>/m/01mrr1</td>\n      <td>A Woman in Flames</td>\n      <td>1983</td>\n      <td>NaN</td>\n      <td>106.0</td>\n      <td>{\"/m/04306rv\": \"German Language\"}</td>\n      <td>{\"/m/0345h\": \"Germany\"}</td>\n      <td>{\"/m/07s9rl0\": \"Drama\"}</td>\n    </tr>\n    <tr>\n      <th>4</th>\n      <td>13696889</td>\n      <td>/m/03cfc81</td>\n      <td>The Gangsters</td>\n      <td>1913-05-29</td>\n      <td>NaN</td>\n      <td>35.0</td>\n      <td>{\"/m/06ppq\": \"Silent film\", \"/m/02h40lc\": \"Eng...</td>\n      <td>{\"/m/09c7w0\": \"United States of America\"}</td>\n      <td>{\"/m/02hmvc\": \"Short Film\", \"/m/06ppq\": \"Silen...</td>\n    </tr>\n  </tbody>\n</table>\n</div>"
     },
     "execution_count": 2,
     "metadata": {},
     "output_type": "execute_result"
    }
   ],
   "source": [
    "metadata = pd.read_csv(\"data/MovieSummaries/movie.metadata.tsv\", sep='\\t', header=0,\n",
    "                       names=['wiki_id', 'freebase_id', 'name', 'release_date','box_office_revenue', 'runtime', 'languages', 'countries', 'genres'])\n",
    "metadata.head()"
   ],
   "metadata": {
    "collapsed": false
   }
  },
  {
   "cell_type": "markdown",
   "source": [
    "### Create writer and director Dataframe"
   ],
   "metadata": {
    "collapsed": false
   }
  },
  {
   "cell_type": "code",
   "execution_count": 3,
   "outputs": [
    {
     "data": {
      "text/plain": "      tconst                      title\n0  tt0000001                 Карменсіта\n1  tt0000001                 Carmencita\n2  tt0000001  Carmencita - spanyol tánc\n3  tt0000001                 Καρμενσίτα\n4  tt0000001                 Карменсита",
      "text/html": "<div>\n<style scoped>\n    .dataframe tbody tr th:only-of-type {\n        vertical-align: middle;\n    }\n\n    .dataframe tbody tr th {\n        vertical-align: top;\n    }\n\n    .dataframe thead th {\n        text-align: right;\n    }\n</style>\n<table border=\"1\" class=\"dataframe\">\n  <thead>\n    <tr style=\"text-align: right;\">\n      <th></th>\n      <th>tconst</th>\n      <th>title</th>\n    </tr>\n  </thead>\n  <tbody>\n    <tr>\n      <th>0</th>\n      <td>tt0000001</td>\n      <td>Карменсіта</td>\n    </tr>\n    <tr>\n      <th>1</th>\n      <td>tt0000001</td>\n      <td>Carmencita</td>\n    </tr>\n    <tr>\n      <th>2</th>\n      <td>tt0000001</td>\n      <td>Carmencita - spanyol tánc</td>\n    </tr>\n    <tr>\n      <th>3</th>\n      <td>tt0000001</td>\n      <td>Καρμενσίτα</td>\n    </tr>\n    <tr>\n      <th>4</th>\n      <td>tt0000001</td>\n      <td>Карменсита</td>\n    </tr>\n  </tbody>\n</table>\n</div>"
     },
     "execution_count": 3,
     "metadata": {},
     "output_type": "execute_result"
    }
   ],
   "source": [
    "titles = pd.read_csv('data/title.akas.tsv.gz', compression='gzip', sep='\\t', na_values=\"\\\\N\", usecols=['titleId', 'title'])\n",
    "titles = titles.rename(columns={'titleId' : 'tconst'})\n",
    "titles.head()"
   ],
   "metadata": {
    "collapsed": false
   }
  },
  {
   "cell_type": "code",
   "execution_count": 4,
   "outputs": [
    {
     "data": {
      "text/plain": "      tconst       title\n0  tt0000001  Carmencita\n1  tt0000001  Carmencita\n2  tt0000001  Carmencita\n3  tt0021748  Carmencita\n4  tt0028162  Carmencita",
      "text/html": "<div>\n<style scoped>\n    .dataframe tbody tr th:only-of-type {\n        vertical-align: middle;\n    }\n\n    .dataframe tbody tr th {\n        vertical-align: top;\n    }\n\n    .dataframe thead th {\n        text-align: right;\n    }\n</style>\n<table border=\"1\" class=\"dataframe\">\n  <thead>\n    <tr style=\"text-align: right;\">\n      <th></th>\n      <th>tconst</th>\n      <th>title</th>\n    </tr>\n  </thead>\n  <tbody>\n    <tr>\n      <th>0</th>\n      <td>tt0000001</td>\n      <td>Carmencita</td>\n    </tr>\n    <tr>\n      <th>1</th>\n      <td>tt0000001</td>\n      <td>Carmencita</td>\n    </tr>\n    <tr>\n      <th>2</th>\n      <td>tt0000001</td>\n      <td>Carmencita</td>\n    </tr>\n    <tr>\n      <th>3</th>\n      <td>tt0021748</td>\n      <td>Carmencita</td>\n    </tr>\n    <tr>\n      <th>4</th>\n      <td>tt0028162</td>\n      <td>Carmencita</td>\n    </tr>\n  </tbody>\n</table>\n</div>"
     },
     "execution_count": 4,
     "metadata": {},
     "output_type": "execute_result"
    }
   ],
   "source": [
    "## Inner join titles and metadata to only keep the movies that are in the original set\n",
    "titles = pd.merge(titles, metadata.rename(columns={'name' : 'title'}).title, on='title', how='inner')\n",
    "titles.head()"
   ],
   "metadata": {
    "collapsed": false
   }
  },
  {
   "cell_type": "code",
   "execution_count": 5,
   "outputs": [
    {
     "data": {
      "text/plain": "      tconst  directors writers\n0  tt0000001  nm0005690     NaN\n1  tt0000002  nm0721526     NaN\n2  tt0000003  nm0721526     NaN\n3  tt0000004  nm0721526     NaN\n4  tt0000005  nm0005690     NaN",
      "text/html": "<div>\n<style scoped>\n    .dataframe tbody tr th:only-of-type {\n        vertical-align: middle;\n    }\n\n    .dataframe tbody tr th {\n        vertical-align: top;\n    }\n\n    .dataframe thead th {\n        text-align: right;\n    }\n</style>\n<table border=\"1\" class=\"dataframe\">\n  <thead>\n    <tr style=\"text-align: right;\">\n      <th></th>\n      <th>tconst</th>\n      <th>directors</th>\n      <th>writers</th>\n    </tr>\n  </thead>\n  <tbody>\n    <tr>\n      <th>0</th>\n      <td>tt0000001</td>\n      <td>nm0005690</td>\n      <td>NaN</td>\n    </tr>\n    <tr>\n      <th>1</th>\n      <td>tt0000002</td>\n      <td>nm0721526</td>\n      <td>NaN</td>\n    </tr>\n    <tr>\n      <th>2</th>\n      <td>tt0000003</td>\n      <td>nm0721526</td>\n      <td>NaN</td>\n    </tr>\n    <tr>\n      <th>3</th>\n      <td>tt0000004</td>\n      <td>nm0721526</td>\n      <td>NaN</td>\n    </tr>\n    <tr>\n      <th>4</th>\n      <td>tt0000005</td>\n      <td>nm0005690</td>\n      <td>NaN</td>\n    </tr>\n  </tbody>\n</table>\n</div>"
     },
     "execution_count": 5,
     "metadata": {},
     "output_type": "execute_result"
    }
   ],
   "source": [
    "crew = pd.read_csv('data/title.crew.tsv.gz', compression='gzip', sep='\\t', na_values=\"\\\\N\")\n",
    "crew.head()"
   ],
   "metadata": {
    "collapsed": false
   }
  },
  {
   "cell_type": "code",
   "execution_count": 6,
   "outputs": [
    {
     "data": {
      "text/plain": "    directors writers              title\n0   nm0005690     NaN         Carmencita\n3   nm0721526     NaN     Pauvre Pierrot\n5   nm0721526     NaN        Un bon bock\n7   nm0005690     NaN   Blacksmith Scene\n10  nm0005690     NaN  Chinese Opium Den",
      "text/html": "<div>\n<style scoped>\n    .dataframe tbody tr th:only-of-type {\n        vertical-align: middle;\n    }\n\n    .dataframe tbody tr th {\n        vertical-align: top;\n    }\n\n    .dataframe thead th {\n        text-align: right;\n    }\n</style>\n<table border=\"1\" class=\"dataframe\">\n  <thead>\n    <tr style=\"text-align: right;\">\n      <th></th>\n      <th>directors</th>\n      <th>writers</th>\n      <th>title</th>\n    </tr>\n  </thead>\n  <tbody>\n    <tr>\n      <th>0</th>\n      <td>nm0005690</td>\n      <td>NaN</td>\n      <td>Carmencita</td>\n    </tr>\n    <tr>\n      <th>3</th>\n      <td>nm0721526</td>\n      <td>NaN</td>\n      <td>Pauvre Pierrot</td>\n    </tr>\n    <tr>\n      <th>5</th>\n      <td>nm0721526</td>\n      <td>NaN</td>\n      <td>Un bon bock</td>\n    </tr>\n    <tr>\n      <th>7</th>\n      <td>nm0005690</td>\n      <td>NaN</td>\n      <td>Blacksmith Scene</td>\n    </tr>\n    <tr>\n      <th>10</th>\n      <td>nm0005690</td>\n      <td>NaN</td>\n      <td>Chinese Opium Den</td>\n    </tr>\n  </tbody>\n</table>\n</div>"
     },
     "execution_count": 6,
     "metadata": {},
     "output_type": "execute_result"
    }
   ],
   "source": [
    "## Inner join crew and titles on tconst to have the title name with the directors and writers\n",
    "crew = pd.merge(crew, titles, on='tconst', how='inner')\n",
    "crew.drop('tconst', axis=1, inplace=True) ## Drop useless column \"tconst\"\n",
    "crew = crew.drop_duplicates() ## Drop duplicates i.e. titles that have multiple \"tconst\" values\n",
    "crew.head()"
   ],
   "metadata": {
    "collapsed": false
   }
  },
  {
   "cell_type": "code",
   "execution_count": 7,
   "outputs": [],
   "source": [
    "## Free memory\n",
    "del titles"
   ],
   "metadata": {
    "collapsed": false
   }
  },
  {
   "cell_type": "code",
   "execution_count": 8,
   "outputs": [],
   "source": [
    "# Create two data frame for directors and writers, and drop the row without directors and writers.\n",
    "directors = crew[['directors', 'title']].dropna()\n",
    "writers = crew[['title', 'writers']].dropna()"
   ],
   "metadata": {
    "collapsed": false
   }
  },
  {
   "cell_type": "code",
   "execution_count": 9,
   "outputs": [],
   "source": [
    "# Directors and writers are list, so we transform them into rows\n",
    "directors['directors'] = directors['directors'].str.split(pat=',')\n",
    "writers['writers'] = writers['writers'].str.split(pat=',')\n",
    "directors = directors.explode('directors')\n",
    "writers = writers.explode('writers')"
   ],
   "metadata": {
    "collapsed": false
   }
  },
  {
   "cell_type": "code",
   "execution_count": 10,
   "outputs": [
    {
     "data": {
      "text/plain": "      nconst      primaryName  birthYear  deathYear  \\\n0  nm0000001     Fred Astaire     1899.0     1987.0   \n1  nm0000002    Lauren Bacall     1924.0     2014.0   \n2  nm0000003  Brigitte Bardot     1934.0        NaN   \n3  nm0000004     John Belushi     1949.0     1982.0   \n4  nm0000005   Ingmar Bergman     1918.0     2007.0   \n\n                     primaryProfession  \\\n0       soundtrack,actor,miscellaneous   \n1                   actress,soundtrack   \n2  actress,soundtrack,music_department   \n3              actor,soundtrack,writer   \n4                writer,director,actor   \n\n                            knownForTitles  \n0  tt0053137,tt0031983,tt0072308,tt0050419  \n1  tt0037382,tt0117057,tt0071877,tt0038355  \n2  tt0049189,tt0057345,tt0056404,tt0054452  \n3  tt0077975,tt0072562,tt0080455,tt0078723  \n4  tt0083922,tt0060827,tt0050976,tt0050986  ",
      "text/html": "<div>\n<style scoped>\n    .dataframe tbody tr th:only-of-type {\n        vertical-align: middle;\n    }\n\n    .dataframe tbody tr th {\n        vertical-align: top;\n    }\n\n    .dataframe thead th {\n        text-align: right;\n    }\n</style>\n<table border=\"1\" class=\"dataframe\">\n  <thead>\n    <tr style=\"text-align: right;\">\n      <th></th>\n      <th>nconst</th>\n      <th>primaryName</th>\n      <th>birthYear</th>\n      <th>deathYear</th>\n      <th>primaryProfession</th>\n      <th>knownForTitles</th>\n    </tr>\n  </thead>\n  <tbody>\n    <tr>\n      <th>0</th>\n      <td>nm0000001</td>\n      <td>Fred Astaire</td>\n      <td>1899.0</td>\n      <td>1987.0</td>\n      <td>soundtrack,actor,miscellaneous</td>\n      <td>tt0053137,tt0031983,tt0072308,tt0050419</td>\n    </tr>\n    <tr>\n      <th>1</th>\n      <td>nm0000002</td>\n      <td>Lauren Bacall</td>\n      <td>1924.0</td>\n      <td>2014.0</td>\n      <td>actress,soundtrack</td>\n      <td>tt0037382,tt0117057,tt0071877,tt0038355</td>\n    </tr>\n    <tr>\n      <th>2</th>\n      <td>nm0000003</td>\n      <td>Brigitte Bardot</td>\n      <td>1934.0</td>\n      <td>NaN</td>\n      <td>actress,soundtrack,music_department</td>\n      <td>tt0049189,tt0057345,tt0056404,tt0054452</td>\n    </tr>\n    <tr>\n      <th>3</th>\n      <td>nm0000004</td>\n      <td>John Belushi</td>\n      <td>1949.0</td>\n      <td>1982.0</td>\n      <td>actor,soundtrack,writer</td>\n      <td>tt0077975,tt0072562,tt0080455,tt0078723</td>\n    </tr>\n    <tr>\n      <th>4</th>\n      <td>nm0000005</td>\n      <td>Ingmar Bergman</td>\n      <td>1918.0</td>\n      <td>2007.0</td>\n      <td>writer,director,actor</td>\n      <td>tt0083922,tt0060827,tt0050976,tt0050986</td>\n    </tr>\n  </tbody>\n</table>\n</div>"
     },
     "execution_count": 10,
     "metadata": {},
     "output_type": "execute_result"
    }
   ],
   "source": [
    "names = pd.read_csv('data/name.basics.tsv.gz', compression='gzip', sep='\\t', na_values=\"\\\\N\")\n",
    "names.head()"
   ],
   "metadata": {
    "collapsed": false
   }
  },
  {
   "cell_type": "code",
   "execution_count": 11,
   "outputs": [
    {
     "data": {
      "text/plain": "                                         title           primaryName\n0                                   Carmencita  William K.L. Dickson\n1                             Blacksmith Scene  William K.L. Dickson\n2                            Chinese Opium Den  William K.L. Dickson\n3  Corbett and Courtney Before the Kinetograph  William K.L. Dickson\n4                            Fred Ott's Sneeze  William K.L. Dickson",
      "text/html": "<div>\n<style scoped>\n    .dataframe tbody tr th:only-of-type {\n        vertical-align: middle;\n    }\n\n    .dataframe tbody tr th {\n        vertical-align: top;\n    }\n\n    .dataframe thead th {\n        text-align: right;\n    }\n</style>\n<table border=\"1\" class=\"dataframe\">\n  <thead>\n    <tr style=\"text-align: right;\">\n      <th></th>\n      <th>title</th>\n      <th>primaryName</th>\n    </tr>\n  </thead>\n  <tbody>\n    <tr>\n      <th>0</th>\n      <td>Carmencita</td>\n      <td>William K.L. Dickson</td>\n    </tr>\n    <tr>\n      <th>1</th>\n      <td>Blacksmith Scene</td>\n      <td>William K.L. Dickson</td>\n    </tr>\n    <tr>\n      <th>2</th>\n      <td>Chinese Opium Den</td>\n      <td>William K.L. Dickson</td>\n    </tr>\n    <tr>\n      <th>3</th>\n      <td>Corbett and Courtney Before the Kinetograph</td>\n      <td>William K.L. Dickson</td>\n    </tr>\n    <tr>\n      <th>4</th>\n      <td>Fred Ott's Sneeze</td>\n      <td>William K.L. Dickson</td>\n    </tr>\n  </tbody>\n</table>\n</div>"
     },
     "execution_count": 11,
     "metadata": {},
     "output_type": "execute_result"
    }
   ],
   "source": [
    "directors = pd.merge(directors, names.rename(columns={'nconst' : 'directors'})[['directors', 'primaryName']],\n",
    "                     on='directors', how='inner')\n",
    "directors.drop('directors', axis=1, inplace=True)\n",
    "directors = directors.drop_duplicates()\n",
    "directors.head()"
   ],
   "metadata": {
    "collapsed": false
   }
  },
  {
   "cell_type": "code",
   "execution_count": 12,
   "outputs": [
    {
     "data": {
      "text/plain": "                                    title        primaryName\n0                              Miss Jerry    Alexander Black\n1                        Awakening of Rip  Washington Irving\n2                          Rip Van Winkle  Washington Irving\n6               Have You Got Any Castles?  Washington Irving\n7  The Adventures of Ichabod and Mr. Toad  Washington Irving",
      "text/html": "<div>\n<style scoped>\n    .dataframe tbody tr th:only-of-type {\n        vertical-align: middle;\n    }\n\n    .dataframe tbody tr th {\n        vertical-align: top;\n    }\n\n    .dataframe thead th {\n        text-align: right;\n    }\n</style>\n<table border=\"1\" class=\"dataframe\">\n  <thead>\n    <tr style=\"text-align: right;\">\n      <th></th>\n      <th>title</th>\n      <th>primaryName</th>\n    </tr>\n  </thead>\n  <tbody>\n    <tr>\n      <th>0</th>\n      <td>Miss Jerry</td>\n      <td>Alexander Black</td>\n    </tr>\n    <tr>\n      <th>1</th>\n      <td>Awakening of Rip</td>\n      <td>Washington Irving</td>\n    </tr>\n    <tr>\n      <th>2</th>\n      <td>Rip Van Winkle</td>\n      <td>Washington Irving</td>\n    </tr>\n    <tr>\n      <th>6</th>\n      <td>Have You Got Any Castles?</td>\n      <td>Washington Irving</td>\n    </tr>\n    <tr>\n      <th>7</th>\n      <td>The Adventures of Ichabod and Mr. Toad</td>\n      <td>Washington Irving</td>\n    </tr>\n  </tbody>\n</table>\n</div>"
     },
     "execution_count": 12,
     "metadata": {},
     "output_type": "execute_result"
    }
   ],
   "source": [
    "writers = pd.merge(writers, names.rename(columns={'nconst' : 'writers'})[['writers', 'primaryName']],\n",
    "                   on='writers', how='inner')\n",
    "writers.drop('writers', axis=1, inplace=True)\n",
    "writers = writers.drop_duplicates()\n",
    "writers.head()"
   ],
   "metadata": {
    "collapsed": false
   }
  },
  {
   "cell_type": "code",
   "execution_count": 13,
   "outputs": [],
   "source": [
    "## Free memory\n",
    "del names"
   ],
   "metadata": {
    "collapsed": false
   }
  },
  {
   "cell_type": "code",
   "execution_count": 3,
   "outputs": [
    {
     "data": {
      "text/plain": "        wiki_id                                     plot_summaries\n7777    7326436  Small-time gangster Ugo Piazza  gets released ...\n14881  14955031  Socialite Molly Lasch is released from prison ...\n31453   1412856  Gino  and Fiore  are Italian racketeers who co...\n10184   3214698  Around the turn of the 20th century, British a...\n28823  12642729  The city girl Kate falls in love with farmer L...\n23572  10566880  The title character is an innocent housekeeper...\n36215  14436640  Crystal Shackelford  lures two strangers, soli...\n40770   7955522  The plot of the special differs significantly ...\n2526   11014002  Plummer plays Fitz Wynn, a truly talented but ...\n25944   4213599  Duke Frederick  has usurped and deposed his ol...",
      "text/html": "<div>\n<style scoped>\n    .dataframe tbody tr th:only-of-type {\n        vertical-align: middle;\n    }\n\n    .dataframe tbody tr th {\n        vertical-align: top;\n    }\n\n    .dataframe thead th {\n        text-align: right;\n    }\n</style>\n<table border=\"1\" class=\"dataframe\">\n  <thead>\n    <tr style=\"text-align: right;\">\n      <th></th>\n      <th>wiki_id</th>\n      <th>plot_summaries</th>\n    </tr>\n  </thead>\n  <tbody>\n    <tr>\n      <th>7777</th>\n      <td>7326436</td>\n      <td>Small-time gangster Ugo Piazza  gets released ...</td>\n    </tr>\n    <tr>\n      <th>14881</th>\n      <td>14955031</td>\n      <td>Socialite Molly Lasch is released from prison ...</td>\n    </tr>\n    <tr>\n      <th>31453</th>\n      <td>1412856</td>\n      <td>Gino  and Fiore  are Italian racketeers who co...</td>\n    </tr>\n    <tr>\n      <th>10184</th>\n      <td>3214698</td>\n      <td>Around the turn of the 20th century, British a...</td>\n    </tr>\n    <tr>\n      <th>28823</th>\n      <td>12642729</td>\n      <td>The city girl Kate falls in love with farmer L...</td>\n    </tr>\n    <tr>\n      <th>23572</th>\n      <td>10566880</td>\n      <td>The title character is an innocent housekeeper...</td>\n    </tr>\n    <tr>\n      <th>36215</th>\n      <td>14436640</td>\n      <td>Crystal Shackelford  lures two strangers, soli...</td>\n    </tr>\n    <tr>\n      <th>40770</th>\n      <td>7955522</td>\n      <td>The plot of the special differs significantly ...</td>\n    </tr>\n    <tr>\n      <th>2526</th>\n      <td>11014002</td>\n      <td>Plummer plays Fitz Wynn, a truly talented but ...</td>\n    </tr>\n    <tr>\n      <th>25944</th>\n      <td>4213599</td>\n      <td>Duke Frederick  has usurped and deposed his ol...</td>\n    </tr>\n  </tbody>\n</table>\n</div>"
     },
     "execution_count": 3,
     "metadata": {},
     "output_type": "execute_result"
    }
   ],
   "source": [
    "plots = pd.read_csv(\"data/MovieSummaries/plot_summaries.txt\", sep=\"\\t\", header=0, names=['wiki_id', 'plot_summaries'])\n",
    "plots.sample(10)"
   ],
   "metadata": {
    "collapsed": false
   }
  },
  {
   "cell_type": "code",
   "execution_count": 4,
   "outputs": [
    {
     "data": {
      "text/plain": "<function spacy.pipeline.functions.merge_entities(doc: spacy.tokens.doc.Doc)>"
     },
     "execution_count": 4,
     "metadata": {},
     "output_type": "execute_result"
    }
   ],
   "source": [
    "nlp = spacy.load(\"en_core_web_sm\")\n",
    "nlp.add_pipe(\"merge_entities\") # Merge entities like ['David' 'Bowie'] to ['David Bowie']"
   ],
   "metadata": {
    "collapsed": false
   }
  },
  {
   "cell_type": "code",
   "execution_count": 15,
   "outputs": [],
   "source": [
    "def tag_adj(text):\n",
    "    doc = nlp(text)\n",
    "    noun_adj_pairs = []\n",
    "    for token in doc:\n",
    "        ## Is the word a proper noun / noun / pronoun\n",
    "        if token.pos_ in ('PROPN', 'NOUN', 'PRON'):\n",
    "            for child in token.children:\n",
    "                ## Is the child an adjectival modifier\n",
    "                if child.dep_ == 'amod':\n",
    "                    noun_adj_pairs.append((token, child))\n",
    "    return noun_adj_pairs"
   ],
   "metadata": {
    "collapsed": false
   }
  },
  {
   "cell_type": "code",
   "execution_count": 16,
   "outputs": [
    {
     "data": {
      "text/plain": "[(card, red), (envelope, blue), (girl, beautiful)]"
     },
     "execution_count": 16,
     "metadata": {},
     "output_type": "execute_result"
    }
   ],
   "source": [
    "tag_adj(\"There is a red card in the blue envelope and a beautiful girl.\")"
   ],
   "metadata": {
    "collapsed": false
   }
  },
  {
   "cell_type": "code",
   "execution_count": 8,
   "outputs": [
    {
     "data": {
      "text/plain": "[]"
     },
     "execution_count": 8,
     "metadata": {},
     "output_type": "execute_result"
    }
   ],
   "source": [
    "tag_adj(\"She is beautiful.\")"
   ],
   "metadata": {
    "collapsed": false
   }
  },
  {
   "cell_type": "code",
   "execution_count": 9,
   "outputs": [],
   "source": [
    "def tag_verb(text):\n",
    "    doc = nlp(text)\n",
    "    verbs = []\n",
    "    for possible_verb in doc:\n",
    "        if possible_verb.pos_ == 'VERB':\n",
    "            for possible_subject in possible_verb.children:\n",
    "                if possible_subject.dep_ == 'nsubj':\n",
    "                    verbs.append((possible_subject, possible_verb))\n",
    "                    break\n",
    "    return verbs"
   ],
   "metadata": {
    "collapsed": false
   }
  },
  {
   "cell_type": "code",
   "execution_count": 10,
   "outputs": [
    {
     "data": {
      "text/plain": "[(nation, consists),\n (district, provide),\n (tributes, fight),\n (who, gave),\n (she, starving),\n (He, warns),\n (who, train),\n (Peeta, reveals),\n (sponsors, provide),\n (she, discovers),\n (Peeta, meant),\n (he, said),\n (Games, begin),\n (Katniss, survives),\n (Peeta, forms),\n (They, find),\n (Rue, draws),\n (Katniss, drops),\n (Rue, cares),\n (she, recovers),\n (alliance, gathered),\n (Katniss, draw),\n (Cato, kills),\n (Katniss, runs),\n (she, hears),\n (She, finds),\n (Rue, trapped),\n (Marvel, throws),\n (she, dodges),\n (it, stab),\n (Katniss, shoots),\n (She, comforts),\n (she, gathers),\n (it, sparks),\n (Games, turning),\n (change, avoid),\n (tributes, win),\n (She, portrays),\n (announcer, proclaims),\n (thing, needs),\n (Peeta, begs),\n (Katniss, promises),\n (he, falls),\n (she, heads),\n (Clove, ambushes),\n (Thresh, kills),\n (He, spares),\n (medicine, works),\n (Foxface, dies),\n (she, stole),\n (Crane, changes),\n (They, kill),\n (they, encounter),\n (Katniss, wounds),\n (Katniss, shoots),\n (Peeta, tells),\n (she, gives),\n (they, commit),\n (Haymitch, warns),\n (she, made),\n (Snow, considers)]"
     },
     "execution_count": 10,
     "metadata": {},
     "output_type": "execute_result"
    }
   ],
   "source": [
    "tag_verb(plots.loc[0].plot_summaries)"
   ],
   "metadata": {
    "collapsed": false
   }
  },
  {
   "cell_type": "code",
   "execution_count": 11,
   "outputs": [
    {
     "data": {
      "text/plain": "[(Capitol, wealthy),\n (districts, poorer),\n (rebellion, past),\n (Hunger Games, annual),\n (survivor, sole),\n (Reaping, first),\n (Everdeen, 12-year-old),\n (sister, older),\n (tribute, other),\n (mentor, drunk),\n (Haymitch Abernathy, past),\n (academies, special),\n (Games, televised),\n (supplies, tempting),\n (alliance, uneasy),\n (tree, nearby),\n (nest, poisonous),\n (Rue, dying),\n (lovers, crossed),\n (riots, further),\n (district, same),\n (wound, infected),\n (tribute, other),\n (mobile, Peeta),\n (creatures, like),\n (death, prolonged),\n (Games, 74th),\n (enemies, powerful)]"
     },
     "execution_count": 11,
     "metadata": {},
     "output_type": "execute_result"
    }
   ],
   "source": [
    "tag_adj(plots.loc[0].plot_summaries)"
   ],
   "metadata": {
    "collapsed": false
   }
  },
  {
   "cell_type": "code",
   "execution_count": 17,
   "outputs": [
    {
     "ename": "KeyboardInterrupt",
     "evalue": "",
     "output_type": "error",
     "traceback": [
      "\u001B[1;31m---------------------------------------------------------------------------\u001B[0m",
      "\u001B[1;31mKeyboardInterrupt\u001B[0m                         Traceback (most recent call last)",
      "Cell \u001B[1;32mIn [17], line 1\u001B[0m\n\u001B[1;32m----> 1\u001B[0m verb \u001B[38;5;241m=\u001B[39m pd\u001B[38;5;241m.\u001B[39mconcat([plots\u001B[38;5;241m.\u001B[39mcopy(), \u001B[43mplots\u001B[49m\u001B[38;5;241;43m.\u001B[39;49m\u001B[43mplot_summaries\u001B[49m\u001B[38;5;241;43m.\u001B[39;49m\u001B[43mapply\u001B[49m\u001B[43m(\u001B[49m\u001B[43mtag_verb\u001B[49m\u001B[43m)\u001B[49m], axis\u001B[38;5;241m=\u001B[39m\u001B[38;5;241m1\u001B[39m)\n\u001B[0;32m      2\u001B[0m verb\u001B[38;5;241m.\u001B[39mhead()\n",
      "File \u001B[1;32mC:\\ProgramData\\Anaconda3\\envs\\py310\\lib\\site-packages\\pandas\\core\\series.py:4433\u001B[0m, in \u001B[0;36mSeries.apply\u001B[1;34m(self, func, convert_dtype, args, **kwargs)\u001B[0m\n\u001B[0;32m   4323\u001B[0m \u001B[38;5;28;01mdef\u001B[39;00m \u001B[38;5;21mapply\u001B[39m(\n\u001B[0;32m   4324\u001B[0m     \u001B[38;5;28mself\u001B[39m,\n\u001B[0;32m   4325\u001B[0m     func: AggFuncType,\n\u001B[1;32m   (...)\u001B[0m\n\u001B[0;32m   4328\u001B[0m     \u001B[38;5;241m*\u001B[39m\u001B[38;5;241m*\u001B[39mkwargs,\n\u001B[0;32m   4329\u001B[0m ) \u001B[38;5;241m-\u001B[39m\u001B[38;5;241m>\u001B[39m DataFrame \u001B[38;5;241m|\u001B[39m Series:\n\u001B[0;32m   4330\u001B[0m     \u001B[38;5;124;03m\"\"\"\u001B[39;00m\n\u001B[0;32m   4331\u001B[0m \u001B[38;5;124;03m    Invoke function on values of Series.\u001B[39;00m\n\u001B[0;32m   4332\u001B[0m \n\u001B[1;32m   (...)\u001B[0m\n\u001B[0;32m   4431\u001B[0m \u001B[38;5;124;03m    dtype: float64\u001B[39;00m\n\u001B[0;32m   4432\u001B[0m \u001B[38;5;124;03m    \"\"\"\u001B[39;00m\n\u001B[1;32m-> 4433\u001B[0m     \u001B[38;5;28;01mreturn\u001B[39;00m \u001B[43mSeriesApply\u001B[49m\u001B[43m(\u001B[49m\u001B[38;5;28;43mself\u001B[39;49m\u001B[43m,\u001B[49m\u001B[43m \u001B[49m\u001B[43mfunc\u001B[49m\u001B[43m,\u001B[49m\u001B[43m \u001B[49m\u001B[43mconvert_dtype\u001B[49m\u001B[43m,\u001B[49m\u001B[43m \u001B[49m\u001B[43margs\u001B[49m\u001B[43m,\u001B[49m\u001B[43m \u001B[49m\u001B[43mkwargs\u001B[49m\u001B[43m)\u001B[49m\u001B[38;5;241;43m.\u001B[39;49m\u001B[43mapply\u001B[49m\u001B[43m(\u001B[49m\u001B[43m)\u001B[49m\n",
      "File \u001B[1;32mC:\\ProgramData\\Anaconda3\\envs\\py310\\lib\\site-packages\\pandas\\core\\apply.py:1088\u001B[0m, in \u001B[0;36mSeriesApply.apply\u001B[1;34m(self)\u001B[0m\n\u001B[0;32m   1084\u001B[0m \u001B[38;5;28;01mif\u001B[39;00m \u001B[38;5;28misinstance\u001B[39m(\u001B[38;5;28mself\u001B[39m\u001B[38;5;241m.\u001B[39mf, \u001B[38;5;28mstr\u001B[39m):\n\u001B[0;32m   1085\u001B[0m     \u001B[38;5;66;03m# if we are a string, try to dispatch\u001B[39;00m\n\u001B[0;32m   1086\u001B[0m     \u001B[38;5;28;01mreturn\u001B[39;00m \u001B[38;5;28mself\u001B[39m\u001B[38;5;241m.\u001B[39mapply_str()\n\u001B[1;32m-> 1088\u001B[0m \u001B[38;5;28;01mreturn\u001B[39;00m \u001B[38;5;28;43mself\u001B[39;49m\u001B[38;5;241;43m.\u001B[39;49m\u001B[43mapply_standard\u001B[49m\u001B[43m(\u001B[49m\u001B[43m)\u001B[49m\n",
      "File \u001B[1;32mC:\\ProgramData\\Anaconda3\\envs\\py310\\lib\\site-packages\\pandas\\core\\apply.py:1143\u001B[0m, in \u001B[0;36mSeriesApply.apply_standard\u001B[1;34m(self)\u001B[0m\n\u001B[0;32m   1137\u001B[0m         values \u001B[38;5;241m=\u001B[39m obj\u001B[38;5;241m.\u001B[39mastype(\u001B[38;5;28mobject\u001B[39m)\u001B[38;5;241m.\u001B[39m_values\n\u001B[0;32m   1138\u001B[0m         \u001B[38;5;66;03m# error: Argument 2 to \"map_infer\" has incompatible type\u001B[39;00m\n\u001B[0;32m   1139\u001B[0m         \u001B[38;5;66;03m# \"Union[Callable[..., Any], str, List[Union[Callable[..., Any], str]],\u001B[39;00m\n\u001B[0;32m   1140\u001B[0m         \u001B[38;5;66;03m# Dict[Hashable, Union[Union[Callable[..., Any], str],\u001B[39;00m\n\u001B[0;32m   1141\u001B[0m         \u001B[38;5;66;03m# List[Union[Callable[..., Any], str]]]]]\"; expected\u001B[39;00m\n\u001B[0;32m   1142\u001B[0m         \u001B[38;5;66;03m# \"Callable[[Any], Any]\"\u001B[39;00m\n\u001B[1;32m-> 1143\u001B[0m         mapped \u001B[38;5;241m=\u001B[39m \u001B[43mlib\u001B[49m\u001B[38;5;241;43m.\u001B[39;49m\u001B[43mmap_infer\u001B[49m\u001B[43m(\u001B[49m\n\u001B[0;32m   1144\u001B[0m \u001B[43m            \u001B[49m\u001B[43mvalues\u001B[49m\u001B[43m,\u001B[49m\n\u001B[0;32m   1145\u001B[0m \u001B[43m            \u001B[49m\u001B[43mf\u001B[49m\u001B[43m,\u001B[49m\u001B[43m  \u001B[49m\u001B[38;5;66;43;03m# type: ignore[arg-type]\u001B[39;49;00m\n\u001B[0;32m   1146\u001B[0m \u001B[43m            \u001B[49m\u001B[43mconvert\u001B[49m\u001B[38;5;241;43m=\u001B[39;49m\u001B[38;5;28;43mself\u001B[39;49m\u001B[38;5;241;43m.\u001B[39;49m\u001B[43mconvert_dtype\u001B[49m\u001B[43m,\u001B[49m\n\u001B[0;32m   1147\u001B[0m \u001B[43m        \u001B[49m\u001B[43m)\u001B[49m\n\u001B[0;32m   1149\u001B[0m \u001B[38;5;28;01mif\u001B[39;00m \u001B[38;5;28mlen\u001B[39m(mapped) \u001B[38;5;129;01mand\u001B[39;00m \u001B[38;5;28misinstance\u001B[39m(mapped[\u001B[38;5;241m0\u001B[39m], ABCSeries):\n\u001B[0;32m   1150\u001B[0m     \u001B[38;5;66;03m# GH#43986 Need to do list(mapped) in order to get treated as nested\u001B[39;00m\n\u001B[0;32m   1151\u001B[0m     \u001B[38;5;66;03m#  See also GH#25959 regarding EA support\u001B[39;00m\n\u001B[0;32m   1152\u001B[0m     \u001B[38;5;28;01mreturn\u001B[39;00m obj\u001B[38;5;241m.\u001B[39m_constructor_expanddim(\u001B[38;5;28mlist\u001B[39m(mapped), index\u001B[38;5;241m=\u001B[39mobj\u001B[38;5;241m.\u001B[39mindex)\n",
      "File \u001B[1;32mC:\\ProgramData\\Anaconda3\\envs\\py310\\lib\\site-packages\\pandas\\_libs\\lib.pyx:2870\u001B[0m, in \u001B[0;36mpandas._libs.lib.map_infer\u001B[1;34m()\u001B[0m\n",
      "Cell \u001B[1;32mIn [9], line 2\u001B[0m, in \u001B[0;36mtag_verb\u001B[1;34m(text)\u001B[0m\n\u001B[0;32m      1\u001B[0m \u001B[38;5;28;01mdef\u001B[39;00m \u001B[38;5;21mtag_verb\u001B[39m(text):\n\u001B[1;32m----> 2\u001B[0m     doc \u001B[38;5;241m=\u001B[39m \u001B[43mnlp\u001B[49m\u001B[43m(\u001B[49m\u001B[43mtext\u001B[49m\u001B[43m)\u001B[49m\n\u001B[0;32m      3\u001B[0m     verbs \u001B[38;5;241m=\u001B[39m []\n\u001B[0;32m      4\u001B[0m     \u001B[38;5;28;01mfor\u001B[39;00m possible_verb \u001B[38;5;129;01min\u001B[39;00m doc:\n",
      "File \u001B[1;32mC:\\ProgramData\\Anaconda3\\envs\\py310\\lib\\site-packages\\spacy\\language.py:1020\u001B[0m, in \u001B[0;36mLanguage.__call__\u001B[1;34m(self, text, disable, component_cfg)\u001B[0m\n\u001B[0;32m   1018\u001B[0m     error_handler \u001B[38;5;241m=\u001B[39m proc\u001B[38;5;241m.\u001B[39mget_error_handler()\n\u001B[0;32m   1019\u001B[0m \u001B[38;5;28;01mtry\u001B[39;00m:\n\u001B[1;32m-> 1020\u001B[0m     doc \u001B[38;5;241m=\u001B[39m proc(doc, \u001B[38;5;241m*\u001B[39m\u001B[38;5;241m*\u001B[39mcomponent_cfg\u001B[38;5;241m.\u001B[39mget(name, {}))  \u001B[38;5;66;03m# type: ignore[call-arg]\u001B[39;00m\n\u001B[0;32m   1021\u001B[0m \u001B[38;5;28;01mexcept\u001B[39;00m \u001B[38;5;167;01mKeyError\u001B[39;00m \u001B[38;5;28;01mas\u001B[39;00m e:\n\u001B[0;32m   1022\u001B[0m     \u001B[38;5;66;03m# This typically happens if a component is not initialized\u001B[39;00m\n\u001B[0;32m   1023\u001B[0m     \u001B[38;5;28;01mraise\u001B[39;00m \u001B[38;5;167;01mValueError\u001B[39;00m(Errors\u001B[38;5;241m.\u001B[39mE109\u001B[38;5;241m.\u001B[39mformat(name\u001B[38;5;241m=\u001B[39mname)) \u001B[38;5;28;01mfrom\u001B[39;00m \u001B[38;5;21;01me\u001B[39;00m\n",
      "File \u001B[1;32mC:\\ProgramData\\Anaconda3\\envs\\py310\\lib\\site-packages\\spacy\\pipeline\\trainable_pipe.pyx:53\u001B[0m, in \u001B[0;36mspacy.pipeline.trainable_pipe.TrainablePipe.__call__\u001B[1;34m()\u001B[0m\n",
      "File \u001B[1;32mC:\\ProgramData\\Anaconda3\\envs\\py310\\lib\\site-packages\\spacy\\pipeline\\transition_parser.pyx:326\u001B[0m, in \u001B[0;36mspacy.pipeline.transition_parser.Parser.set_annotations\u001B[1;34m()\u001B[0m\n",
      "File \u001B[1;32mC:\\ProgramData\\Anaconda3\\envs\\py310\\lib\\site-packages\\spacy\\pipeline\\_parser_internals\\ner.pyx:271\u001B[0m, in \u001B[0;36mspacy.pipeline._parser_internals.ner.BiluoPushDown.set_annotations\u001B[1;34m()\u001B[0m\n",
      "File \u001B[1;32mC:\\ProgramData\\Anaconda3\\envs\\py310\\lib\\site-packages\\spacy\\tokens\\doc.pyx:777\u001B[0m, in \u001B[0;36mspacy.tokens.doc.Doc.set_ents\u001B[1;34m()\u001B[0m\n",
      "File \u001B[1;32mC:\\ProgramData\\Anaconda3\\envs\\py310\\lib\\site-packages\\spacy\\tokens\\doc.pyx:105\u001B[0m, in \u001B[0;36mspacy.tokens.doc.SetEntsDefault.values\u001B[1;34m()\u001B[0m\n",
      "File \u001B[1;32mC:\\ProgramData\\Anaconda3\\envs\\py310\\lib\\enum.py:451\u001B[0m, in \u001B[0;36mEnumMeta.__members__\u001B[1;34m(cls)\u001B[0m\n\u001B[0;32m    448\u001B[0m \u001B[38;5;28;01mdef\u001B[39;00m \u001B[38;5;21m__len__\u001B[39m(\u001B[38;5;28mcls\u001B[39m):\n\u001B[0;32m    449\u001B[0m     \u001B[38;5;28;01mreturn\u001B[39;00m \u001B[38;5;28mlen\u001B[39m(\u001B[38;5;28mcls\u001B[39m\u001B[38;5;241m.\u001B[39m_member_names_)\n\u001B[1;32m--> 451\u001B[0m \u001B[38;5;129m@property\u001B[39m\n\u001B[0;32m    452\u001B[0m \u001B[38;5;28;01mdef\u001B[39;00m \u001B[38;5;21m__members__\u001B[39m(\u001B[38;5;28mcls\u001B[39m):\n\u001B[0;32m    453\u001B[0m     \u001B[38;5;124;03m\"\"\"\u001B[39;00m\n\u001B[0;32m    454\u001B[0m \u001B[38;5;124;03m    Returns a mapping of member name->value.\u001B[39;00m\n\u001B[0;32m    455\u001B[0m \n\u001B[0;32m    456\u001B[0m \u001B[38;5;124;03m    This mapping lists all enum members, including aliases. Note that this\u001B[39;00m\n\u001B[0;32m    457\u001B[0m \u001B[38;5;124;03m    is a read-only view of the internal mapping.\u001B[39;00m\n\u001B[0;32m    458\u001B[0m \u001B[38;5;124;03m    \"\"\"\u001B[39;00m\n\u001B[0;32m    459\u001B[0m     \u001B[38;5;28;01mreturn\u001B[39;00m MappingProxyType(\u001B[38;5;28mcls\u001B[39m\u001B[38;5;241m.\u001B[39m_member_map_)\n",
      "\u001B[1;31mKeyboardInterrupt\u001B[0m: "
     ]
    }
   ],
   "source": [
    "verb = pd.concat([plots.copy(), plots.plot_summaries.apply(tag_verb)], axis=1)\n",
    "verb.head()"
   ],
   "metadata": {
    "collapsed": false
   }
  },
  {
   "cell_type": "code",
   "execution_count": null,
   "outputs": [],
   "source": [
    "adj = pd.concat([plots.copy(), plots.plot_summaries.apply(tag_adj)], axis=1)\n",
    "adj.head()"
   ],
   "metadata": {
    "collapsed": false
   }
  }
 ],
 "metadata": {
  "kernelspec": {
   "display_name": "Python 3",
   "language": "python",
   "name": "python3"
  },
  "language_info": {
   "codemirror_mode": {
    "name": "ipython",
    "version": 2
   },
   "file_extension": ".py",
   "mimetype": "text/x-python",
   "name": "python",
   "nbconvert_exporter": "python",
   "pygments_lexer": "ipython2",
   "version": "2.7.6"
  }
 },
 "nbformat": 4,
 "nbformat_minor": 0
}
