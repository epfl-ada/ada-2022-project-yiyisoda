{
 "cells": [
  {
   "cell_type": "markdown",
   "id": "c046eefe-d1d7-48da-9453-70ade88128ff",
   "metadata": {},
   "source": [
    "# ADA project: Milestone 2\n",
    "### Team: YiYiSoDa - Yinghui Jiang, Yichen Wang, Sophia Ly, David Chaves"
   ]
  },
  {
   "cell_type": "code",
   "execution_count": 1,
   "id": "13f852a3-92cc-4d40-bd61-aab122583eeb",
   "metadata": {},
   "outputs": [],
   "source": [
    "import seaborn as sns\n",
    "from IPython.display import display, HTML\n",
    "import matplotlib.pyplot as plt\n",
    "import scipy.stats as stats\n",
    "import pandas as pd\n",
    "import numpy as np\n",
    "import tarfile\n",
    "import re\n",
    "import gzip\n",
    "import spacy\n",
    "\n",
    "data_folder = './data/MovieSummaries/'\n",
    "corenlp_folder = './data/corenlp_plot_summaries/'"
   ]
  },
  {
   "cell_type": "markdown",
   "id": "c5813c25-93a6-4d09-9c10-22a0618621da",
   "metadata": {},
   "source": [
    "### Task 1: Explore the dataset"
   ]
  },
  {
   "cell_type": "markdown",
   "id": "3fc96c30-d336-48f5-97ae-1a30e95c7593",
   "metadata": {},
   "source": [
    "#### 1.1 Load the data"
   ]
  },
  {
   "cell_type": "markdown",
   "id": "85f1ad4b-ca8d-401b-b8a7-1ce4ee9b409f",
   "metadata": {},
   "source": [
    "#### movie.metadata.tsv.gz\n",
    "\n",
    "\n",
    "Metadata for 81,741 movies, extracted from the Noverber 4, 2012 dump of Freebase.  Tab-separated; columns:\n",
    "\n",
    "1. Wikipedia movie ID\n",
    "2. Freebase movie ID\n",
    "3. Movie name\n",
    "4. Movie release date\n",
    "5. Movie box office revenue\n",
    "6. Movie runtime\n",
    "7. Movie languages (Freebase ID:name tuples)\n",
    "8. Movie countries (Freebase ID:name tuples)\n",
    "9. Movie genres (Freebase ID:name tuples)\n"
   ]
  },
  {
   "cell_type": "code",
   "execution_count": 2,
   "id": "5166e01e-48ac-49f7-a280-315bdd2f1156",
   "metadata": {},
   "outputs": [
    {
     "data": {
      "text/plain": "   wiki_movie_id freebase_movie_id  \\\n0         975900         /m/03vyhn   \n1        3196793         /m/08yl5d   \n2       28463795        /m/0crgdbh   \n3        9363483        /m/0285_cd   \n4         261236         /m/01mrr1   \n\n                                          movie_name release_date  \\\n0                                     Ghosts of Mars   2001-08-24   \n1  Getting Away with Murder: The JonBenét Ramsey ...   2000-02-16   \n2                                        Brun bitter   1988-01-01   \n3                                   White Of The Eye   1987-01-01   \n4                                  A Woman in Flames   1983-01-01   \n\n   box_office_revenue  movie_runtime                           languages  \\\n0          14010832.0           98.0  {\"/m/02h40lc\": \"English Language\"}   \n1                 NaN           95.0  {\"/m/02h40lc\": \"English Language\"}   \n2                 NaN           83.0  {\"/m/05f_3\": \"Norwegian Language\"}   \n3                 NaN          110.0  {\"/m/02h40lc\": \"English Language\"}   \n4                 NaN          106.0   {\"/m/04306rv\": \"German Language\"}   \n\n                                   countries  \\\n0  {\"/m/09c7w0\": \"United States of America\"}   \n1  {\"/m/09c7w0\": \"United States of America\"}   \n2                     {\"/m/05b4w\": \"Norway\"}   \n3             {\"/m/07ssc\": \"United Kingdom\"}   \n4                    {\"/m/0345h\": \"Germany\"}   \n\n                                              genres  \n0  {\"/m/01jfsb\": \"Thriller\", \"/m/06n90\": \"Science...  \n1  {\"/m/02n4kr\": \"Mystery\", \"/m/03bxz7\": \"Biograp...  \n2  {\"/m/0lsxr\": \"Crime Fiction\", \"/m/07s9rl0\": \"D...  \n3  {\"/m/01jfsb\": \"Thriller\", \"/m/0glj9q\": \"Erotic...  \n4                            {\"/m/07s9rl0\": \"Drama\"}  ",
      "text/html": "<div>\n<style scoped>\n    .dataframe tbody tr th:only-of-type {\n        vertical-align: middle;\n    }\n\n    .dataframe tbody tr th {\n        vertical-align: top;\n    }\n\n    .dataframe thead th {\n        text-align: right;\n    }\n</style>\n<table border=\"1\" class=\"dataframe\">\n  <thead>\n    <tr style=\"text-align: right;\">\n      <th></th>\n      <th>wiki_movie_id</th>\n      <th>freebase_movie_id</th>\n      <th>movie_name</th>\n      <th>release_date</th>\n      <th>box_office_revenue</th>\n      <th>movie_runtime</th>\n      <th>languages</th>\n      <th>countries</th>\n      <th>genres</th>\n    </tr>\n  </thead>\n  <tbody>\n    <tr>\n      <th>0</th>\n      <td>975900</td>\n      <td>/m/03vyhn</td>\n      <td>Ghosts of Mars</td>\n      <td>2001-08-24</td>\n      <td>14010832.0</td>\n      <td>98.0</td>\n      <td>{\"/m/02h40lc\": \"English Language\"}</td>\n      <td>{\"/m/09c7w0\": \"United States of America\"}</td>\n      <td>{\"/m/01jfsb\": \"Thriller\", \"/m/06n90\": \"Science...</td>\n    </tr>\n    <tr>\n      <th>1</th>\n      <td>3196793</td>\n      <td>/m/08yl5d</td>\n      <td>Getting Away with Murder: The JonBenét Ramsey ...</td>\n      <td>2000-02-16</td>\n      <td>NaN</td>\n      <td>95.0</td>\n      <td>{\"/m/02h40lc\": \"English Language\"}</td>\n      <td>{\"/m/09c7w0\": \"United States of America\"}</td>\n      <td>{\"/m/02n4kr\": \"Mystery\", \"/m/03bxz7\": \"Biograp...</td>\n    </tr>\n    <tr>\n      <th>2</th>\n      <td>28463795</td>\n      <td>/m/0crgdbh</td>\n      <td>Brun bitter</td>\n      <td>1988-01-01</td>\n      <td>NaN</td>\n      <td>83.0</td>\n      <td>{\"/m/05f_3\": \"Norwegian Language\"}</td>\n      <td>{\"/m/05b4w\": \"Norway\"}</td>\n      <td>{\"/m/0lsxr\": \"Crime Fiction\", \"/m/07s9rl0\": \"D...</td>\n    </tr>\n    <tr>\n      <th>3</th>\n      <td>9363483</td>\n      <td>/m/0285_cd</td>\n      <td>White Of The Eye</td>\n      <td>1987-01-01</td>\n      <td>NaN</td>\n      <td>110.0</td>\n      <td>{\"/m/02h40lc\": \"English Language\"}</td>\n      <td>{\"/m/07ssc\": \"United Kingdom\"}</td>\n      <td>{\"/m/01jfsb\": \"Thriller\", \"/m/0glj9q\": \"Erotic...</td>\n    </tr>\n    <tr>\n      <th>4</th>\n      <td>261236</td>\n      <td>/m/01mrr1</td>\n      <td>A Woman in Flames</td>\n      <td>1983-01-01</td>\n      <td>NaN</td>\n      <td>106.0</td>\n      <td>{\"/m/04306rv\": \"German Language\"}</td>\n      <td>{\"/m/0345h\": \"Germany\"}</td>\n      <td>{\"/m/07s9rl0\": \"Drama\"}</td>\n    </tr>\n  </tbody>\n</table>\n</div>"
     },
     "execution_count": 2,
     "metadata": {},
     "output_type": "execute_result"
    }
   ],
   "source": [
    "moives = data_folder + 'movie.metadata.tsv'\n",
    "moives_cols = ['wiki_movie_id', 'freebase_movie_id', 'movie_name','release_date','box_office_revenue',\n",
    "              'movie_runtime', 'languages', 'countries','genres']\n",
    "\n",
    "movies = pd.read_csv(moives, sep='\\t', names=moives_cols, parse_dates=[\"release_date\"], date_parser=lambda x: pd.to_datetime(x, errors=\"coerce\"))\n",
    "movies.head()"
   ]
  },
  {
   "cell_type": "code",
   "execution_count": 3,
   "id": "c0717ea4-b5d8-4ece-93ee-9d4d4786eee6",
   "metadata": {},
   "outputs": [],
   "source": [
    "# TODO\n",
    "# relational table between movies with lauguages, countries and genres.\n",
    "# keep wiki_movie_id, lauguages, countries, genres\n"
   ]
  },
  {
   "cell_type": "markdown",
   "id": "b4fd835e-e6b5-4192-a470-a866755ede75",
   "metadata": {},
   "source": [
    "#### character.metadata.tsv.gz\n",
    "\n",
    "Metadata for 450,669 characters aligned to the movies above, extracted from the Noverber 4, 2012 dump of Freebase.  Tab-separated; columns:\n",
    "\n",
    "1. Wikipedia movie ID\n",
    "2. Freebase movie ID\n",
    "3. Movie release date\n",
    "4. Character name\n",
    "5. Actor date of birth\n",
    "6. Actor gender\n",
    "7. Actor height (in meters)\n",
    "8. Actor ethnicity (Freebase ID)\n",
    "9. Actor name\n",
    "10. Actor age at movie release\n",
    "11. Freebase character/actor map ID\n",
    "12. Freebase character ID\n",
    "13. Freebase actor ID\n"
   ]
  },
  {
   "cell_type": "code",
   "execution_count": 4,
   "id": "4796f0a1-35be-4588-ac8e-863d3640891a",
   "metadata": {},
   "outputs": [
    {
     "data": {
      "text/plain": "   wiki_movie_id freebase_movie_id release_date              character_name  \\\n0         975900         /m/03vyhn   2001-08-24                    Akooshay   \n1         975900         /m/03vyhn   2001-08-24  Lieutenant Melanie Ballard   \n2         975900         /m/03vyhn   2001-08-24         Desolation Williams   \n3         975900         /m/03vyhn   2001-08-24          Sgt Jericho Butler   \n4         975900         /m/03vyhn   2001-08-24             Bashira Kincaid   \n\n  actor_date_of_birth actor_gender  height actor_ethnicity  \\\n0          1958-08-26            F   1.620             NaN   \n1          1974-08-15            F   1.780      /m/044038p   \n2          1969-06-15            M   1.727         /m/0x67   \n3          1967-09-12            M   1.750             NaN   \n4          1977-09-25            F   1.650             NaN   \n\n           actor_name  actor_age_at_release freebase_map_id  \\\n0      Wanda De Jesus                  42.0      /m/0bgchxw   \n1  Natasha Henstridge                  27.0       /m/0jys3m   \n2            Ice Cube                  32.0       /m/0jys3g   \n3       Jason Statham                  33.0      /m/02vchl6   \n4         Clea DuVall                  23.0      /m/02vbb3r   \n\n  freebase_character_id freebase_actor_id  \n0            /m/0bgcj3x        /m/03wcfv7  \n1            /m/0bgchn4         /m/0346l4  \n2            /m/0bgchn_        /m/01vw26l  \n3            /m/0bgchnq         /m/034hyc  \n4            /m/0bgchp9         /m/01y9xg  ",
      "text/html": "<div>\n<style scoped>\n    .dataframe tbody tr th:only-of-type {\n        vertical-align: middle;\n    }\n\n    .dataframe tbody tr th {\n        vertical-align: top;\n    }\n\n    .dataframe thead th {\n        text-align: right;\n    }\n</style>\n<table border=\"1\" class=\"dataframe\">\n  <thead>\n    <tr style=\"text-align: right;\">\n      <th></th>\n      <th>wiki_movie_id</th>\n      <th>freebase_movie_id</th>\n      <th>release_date</th>\n      <th>character_name</th>\n      <th>actor_date_of_birth</th>\n      <th>actor_gender</th>\n      <th>height</th>\n      <th>actor_ethnicity</th>\n      <th>actor_name</th>\n      <th>actor_age_at_release</th>\n      <th>freebase_map_id</th>\n      <th>freebase_character_id</th>\n      <th>freebase_actor_id</th>\n    </tr>\n  </thead>\n  <tbody>\n    <tr>\n      <th>0</th>\n      <td>975900</td>\n      <td>/m/03vyhn</td>\n      <td>2001-08-24</td>\n      <td>Akooshay</td>\n      <td>1958-08-26</td>\n      <td>F</td>\n      <td>1.620</td>\n      <td>NaN</td>\n      <td>Wanda De Jesus</td>\n      <td>42.0</td>\n      <td>/m/0bgchxw</td>\n      <td>/m/0bgcj3x</td>\n      <td>/m/03wcfv7</td>\n    </tr>\n    <tr>\n      <th>1</th>\n      <td>975900</td>\n      <td>/m/03vyhn</td>\n      <td>2001-08-24</td>\n      <td>Lieutenant Melanie Ballard</td>\n      <td>1974-08-15</td>\n      <td>F</td>\n      <td>1.780</td>\n      <td>/m/044038p</td>\n      <td>Natasha Henstridge</td>\n      <td>27.0</td>\n      <td>/m/0jys3m</td>\n      <td>/m/0bgchn4</td>\n      <td>/m/0346l4</td>\n    </tr>\n    <tr>\n      <th>2</th>\n      <td>975900</td>\n      <td>/m/03vyhn</td>\n      <td>2001-08-24</td>\n      <td>Desolation Williams</td>\n      <td>1969-06-15</td>\n      <td>M</td>\n      <td>1.727</td>\n      <td>/m/0x67</td>\n      <td>Ice Cube</td>\n      <td>32.0</td>\n      <td>/m/0jys3g</td>\n      <td>/m/0bgchn_</td>\n      <td>/m/01vw26l</td>\n    </tr>\n    <tr>\n      <th>3</th>\n      <td>975900</td>\n      <td>/m/03vyhn</td>\n      <td>2001-08-24</td>\n      <td>Sgt Jericho Butler</td>\n      <td>1967-09-12</td>\n      <td>M</td>\n      <td>1.750</td>\n      <td>NaN</td>\n      <td>Jason Statham</td>\n      <td>33.0</td>\n      <td>/m/02vchl6</td>\n      <td>/m/0bgchnq</td>\n      <td>/m/034hyc</td>\n    </tr>\n    <tr>\n      <th>4</th>\n      <td>975900</td>\n      <td>/m/03vyhn</td>\n      <td>2001-08-24</td>\n      <td>Bashira Kincaid</td>\n      <td>1977-09-25</td>\n      <td>F</td>\n      <td>1.650</td>\n      <td>NaN</td>\n      <td>Clea DuVall</td>\n      <td>23.0</td>\n      <td>/m/02vbb3r</td>\n      <td>/m/0bgchp9</td>\n      <td>/m/01y9xg</td>\n    </tr>\n  </tbody>\n</table>\n</div>"
     },
     "execution_count": 4,
     "metadata": {},
     "output_type": "execute_result"
    }
   ],
   "source": [
    "characters = data_folder + 'character.metadata.tsv'\n",
    "char_cols = ['wiki_movie_id', 'freebase_movie_id', 'release_date', 'character_name', 'actor_date_of_birth', \n",
    "             'actor_gender', 'height', 'actor_ethnicity', 'actor_name', 'actor_age_at_release', 'freebase_map_id', 'freebase_character_id', 'freebase_actor_id']\n",
    "characters = pd.read_csv(characters, sep='\\t', names=char_cols, parse_dates=[\"release_date\"], date_parser=lambda x: pd.to_datetime(x, errors=\"coerce\"))\n",
    "characters.head()"
   ]
  },
  {
   "cell_type": "markdown",
   "id": "ec6e04a4-d115-4d25-8089-422fec1415ca",
   "metadata": {
    "tags": []
   },
   "source": [
    "#### plot_summaries.txt\n",
    "\n",
    "Plot summaries of 42,306 movies extracted from the November 2, 2012 dump of English-language Wikipedia.  Each line contains the Wikipedia movie ID (which indexes into movie.metadata.tsv) followed by the summary."
   ]
  },
  {
   "cell_type": "code",
   "execution_count": 5,
   "id": "a154ad37-bafc-4f89-94ee-f8c7d43534ae",
   "metadata": {},
   "outputs": [
    {
     "data": {
      "text/plain": "   wiki_movie_id                                               plot\n0       23890098  Shlykov, a hard-working taxi driver and Lyosha...\n1       31186339  The nation of Panem consists of a wealthy Capi...\n2       20663735  Poovalli Induchoodan  is sentenced for six yea...\n3        2231378  The Lemon Drop Kid , a New York City swindler,...\n4         595909  Seventh-day Adventist Church pastor Michael Ch...",
      "text/html": "<div>\n<style scoped>\n    .dataframe tbody tr th:only-of-type {\n        vertical-align: middle;\n    }\n\n    .dataframe tbody tr th {\n        vertical-align: top;\n    }\n\n    .dataframe thead th {\n        text-align: right;\n    }\n</style>\n<table border=\"1\" class=\"dataframe\">\n  <thead>\n    <tr style=\"text-align: right;\">\n      <th></th>\n      <th>wiki_movie_id</th>\n      <th>plot</th>\n    </tr>\n  </thead>\n  <tbody>\n    <tr>\n      <th>0</th>\n      <td>23890098</td>\n      <td>Shlykov, a hard-working taxi driver and Lyosha...</td>\n    </tr>\n    <tr>\n      <th>1</th>\n      <td>31186339</td>\n      <td>The nation of Panem consists of a wealthy Capi...</td>\n    </tr>\n    <tr>\n      <th>2</th>\n      <td>20663735</td>\n      <td>Poovalli Induchoodan  is sentenced for six yea...</td>\n    </tr>\n    <tr>\n      <th>3</th>\n      <td>2231378</td>\n      <td>The Lemon Drop Kid , a New York City swindler,...</td>\n    </tr>\n    <tr>\n      <th>4</th>\n      <td>595909</td>\n      <td>Seventh-day Adventist Church pastor Michael Ch...</td>\n    </tr>\n  </tbody>\n</table>\n</div>"
     },
     "execution_count": 5,
     "metadata": {},
     "output_type": "execute_result"
    }
   ],
   "source": [
    "plots =  pd.read_csv(data_folder + 'plot_summaries.txt', sep = '\\t', header=None, names=('wiki_movie_id','plot'))\n",
    "plots.head()"
   ]
  },
  {
   "cell_type": "markdown",
   "id": "62692c1f-16fc-4a0a-bb24-85c391eebe9f",
   "metadata": {},
   "source": [
    "#### tvtropes.clusters.txt\n",
    "\n",
    "72 character types drawn from tvtropes.com, along with 501 instances of those types.  The ID field indexes into the Freebase character/actor map ID in character.metadata.tsv."
   ]
  },
  {
   "cell_type": "code",
   "execution_count": 6,
   "id": "083a83c8-3a65-42d1-ad4f-c3f80277ab15",
   "metadata": {},
   "outputs": [
    {
     "data": {
      "text/plain": "                 char_type                  char_name   movie_name  \\\n0  absent_minded_professor  Professor Philip Brainard      Flubber   \n1  absent_minded_professor         Professor Keenbean  Richie Rich   \n2  absent_minded_professor         Dr. Reinhardt Lane   The Shadow   \n3  absent_minded_professor         Dr. Harold Medford        Them!   \n4  absent_minded_professor             Daniel Jackson     Stargate   \n\n  freebase_map_id       actor_name  \n0       /m/0jy9q0   Robin Williams  \n1      /m/02vchl3  Michael McShane  \n2       /m/0k6fkc     Ian McKellen  \n3       /m/0k6_br     Edmund Gwenn  \n4       /m/0k3rhh     James Spader  ",
      "text/html": "<div>\n<style scoped>\n    .dataframe tbody tr th:only-of-type {\n        vertical-align: middle;\n    }\n\n    .dataframe tbody tr th {\n        vertical-align: top;\n    }\n\n    .dataframe thead th {\n        text-align: right;\n    }\n</style>\n<table border=\"1\" class=\"dataframe\">\n  <thead>\n    <tr style=\"text-align: right;\">\n      <th></th>\n      <th>char_type</th>\n      <th>char_name</th>\n      <th>movie_name</th>\n      <th>freebase_map_id</th>\n      <th>actor_name</th>\n    </tr>\n  </thead>\n  <tbody>\n    <tr>\n      <th>0</th>\n      <td>absent_minded_professor</td>\n      <td>Professor Philip Brainard</td>\n      <td>Flubber</td>\n      <td>/m/0jy9q0</td>\n      <td>Robin Williams</td>\n    </tr>\n    <tr>\n      <th>1</th>\n      <td>absent_minded_professor</td>\n      <td>Professor Keenbean</td>\n      <td>Richie Rich</td>\n      <td>/m/02vchl3</td>\n      <td>Michael McShane</td>\n    </tr>\n    <tr>\n      <th>2</th>\n      <td>absent_minded_professor</td>\n      <td>Dr. Reinhardt Lane</td>\n      <td>The Shadow</td>\n      <td>/m/0k6fkc</td>\n      <td>Ian McKellen</td>\n    </tr>\n    <tr>\n      <th>3</th>\n      <td>absent_minded_professor</td>\n      <td>Dr. Harold Medford</td>\n      <td>Them!</td>\n      <td>/m/0k6_br</td>\n      <td>Edmund Gwenn</td>\n    </tr>\n    <tr>\n      <th>4</th>\n      <td>absent_minded_professor</td>\n      <td>Daniel Jackson</td>\n      <td>Stargate</td>\n      <td>/m/0k3rhh</td>\n      <td>James Spader</td>\n    </tr>\n  </tbody>\n</table>\n</div>"
     },
     "execution_count": 6,
     "metadata": {},
     "output_type": "execute_result"
    }
   ],
   "source": [
    "tvtropes = pd.read_csv(data_folder + 'tvtropes.clusters.txt', sep = '\\t', header=None, names=('char_type', 'details'))\n",
    "\n",
    "# split the details to seprate columns\n",
    "details = tvtropes['details'].str.slice(start=1, stop=-1).str.split('\", \"|\": \"', expand=True)\n",
    "\n",
    "tvtropes['char_name'] = details[1]\n",
    "tvtropes['movie_name'] = details[3]\n",
    "tvtropes['freebase_map_id'] = details[5]\n",
    "tvtropes['actor_name'] = details[7].str.replace('\"' ,'',regex=True)\n",
    "tvtropes.drop(columns=['details'], inplace = True)\n",
    "tvtropes.head()"
   ]
  },
  {
   "cell_type": "markdown",
   "source": [
    "#### title.crew.tsv.gz\n",
    "\n",
    "Contains the director and writer information for all the titles in IMDb.\n",
    "\n",
    "1. tconst (string) - alphanumeric unique identifier of the title\n",
    "2. Directors (array of nconsts) - director(s) of the given title\n",
    "3. Writers (array of nconsts) – writer(s) of the given title"
   ],
   "metadata": {
    "collapsed": false
   }
  },
  {
   "cell_type": "code",
   "execution_count": 7,
   "outputs": [
    {
     "data": {
      "text/plain": "      tconst  directors writers\n0  tt0000001  nm0005690     NaN\n1  tt0000002  nm0721526     NaN\n2  tt0000003  nm0721526     NaN\n3  tt0000004  nm0721526     NaN\n4  tt0000005  nm0005690     NaN",
      "text/html": "<div>\n<style scoped>\n    .dataframe tbody tr th:only-of-type {\n        vertical-align: middle;\n    }\n\n    .dataframe tbody tr th {\n        vertical-align: top;\n    }\n\n    .dataframe thead th {\n        text-align: right;\n    }\n</style>\n<table border=\"1\" class=\"dataframe\">\n  <thead>\n    <tr style=\"text-align: right;\">\n      <th></th>\n      <th>tconst</th>\n      <th>directors</th>\n      <th>writers</th>\n    </tr>\n  </thead>\n  <tbody>\n    <tr>\n      <th>0</th>\n      <td>tt0000001</td>\n      <td>nm0005690</td>\n      <td>NaN</td>\n    </tr>\n    <tr>\n      <th>1</th>\n      <td>tt0000002</td>\n      <td>nm0721526</td>\n      <td>NaN</td>\n    </tr>\n    <tr>\n      <th>2</th>\n      <td>tt0000003</td>\n      <td>nm0721526</td>\n      <td>NaN</td>\n    </tr>\n    <tr>\n      <th>3</th>\n      <td>tt0000004</td>\n      <td>nm0721526</td>\n      <td>NaN</td>\n    </tr>\n    <tr>\n      <th>4</th>\n      <td>tt0000005</td>\n      <td>nm0005690</td>\n      <td>NaN</td>\n    </tr>\n  </tbody>\n</table>\n</div>"
     },
     "execution_count": 7,
     "metadata": {},
     "output_type": "execute_result"
    }
   ],
   "source": [
    "crew = pd.read_csv('data/title.crew.tsv.gz', compression='gzip', sep='\\t', na_values=\"\\\\N\")\n",
    "crew.head()"
   ],
   "metadata": {
    "collapsed": false
   }
  },
  {
   "cell_type": "markdown",
   "source": [
    "To link the titles of the movies and the writers/directors we need two additional dataset:\n",
    "1. title.akas.tsv.gz, that contains titles and tconst\n",
    "2. data/name.basics.tsv.gz, that contains writers/directors id and their ids\n"
   ],
   "metadata": {
    "collapsed": false
   }
  },
  {
   "cell_type": "code",
   "execution_count": 8,
   "outputs": [
    {
     "data": {
      "text/plain": "      tconst                      title\n0  tt0000001                 Карменсіта\n1  tt0000001                 Carmencita\n2  tt0000001  Carmencita - spanyol tánc\n3  tt0000001                 Καρμενσίτα\n4  tt0000001                 Карменсита",
      "text/html": "<div>\n<style scoped>\n    .dataframe tbody tr th:only-of-type {\n        vertical-align: middle;\n    }\n\n    .dataframe tbody tr th {\n        vertical-align: top;\n    }\n\n    .dataframe thead th {\n        text-align: right;\n    }\n</style>\n<table border=\"1\" class=\"dataframe\">\n  <thead>\n    <tr style=\"text-align: right;\">\n      <th></th>\n      <th>tconst</th>\n      <th>title</th>\n    </tr>\n  </thead>\n  <tbody>\n    <tr>\n      <th>0</th>\n      <td>tt0000001</td>\n      <td>Карменсіта</td>\n    </tr>\n    <tr>\n      <th>1</th>\n      <td>tt0000001</td>\n      <td>Carmencita</td>\n    </tr>\n    <tr>\n      <th>2</th>\n      <td>tt0000001</td>\n      <td>Carmencita - spanyol tánc</td>\n    </tr>\n    <tr>\n      <th>3</th>\n      <td>tt0000001</td>\n      <td>Καρμενσίτα</td>\n    </tr>\n    <tr>\n      <th>4</th>\n      <td>tt0000001</td>\n      <td>Карменсита</td>\n    </tr>\n  </tbody>\n</table>\n</div>"
     },
     "execution_count": 8,
     "metadata": {},
     "output_type": "execute_result"
    }
   ],
   "source": [
    "titles = pd.read_csv('data/title.akas.tsv.gz', compression='gzip', sep='\\t', na_values=\"\\\\N\", usecols=['titleId', 'title'], low_memory=True)\n",
    "titles = titles.rename(columns={'titleId' : 'tconst'})\n",
    "titles.head()"
   ],
   "metadata": {
    "collapsed": false
   }
  },
  {
   "cell_type": "code",
   "execution_count": 9,
   "outputs": [
    {
     "data": {
      "text/plain": "      tconst       title\n0  tt0000001  Carmencita\n1  tt0000001  Carmencita\n2  tt0000001  Carmencita\n3  tt0021748  Carmencita\n4  tt0028162  Carmencita",
      "text/html": "<div>\n<style scoped>\n    .dataframe tbody tr th:only-of-type {\n        vertical-align: middle;\n    }\n\n    .dataframe tbody tr th {\n        vertical-align: top;\n    }\n\n    .dataframe thead th {\n        text-align: right;\n    }\n</style>\n<table border=\"1\" class=\"dataframe\">\n  <thead>\n    <tr style=\"text-align: right;\">\n      <th></th>\n      <th>tconst</th>\n      <th>title</th>\n    </tr>\n  </thead>\n  <tbody>\n    <tr>\n      <th>0</th>\n      <td>tt0000001</td>\n      <td>Carmencita</td>\n    </tr>\n    <tr>\n      <th>1</th>\n      <td>tt0000001</td>\n      <td>Carmencita</td>\n    </tr>\n    <tr>\n      <th>2</th>\n      <td>tt0000001</td>\n      <td>Carmencita</td>\n    </tr>\n    <tr>\n      <th>3</th>\n      <td>tt0021748</td>\n      <td>Carmencita</td>\n    </tr>\n    <tr>\n      <th>4</th>\n      <td>tt0028162</td>\n      <td>Carmencita</td>\n    </tr>\n  </tbody>\n</table>\n</div>"
     },
     "execution_count": 9,
     "metadata": {},
     "output_type": "execute_result"
    }
   ],
   "source": [
    "## Inner join titles and metadata to only keep the movies that are in the original set\n",
    "titles = pd.merge(titles, movies.rename(columns={'movie_name' : 'title'}).title, on='title', how='inner')\n",
    "titles.head()"
   ],
   "metadata": {
    "collapsed": false
   }
  },
  {
   "cell_type": "code",
   "execution_count": 10,
   "outputs": [
    {
     "data": {
      "text/plain": "    directors writers              title\n0   nm0005690     NaN         Carmencita\n3   nm0721526     NaN     Pauvre Pierrot\n5   nm0721526     NaN        Un bon bock\n7   nm0005690     NaN   Blacksmith Scene\n10  nm0005690     NaN  Chinese Opium Den",
      "text/html": "<div>\n<style scoped>\n    .dataframe tbody tr th:only-of-type {\n        vertical-align: middle;\n    }\n\n    .dataframe tbody tr th {\n        vertical-align: top;\n    }\n\n    .dataframe thead th {\n        text-align: right;\n    }\n</style>\n<table border=\"1\" class=\"dataframe\">\n  <thead>\n    <tr style=\"text-align: right;\">\n      <th></th>\n      <th>directors</th>\n      <th>writers</th>\n      <th>title</th>\n    </tr>\n  </thead>\n  <tbody>\n    <tr>\n      <th>0</th>\n      <td>nm0005690</td>\n      <td>NaN</td>\n      <td>Carmencita</td>\n    </tr>\n    <tr>\n      <th>3</th>\n      <td>nm0721526</td>\n      <td>NaN</td>\n      <td>Pauvre Pierrot</td>\n    </tr>\n    <tr>\n      <th>5</th>\n      <td>nm0721526</td>\n      <td>NaN</td>\n      <td>Un bon bock</td>\n    </tr>\n    <tr>\n      <th>7</th>\n      <td>nm0005690</td>\n      <td>NaN</td>\n      <td>Blacksmith Scene</td>\n    </tr>\n    <tr>\n      <th>10</th>\n      <td>nm0005690</td>\n      <td>NaN</td>\n      <td>Chinese Opium Den</td>\n    </tr>\n  </tbody>\n</table>\n</div>"
     },
     "execution_count": 10,
     "metadata": {},
     "output_type": "execute_result"
    }
   ],
   "source": [
    "## Inner join crew and titles on tconst to have the title name with the directors and writers\n",
    "crew = pd.merge(crew, titles, on='tconst', how='inner')\n",
    "crew.drop('tconst', axis=1, inplace=True) ## Drop useless column \"tconst\"\n",
    "crew = crew.drop_duplicates() ## Drop duplicates i.e. titles that have multiple \"tconst\" values\n",
    "del titles ## Free memory\n",
    "crew.head()"
   ],
   "metadata": {
    "collapsed": false
   }
  },
  {
   "cell_type": "code",
   "execution_count": 11,
   "outputs": [],
   "source": [
    "# Create two data frame for directors and writers, and drop the row without directors and writers.\n",
    "directors = crew[['directors', 'title']].dropna()\n",
    "writers = crew[['title', 'writers']].dropna()"
   ],
   "metadata": {
    "collapsed": false
   }
  },
  {
   "cell_type": "code",
   "execution_count": 12,
   "outputs": [],
   "source": [
    "# Directors and writers are list, so we transform them into rows\n",
    "directors['directors'] = directors['directors'].str.split(pat=',')\n",
    "writers['writers'] = writers['writers'].str.split(pat=',')\n",
    "directors = directors.explode('directors')\n",
    "writers = writers.explode('writers')"
   ],
   "metadata": {
    "collapsed": false
   }
  },
  {
   "cell_type": "code",
   "execution_count": 13,
   "outputs": [
    {
     "data": {
      "text/plain": "      nconst      primaryName\n0  nm0000001     Fred Astaire\n1  nm0000002    Lauren Bacall\n2  nm0000003  Brigitte Bardot\n3  nm0000004     John Belushi\n4  nm0000005   Ingmar Bergman",
      "text/html": "<div>\n<style scoped>\n    .dataframe tbody tr th:only-of-type {\n        vertical-align: middle;\n    }\n\n    .dataframe tbody tr th {\n        vertical-align: top;\n    }\n\n    .dataframe thead th {\n        text-align: right;\n    }\n</style>\n<table border=\"1\" class=\"dataframe\">\n  <thead>\n    <tr style=\"text-align: right;\">\n      <th></th>\n      <th>nconst</th>\n      <th>primaryName</th>\n    </tr>\n  </thead>\n  <tbody>\n    <tr>\n      <th>0</th>\n      <td>nm0000001</td>\n      <td>Fred Astaire</td>\n    </tr>\n    <tr>\n      <th>1</th>\n      <td>nm0000002</td>\n      <td>Lauren Bacall</td>\n    </tr>\n    <tr>\n      <th>2</th>\n      <td>nm0000003</td>\n      <td>Brigitte Bardot</td>\n    </tr>\n    <tr>\n      <th>3</th>\n      <td>nm0000004</td>\n      <td>John Belushi</td>\n    </tr>\n    <tr>\n      <th>4</th>\n      <td>nm0000005</td>\n      <td>Ingmar Bergman</td>\n    </tr>\n  </tbody>\n</table>\n</div>"
     },
     "execution_count": 13,
     "metadata": {},
     "output_type": "execute_result"
    }
   ],
   "source": [
    "names = pd.read_csv('data/name.basics.tsv.gz', compression='gzip', sep='\\t', na_values=\"\\\\N\", usecols=['nconst', 'primaryName'], low_memory=True)\n",
    "names.head()"
   ],
   "metadata": {
    "collapsed": false
   }
  },
  {
   "cell_type": "code",
   "execution_count": 14,
   "outputs": [
    {
     "data": {
      "text/plain": "                                         title         director_name\n0                                   Carmencita  William K.L. Dickson\n1                             Blacksmith Scene  William K.L. Dickson\n2                            Chinese Opium Den  William K.L. Dickson\n3  Corbett and Courtney Before the Kinetograph  William K.L. Dickson\n4                            Fred Ott's Sneeze  William K.L. Dickson",
      "text/html": "<div>\n<style scoped>\n    .dataframe tbody tr th:only-of-type {\n        vertical-align: middle;\n    }\n\n    .dataframe tbody tr th {\n        vertical-align: top;\n    }\n\n    .dataframe thead th {\n        text-align: right;\n    }\n</style>\n<table border=\"1\" class=\"dataframe\">\n  <thead>\n    <tr style=\"text-align: right;\">\n      <th></th>\n      <th>title</th>\n      <th>director_name</th>\n    </tr>\n  </thead>\n  <tbody>\n    <tr>\n      <th>0</th>\n      <td>Carmencita</td>\n      <td>William K.L. Dickson</td>\n    </tr>\n    <tr>\n      <th>1</th>\n      <td>Blacksmith Scene</td>\n      <td>William K.L. Dickson</td>\n    </tr>\n    <tr>\n      <th>2</th>\n      <td>Chinese Opium Den</td>\n      <td>William K.L. Dickson</td>\n    </tr>\n    <tr>\n      <th>3</th>\n      <td>Corbett and Courtney Before the Kinetograph</td>\n      <td>William K.L. Dickson</td>\n    </tr>\n    <tr>\n      <th>4</th>\n      <td>Fred Ott's Sneeze</td>\n      <td>William K.L. Dickson</td>\n    </tr>\n  </tbody>\n</table>\n</div>"
     },
     "execution_count": 14,
     "metadata": {},
     "output_type": "execute_result"
    }
   ],
   "source": [
    "directors = pd.merge(directors, names.rename(columns={'nconst' : 'directors'})[['directors', 'primaryName']],\n",
    "                     on='directors', how='inner')\n",
    "directors.drop('directors', axis=1, inplace=True)\n",
    "directors.rename(columns={'primaryName' : 'director_name'}, inplace=True)\n",
    "directors = directors.drop_duplicates()\n",
    "directors.head()"
   ],
   "metadata": {
    "collapsed": false
   }
  },
  {
   "cell_type": "code",
   "execution_count": 15,
   "outputs": [
    {
     "data": {
      "text/plain": "                                    title        writer_name\n0                              Miss Jerry    Alexander Black\n1                        Awakening of Rip  Washington Irving\n2                          Rip Van Winkle  Washington Irving\n6               Have You Got Any Castles?  Washington Irving\n7  The Adventures of Ichabod and Mr. Toad  Washington Irving",
      "text/html": "<div>\n<style scoped>\n    .dataframe tbody tr th:only-of-type {\n        vertical-align: middle;\n    }\n\n    .dataframe tbody tr th {\n        vertical-align: top;\n    }\n\n    .dataframe thead th {\n        text-align: right;\n    }\n</style>\n<table border=\"1\" class=\"dataframe\">\n  <thead>\n    <tr style=\"text-align: right;\">\n      <th></th>\n      <th>title</th>\n      <th>writer_name</th>\n    </tr>\n  </thead>\n  <tbody>\n    <tr>\n      <th>0</th>\n      <td>Miss Jerry</td>\n      <td>Alexander Black</td>\n    </tr>\n    <tr>\n      <th>1</th>\n      <td>Awakening of Rip</td>\n      <td>Washington Irving</td>\n    </tr>\n    <tr>\n      <th>2</th>\n      <td>Rip Van Winkle</td>\n      <td>Washington Irving</td>\n    </tr>\n    <tr>\n      <th>6</th>\n      <td>Have You Got Any Castles?</td>\n      <td>Washington Irving</td>\n    </tr>\n    <tr>\n      <th>7</th>\n      <td>The Adventures of Ichabod and Mr. Toad</td>\n      <td>Washington Irving</td>\n    </tr>\n  </tbody>\n</table>\n</div>"
     },
     "execution_count": 15,
     "metadata": {},
     "output_type": "execute_result"
    }
   ],
   "source": [
    "writers = pd.merge(writers, names.rename(columns={'nconst' : 'writers'})[['writers', 'primaryName']],\n",
    "                   on='writers', how='inner')\n",
    "writers.drop('writers', axis=1, inplace=True)\n",
    "writers.rename(columns={'primaryName' : 'writer_name'}, inplace=True)\n",
    "writers = writers.drop_duplicates()\n",
    "del names ## Free memory\n",
    "writers.head()"
   ],
   "metadata": {
    "collapsed": false
   }
  },
  {
   "cell_type": "markdown",
   "id": "d241bf12-950c-47fc-a128-2bb12de2705b",
   "metadata": {},
   "source": [
    "### Clean the dataframe"
   ]
  },
  {
   "cell_type": "code",
   "execution_count": null,
   "id": "734b438d-33c8-4b36-ac8f-e963cbf98e47",
   "metadata": {},
   "outputs": [],
   "source": []
  },
  {
   "cell_type": "code",
   "execution_count": null,
   "id": "beedc5d0-7bbb-4391-a885-863fb65cd914",
   "metadata": {},
   "outputs": [],
   "source": []
  },
  {
   "cell_type": "code",
   "execution_count": null,
   "id": "133400aa-febc-4d8e-b5aa-09ea7cdd3d5d",
   "metadata": {},
   "outputs": [],
   "source": []
  },
  {
   "cell_type": "markdown",
   "id": "489b0458-c258-420b-8a79-6e01b75bb2ff",
   "metadata": {},
   "source": [
    "#### corenlp_plot_summaries.tar.gz\n",
    "\n",
    "The plot summaries from above, run through the Stanford CoreNLP pipeline (tagging, parsing, NER and coref). Each filename begins with the Wikipedia movie ID (which indexes into movie.metadata.tsv)."
   ]
  },
  {
   "cell_type": "code",
   "execution_count": 16,
   "id": "2e6b35a9-3ed9-4e75-a0bb-c8ce0e824834",
   "metadata": {},
   "outputs": [
    {
     "data": {
      "text/plain": "<function spacy.pipeline.functions.merge_entities(doc: spacy.tokens.doc.Doc)>"
     },
     "execution_count": 16,
     "metadata": {},
     "output_type": "execute_result"
    }
   ],
   "source": [
    "nlp = spacy.load(\"en_core_web_sm\")\n",
    "nlp.add_pipe(\"merge_entities\") # Merge entities like ['David' 'Bowie'] to ['David Bowie']"
   ]
  },
  {
   "cell_type": "code",
   "execution_count": 17,
   "outputs": [],
   "source": [
    "def tag_adj(text):\n",
    "    \"\"\"\n",
    "    Find all noon/adjective pair in the given text\n",
    "    :param text: Text composed of one or multiple sentences\n",
    "    :return: list of noon/adjective pair\n",
    "    \"\"\"\n",
    "    doc = nlp(text)\n",
    "    noun_adj_pairs = []\n",
    "    for token in doc:\n",
    "        ## Is the word a proper noun / noun / pronoun\n",
    "        if token.pos_ in ('PROPN', 'NOUN', 'PRON'):\n",
    "            for child in token.children:\n",
    "                ## Is the child an adjectival modifier\n",
    "                if child.dep_ == 'amod':\n",
    "                    noun_adj_pairs.append((token.lemma_, child.lemma_))\n",
    "    return noun_adj_pairs"
   ],
   "metadata": {
    "collapsed": false
   }
  },
  {
   "cell_type": "code",
   "execution_count": 18,
   "outputs": [
    {
     "name": "stdout",
     "output_type": "stream",
     "text": [
      "[('card', 'red'), ('envelope', 'blue'), ('girl', 'beautiful')]\n",
      "[]\n"
     ]
    }
   ],
   "source": [
    "## Example\n",
    "print(tag_adj(\"There is a red card in the blue envelope and a beautiful girl.\"))\n",
    "print(tag_adj(\"She is beautiful.\"))"
   ],
   "metadata": {
    "collapsed": false
   }
  },
  {
   "cell_type": "code",
   "execution_count": 19,
   "outputs": [],
   "source": [
    "def tag_verb(text):\n",
    "    \"\"\"\n",
    "    Find all noon/verb pair in the given text\n",
    "    :param text: Text composed of one or multiple sentences\n",
    "    :return: list of noon/verb pair\n",
    "    \"\"\"\n",
    "    doc = nlp(text)\n",
    "    verbs = []\n",
    "    for possible_verb in doc:\n",
    "        if possible_verb.pos_ == 'VERB':\n",
    "            for possible_subject in possible_verb.children:\n",
    "                if possible_subject.dep_ == 'nsubj':\n",
    "                    verbs.append((possible_subject.lemma_, possible_verb.lemma_))\n",
    "                    break\n",
    "    return verbs"
   ],
   "metadata": {
    "collapsed": false
   }
  },
  {
   "cell_type": "code",
   "execution_count": 20,
   "outputs": [
    {
     "data": {
      "text/plain": "[('nation', 'consist'),\n ('district', 'provide'),\n ('tribute', 'fight'),\n ('who', 'give'),\n ('she', 'starve'),\n ('he', 'warn'),\n ('who', 'train'),\n ('Peeta', 'reveal'),\n ('sponsor', 'provide'),\n ('she', 'discover'),\n ('Peeta', 'mean'),\n ('he', 'say'),\n ('Games', 'begin'),\n ('Katniss', 'survive'),\n ('Peeta', 'form'),\n ('they', 'find'),\n ('rue', 'draw'),\n ('Katniss', 'drop'),\n ('rue', 'care'),\n ('she', 'recover'),\n ('alliance', 'gather'),\n ('Katniss', 'draw'),\n ('Cato', 'kill'),\n ('Katniss', 'run'),\n ('she', 'hear'),\n ('she', 'find'),\n ('Rue', 'trap'),\n ('Marvel', 'throw'),\n ('she', 'dodge'),\n ('it', 'stab'),\n ('Katniss', 'shoot'),\n ('she', 'comfort'),\n ('she', 'gather'),\n ('it', 'spark'),\n ('Games', 'turn'),\n ('change', 'avoid'),\n ('tribute', 'win'),\n ('she', 'portray'),\n ('announcer', 'proclaim'),\n ('thing', 'need'),\n ('Peeta', 'beg'),\n ('Katniss', 'promise'),\n ('he', 'fall'),\n ('she', 'head'),\n ('Clove', 'ambush'),\n ('Thresh', 'kill'),\n ('he', 'spare'),\n ('medicine', 'work'),\n ('Foxface', 'die'),\n ('she', 'steal'),\n ('Crane', 'change'),\n ('they', 'kill'),\n ('they', 'encounter'),\n ('Katniss', 'wound'),\n ('Katniss', 'shoot'),\n ('Peeta', 'tell'),\n ('she', 'give'),\n ('they', 'commit'),\n ('haymitch', 'warn'),\n ('she', 'make'),\n ('Snow', 'consider')]"
     },
     "execution_count": 20,
     "metadata": {},
     "output_type": "execute_result"
    }
   ],
   "source": [
    "tag_verb(plots.loc[1]['plot'])"
   ],
   "metadata": {
    "collapsed": false
   }
  },
  {
   "cell_type": "code",
   "execution_count": 21,
   "outputs": [
    {
     "data": {
      "text/plain": "[('Capitol', 'wealthy'),\n ('district', 'poor'),\n ('rebellion', 'past'),\n ('Hunger Games', 'annual'),\n ('survivor', 'sole'),\n ('reaping', 'first'),\n ('Everdeen', '12-year-old'),\n ('sister', 'old'),\n ('tribute', 'other'),\n ('mentor', 'drunk'),\n ('Haymitch Abernathy', 'past'),\n ('academy', 'special'),\n ('Games', 'televise'),\n ('supply', 'tempting'),\n ('alliance', 'uneasy'),\n ('tree', 'nearby'),\n ('nest', 'poisonous'),\n ('Rue', 'die'),\n ('lover', 'cross'),\n ('riot', 'further'),\n ('district', 'same'),\n ('wound', 'infected'),\n ('tribute', 'other'),\n ('mobile', 'peeta'),\n ('creature', 'like'),\n ('death', 'prolonged'),\n ('Games', '74th'),\n ('enemy', 'powerful')]"
     },
     "execution_count": 21,
     "metadata": {},
     "output_type": "execute_result"
    }
   ],
   "source": [
    "tag_adj(plots.loc[1]['plot'])"
   ],
   "metadata": {
    "collapsed": false
   }
  },
  {
   "cell_type": "code",
   "execution_count": null,
   "outputs": [],
   "source": [
    "plots['verb'] = plots['plot'].apply(tag_verb) # long computation"
   ],
   "metadata": {
    "collapsed": false
   }
  },
  {
   "cell_type": "code",
   "execution_count": null,
   "outputs": [],
   "source": [
    "plots['adj'] = plots['plot'].apply(tag_adj) # long computation"
   ],
   "metadata": {
    "collapsed": false
   }
  },
  {
   "cell_type": "code",
   "execution_count": 24,
   "outputs": [],
   "source": [
    "# Dict that match all characters to their gender\n",
    "matcher = pd.Series(characters.actor_gender.values, index=characters.character_name).to_dict()\n",
    "matcher.update({'he' : 'M', 'she' : 'F'})"
   ],
   "metadata": {
    "collapsed": false
   }
  },
  {
   "cell_type": "code",
   "execution_count": 25,
   "outputs": [
    {
     "data": {
      "text/plain": "      name      verb gender\n4      she    starve      F\n5       he      warn      M\n9      she  discover      F\n11      he       say      M\n19     she   recover      F\n22    Cato      kill      M\n24     she      hear      F\n25     she      find      F\n26     Rue      trap      F\n27  Marvel     throw      M\n28     she     dodge      F\n31     she   comfort      F\n32     she    gather      F\n37     she   portray      F\n42      he      fall      M\n43     she      head      F\n44   Clove    ambush      F\n46      he     spare      M\n49     she     steal      F\n50   Crane    change      M\n56     she      give      F\n59     she      make      F\n60    Snow  consider      M",
      "text/html": "<div>\n<style scoped>\n    .dataframe tbody tr th:only-of-type {\n        vertical-align: middle;\n    }\n\n    .dataframe tbody tr th {\n        vertical-align: top;\n    }\n\n    .dataframe thead th {\n        text-align: right;\n    }\n</style>\n<table border=\"1\" class=\"dataframe\">\n  <thead>\n    <tr style=\"text-align: right;\">\n      <th></th>\n      <th>name</th>\n      <th>verb</th>\n      <th>gender</th>\n    </tr>\n  </thead>\n  <tbody>\n    <tr>\n      <th>4</th>\n      <td>she</td>\n      <td>starve</td>\n      <td>F</td>\n    </tr>\n    <tr>\n      <th>5</th>\n      <td>he</td>\n      <td>warn</td>\n      <td>M</td>\n    </tr>\n    <tr>\n      <th>9</th>\n      <td>she</td>\n      <td>discover</td>\n      <td>F</td>\n    </tr>\n    <tr>\n      <th>11</th>\n      <td>he</td>\n      <td>say</td>\n      <td>M</td>\n    </tr>\n    <tr>\n      <th>19</th>\n      <td>she</td>\n      <td>recover</td>\n      <td>F</td>\n    </tr>\n    <tr>\n      <th>22</th>\n      <td>Cato</td>\n      <td>kill</td>\n      <td>M</td>\n    </tr>\n    <tr>\n      <th>24</th>\n      <td>she</td>\n      <td>hear</td>\n      <td>F</td>\n    </tr>\n    <tr>\n      <th>25</th>\n      <td>she</td>\n      <td>find</td>\n      <td>F</td>\n    </tr>\n    <tr>\n      <th>26</th>\n      <td>Rue</td>\n      <td>trap</td>\n      <td>F</td>\n    </tr>\n    <tr>\n      <th>27</th>\n      <td>Marvel</td>\n      <td>throw</td>\n      <td>M</td>\n    </tr>\n    <tr>\n      <th>28</th>\n      <td>she</td>\n      <td>dodge</td>\n      <td>F</td>\n    </tr>\n    <tr>\n      <th>31</th>\n      <td>she</td>\n      <td>comfort</td>\n      <td>F</td>\n    </tr>\n    <tr>\n      <th>32</th>\n      <td>she</td>\n      <td>gather</td>\n      <td>F</td>\n    </tr>\n    <tr>\n      <th>37</th>\n      <td>she</td>\n      <td>portray</td>\n      <td>F</td>\n    </tr>\n    <tr>\n      <th>42</th>\n      <td>he</td>\n      <td>fall</td>\n      <td>M</td>\n    </tr>\n    <tr>\n      <th>43</th>\n      <td>she</td>\n      <td>head</td>\n      <td>F</td>\n    </tr>\n    <tr>\n      <th>44</th>\n      <td>Clove</td>\n      <td>ambush</td>\n      <td>F</td>\n    </tr>\n    <tr>\n      <th>46</th>\n      <td>he</td>\n      <td>spare</td>\n      <td>M</td>\n    </tr>\n    <tr>\n      <th>49</th>\n      <td>she</td>\n      <td>steal</td>\n      <td>F</td>\n    </tr>\n    <tr>\n      <th>50</th>\n      <td>Crane</td>\n      <td>change</td>\n      <td>M</td>\n    </tr>\n    <tr>\n      <th>56</th>\n      <td>she</td>\n      <td>give</td>\n      <td>F</td>\n    </tr>\n    <tr>\n      <th>59</th>\n      <td>she</td>\n      <td>make</td>\n      <td>F</td>\n    </tr>\n    <tr>\n      <th>60</th>\n      <td>Snow</td>\n      <td>consider</td>\n      <td>M</td>\n    </tr>\n  </tbody>\n</table>\n</div>"
     },
     "execution_count": 25,
     "metadata": {},
     "output_type": "execute_result"
    }
   ],
   "source": [
    "#Test\n",
    "v = pd.DataFrame(tag_verb(plots.loc[1]['plot']), columns=['name', 'verb'])\n",
    "v['gender'] = v.name.apply(matcher.get)\n",
    "v.dropna()"
   ],
   "metadata": {
    "collapsed": false
   }
  },
  {
   "cell_type": "code",
   "execution_count": null,
   "outputs": [],
   "source": [],
   "metadata": {
    "collapsed": false
   }
  }
 ],
 "metadata": {
  "kernelspec": {
   "display_name": "Python 3 (ipykernel)",
   "language": "python",
   "name": "python3"
  },
  "language_info": {
   "codemirror_mode": {
    "name": "ipython",
    "version": 3
   },
   "file_extension": ".py",
   "mimetype": "text/x-python",
   "name": "python",
   "nbconvert_exporter": "python",
   "pygments_lexer": "ipython3",
   "version": "3.9.13"
  }
 },
 "nbformat": 4,
 "nbformat_minor": 5
}
