{
 "cells": [
  {
   "cell_type": "markdown",
   "id": "c046eefe-d1d7-48da-9453-70ade88128ff",
   "metadata": {},
   "source": [
    "# ADA project: Milestone 2\n",
    "### Team: YiYiSoDa - Yinghui Jiang, Yichen Wang, Sophia Ly, David Chaves"
   ]
  },
  {
   "cell_type": "code",
   "execution_count": 37,
   "id": "13f852a3-92cc-4d40-bd61-aab122583eeb",
   "metadata": {},
   "outputs": [],
   "source": [
    "import seaborn as sns\n",
    "from IPython.display import display, HTML\n",
    "import matplotlib.pyplot as plt\n",
    "import scipy.stats as stats\n",
    "import pandas as pd\n",
    "import numpy as np\n",
    "import tarfile\n",
    "import re\n",
    "import gzip\n",
    "import spacy\n",
    "\n",
    "data_folder = './data/MovieSummaries/'\n",
    "corenlp_folder = './data/corenlp_plot_summaries/'"
   ]
  },
  {
   "cell_type": "markdown",
   "id": "c5813c25-93a6-4d09-9c10-22a0618621da",
   "metadata": {},
   "source": [
    "## Task 1: Explore the dataset"
   ]
  },
  {
   "cell_type": "markdown",
   "id": "3fc96c30-d336-48f5-97ae-1a30e95c7593",
   "metadata": {},
   "source": [
    "#### 1.1 Load the data"
   ]
  },
  {
   "cell_type": "markdown",
   "id": "85f1ad4b-ca8d-401b-b8a7-1ce4ee9b409f",
   "metadata": {
    "tags": []
   },
   "source": [
    "#### movie.metadata.tsv.gz\n",
    "\n",
    "\n",
    "Metadata for 81,741 movies, extracted from the Noverber 4, 2012 dump of Freebase."
   ]
  },
  {
   "cell_type": "code",
   "execution_count": 38,
   "id": "5166e01e-48ac-49f7-a280-315bdd2f1156",
   "metadata": {
    "tags": []
   },
   "outputs": [
    {
     "data": {
      "text/html": [
       "<div>\n",
       "<style scoped>\n",
       "    .dataframe tbody tr th:only-of-type {\n",
       "        vertical-align: middle;\n",
       "    }\n",
       "\n",
       "    .dataframe tbody tr th {\n",
       "        vertical-align: top;\n",
       "    }\n",
       "\n",
       "    .dataframe thead th {\n",
       "        text-align: right;\n",
       "    }\n",
       "</style>\n",
       "<table border=\"1\" class=\"dataframe\">\n",
       "  <thead>\n",
       "    <tr style=\"text-align: right;\">\n",
       "      <th></th>\n",
       "      <th>wiki_movie_id</th>\n",
       "      <th>freebase_movie_id</th>\n",
       "      <th>movie_name</th>\n",
       "      <th>release_date</th>\n",
       "      <th>box_office_revenue</th>\n",
       "      <th>movie_runtime</th>\n",
       "      <th>languages</th>\n",
       "      <th>countries</th>\n",
       "      <th>genres</th>\n",
       "    </tr>\n",
       "  </thead>\n",
       "  <tbody>\n",
       "    <tr>\n",
       "      <th>0</th>\n",
       "      <td>975900</td>\n",
       "      <td>/m/03vyhn</td>\n",
       "      <td>Ghosts of Mars</td>\n",
       "      <td>2001-08-24</td>\n",
       "      <td>14010832.0</td>\n",
       "      <td>98.0</td>\n",
       "      <td>{\"/m/02h40lc\": \"English Language\"}</td>\n",
       "      <td>{\"/m/09c7w0\": \"United States of America\"}</td>\n",
       "      <td>{\"/m/01jfsb\": \"Thriller\", \"/m/06n90\": \"Science...</td>\n",
       "    </tr>\n",
       "    <tr>\n",
       "      <th>1</th>\n",
       "      <td>3196793</td>\n",
       "      <td>/m/08yl5d</td>\n",
       "      <td>Getting Away with Murder: The JonBenét Ramsey ...</td>\n",
       "      <td>2000-02-16</td>\n",
       "      <td>NaN</td>\n",
       "      <td>95.0</td>\n",
       "      <td>{\"/m/02h40lc\": \"English Language\"}</td>\n",
       "      <td>{\"/m/09c7w0\": \"United States of America\"}</td>\n",
       "      <td>{\"/m/02n4kr\": \"Mystery\", \"/m/03bxz7\": \"Biograp...</td>\n",
       "    </tr>\n",
       "    <tr>\n",
       "      <th>2</th>\n",
       "      <td>28463795</td>\n",
       "      <td>/m/0crgdbh</td>\n",
       "      <td>Brun bitter</td>\n",
       "      <td>1988-01-01</td>\n",
       "      <td>NaN</td>\n",
       "      <td>83.0</td>\n",
       "      <td>{\"/m/05f_3\": \"Norwegian Language\"}</td>\n",
       "      <td>{\"/m/05b4w\": \"Norway\"}</td>\n",
       "      <td>{\"/m/0lsxr\": \"Crime Fiction\", \"/m/07s9rl0\": \"D...</td>\n",
       "    </tr>\n",
       "    <tr>\n",
       "      <th>3</th>\n",
       "      <td>9363483</td>\n",
       "      <td>/m/0285_cd</td>\n",
       "      <td>White Of The Eye</td>\n",
       "      <td>1987-01-01</td>\n",
       "      <td>NaN</td>\n",
       "      <td>110.0</td>\n",
       "      <td>{\"/m/02h40lc\": \"English Language\"}</td>\n",
       "      <td>{\"/m/07ssc\": \"United Kingdom\"}</td>\n",
       "      <td>{\"/m/01jfsb\": \"Thriller\", \"/m/0glj9q\": \"Erotic...</td>\n",
       "    </tr>\n",
       "    <tr>\n",
       "      <th>4</th>\n",
       "      <td>261236</td>\n",
       "      <td>/m/01mrr1</td>\n",
       "      <td>A Woman in Flames</td>\n",
       "      <td>1983-01-01</td>\n",
       "      <td>NaN</td>\n",
       "      <td>106.0</td>\n",
       "      <td>{\"/m/04306rv\": \"German Language\"}</td>\n",
       "      <td>{\"/m/0345h\": \"Germany\"}</td>\n",
       "      <td>{\"/m/07s9rl0\": \"Drama\"}</td>\n",
       "    </tr>\n",
       "  </tbody>\n",
       "</table>\n",
       "</div>"
      ],
      "text/plain": [
       "   wiki_movie_id freebase_movie_id  \\\n",
       "0         975900         /m/03vyhn   \n",
       "1        3196793         /m/08yl5d   \n",
       "2       28463795        /m/0crgdbh   \n",
       "3        9363483        /m/0285_cd   \n",
       "4         261236         /m/01mrr1   \n",
       "\n",
       "                                          movie_name release_date  \\\n",
       "0                                     Ghosts of Mars   2001-08-24   \n",
       "1  Getting Away with Murder: The JonBenét Ramsey ...   2000-02-16   \n",
       "2                                        Brun bitter   1988-01-01   \n",
       "3                                   White Of The Eye   1987-01-01   \n",
       "4                                  A Woman in Flames   1983-01-01   \n",
       "\n",
       "   box_office_revenue  movie_runtime                           languages  \\\n",
       "0          14010832.0           98.0  {\"/m/02h40lc\": \"English Language\"}   \n",
       "1                 NaN           95.0  {\"/m/02h40lc\": \"English Language\"}   \n",
       "2                 NaN           83.0  {\"/m/05f_3\": \"Norwegian Language\"}   \n",
       "3                 NaN          110.0  {\"/m/02h40lc\": \"English Language\"}   \n",
       "4                 NaN          106.0   {\"/m/04306rv\": \"German Language\"}   \n",
       "\n",
       "                                   countries  \\\n",
       "0  {\"/m/09c7w0\": \"United States of America\"}   \n",
       "1  {\"/m/09c7w0\": \"United States of America\"}   \n",
       "2                     {\"/m/05b4w\": \"Norway\"}   \n",
       "3             {\"/m/07ssc\": \"United Kingdom\"}   \n",
       "4                    {\"/m/0345h\": \"Germany\"}   \n",
       "\n",
       "                                              genres  \n",
       "0  {\"/m/01jfsb\": \"Thriller\", \"/m/06n90\": \"Science...  \n",
       "1  {\"/m/02n4kr\": \"Mystery\", \"/m/03bxz7\": \"Biograp...  \n",
       "2  {\"/m/0lsxr\": \"Crime Fiction\", \"/m/07s9rl0\": \"D...  \n",
       "3  {\"/m/01jfsb\": \"Thriller\", \"/m/0glj9q\": \"Erotic...  \n",
       "4                            {\"/m/07s9rl0\": \"Drama\"}  "
      ]
     },
     "execution_count": 38,
     "metadata": {},
     "output_type": "execute_result"
    }
   ],
   "source": [
    "movies = data_folder + 'movie.metadata.tsv'\n",
    "movies_cols = ['wiki_movie_id', 'freebase_movie_id', 'movie_name','release_date','box_office_revenue',\n",
    "              'movie_runtime', 'languages', 'countries','genres']\n",
    "\n",
    "movies = pd.read_csv(movies, sep='\\t', names=movies_cols, parse_dates=[\"release_date\"], date_parser=lambda x: pd.to_datetime(x, errors=\"coerce\"))\n",
    "movies.head()"
   ]
  },
  {
   "cell_type": "markdown",
   "id": "2af5a13c-0152-47a6-a259-34fd9c0028d1",
   "metadata": {},
   "source": [
<<<<<<< Updated upstream
    "All movies in the dataset contains information about languages, countries and genres. These three columns can contain multiple info. "
   ]
  },
  {
   "cell_type": "code",
   "execution_count": 22,
   "id": "62ca2757-b726-446c-9cbb-a8aee512b4d7",
   "metadata": {
    "tags": []
   },
   "outputs": [
    {
     "data": {
      "text/plain": [
       "English Language                        40891\n",
       "Hindi Language                           3744\n",
       "Spanish Language                         3673\n",
       "French Language                          3422\n",
       "Silent film                              3183\n",
       "                                        ...  \n",
       "Southwestern Mandarin                       1\n",
       "Australian Aboriginal Pidgin English        1\n",
       "Tok Pisin Language                          1\n",
       "Pawnee Language                             1\n",
       "Kuna language                               1\n",
       "Name: languages, Length: 207, dtype: int64"
      ]
     },
     "execution_count": 22,
     "metadata": {},
     "output_type": "execute_result"
    }
   ],
   "source": [
    "# relational table between movies with lauguages, countries and genres.\n",
    "# keep wiki_movie_id, lauguages, countries, genres\n",
    "\n",
    "movie_languages = movies.copy()\n",
    "movie_languages['languages'] = movie_languages['languages'].apply(lambda x: list(eval(x).values()))\n",
    "movie_languages = movie_languages.explode('languages', ignore_index = True)\n",
    "movie_languages = movie_languages.drop(columns=['freebase_movie_id', 'movie_name','release_date','box_office_revenue',\n",
    "              'movie_runtime', 'countries','genres'])\n",
    "movie_languages.languages.value_counts()"
   ]
  },
  {
   "cell_type": "code",
   "execution_count": 23,
   "id": "d9f21256-6522-45f8-9759-790a9153126b",
   "metadata": {
    "tags": []
   },
   "outputs": [
    {
     "data": {
      "text/plain": [
       "United States of America    34408\n",
       "India                        8411\n",
       "United Kingdom               7868\n",
       "France                       4395\n",
       "Italy                        3163\n",
       "                            ...  \n",
       "Republic of China               1\n",
       "Macau                           1\n",
       "Palestinian Territories         1\n",
       "German Language                 1\n",
       "Ukranian SSR                    1\n",
       "Name: countries, Length: 147, dtype: int64"
      ]
     },
     "execution_count": 23,
     "metadata": {},
     "output_type": "execute_result"
    }
   ],
   "source": [
    "movie_countries = movies.copy()\n",
    "movie_countries['countries'] = movie_countries['countries'].apply(lambda x: list(eval(x).values()))\n",
    "movie_countries = movie_countries.explode('countries', ignore_index = True)\n",
    "movie_countries = movie_countries.drop(columns=['freebase_movie_id', 'movie_name','release_date','box_office_revenue',\n",
    "              'movie_runtime', 'languages','genres'])\n",
    "movie_countries.countries.value_counts()"
=======
    "All movies in the dataset contains information about languages, countries and genres. These three columns can contain multiple info. We seprate the information in 2.3 for further analysis."
>>>>>>> Stashed changes
   ]
  },
  {
   "cell_type": "markdown",
   "id": "b4fd835e-e6b5-4192-a470-a866755ede75",
   "metadata": {},
   "source": [
    "#### character.metadata.tsv.gz\n",
    "\n",
    "Metadata for 450,669 characters aligned to the movies above, extracted from the Noverber 4, 2012 dump of Freebase."
   ]
  },
  {
   "cell_type": "code",
   "execution_count": 68,
   "id": "4796f0a1-35be-4588-ac8e-863d3640891a",
   "metadata": {},
   "outputs": [
    {
     "data": {
      "text/html": [
       "<div>\n",
       "<style scoped>\n",
       "    .dataframe tbody tr th:only-of-type {\n",
       "        vertical-align: middle;\n",
       "    }\n",
       "\n",
       "    .dataframe tbody tr th {\n",
       "        vertical-align: top;\n",
       "    }\n",
       "\n",
       "    .dataframe thead th {\n",
       "        text-align: right;\n",
       "    }\n",
       "</style>\n",
       "<table border=\"1\" class=\"dataframe\">\n",
       "  <thead>\n",
       "    <tr style=\"text-align: right;\">\n",
       "      <th></th>\n",
       "      <th>wiki_movie_id</th>\n",
       "      <th>freebase_movie_id</th>\n",
       "      <th>release_date</th>\n",
       "      <th>character_name</th>\n",
       "      <th>actor_date_of_birth</th>\n",
       "      <th>actor_gender</th>\n",
       "      <th>height</th>\n",
       "      <th>actor_ethnicity</th>\n",
       "      <th>actor_name</th>\n",
       "      <th>actor_age_at_release</th>\n",
       "      <th>freebase_map_id</th>\n",
       "      <th>freebase_character_id</th>\n",
       "      <th>freebase_actor_id</th>\n",
       "      <th>release_year</th>\n",
       "    </tr>\n",
       "  </thead>\n",
       "  <tbody>\n",
       "    <tr>\n",
       "      <th>0</th>\n",
       "      <td>975900</td>\n",
       "      <td>/m/03vyhn</td>\n",
       "      <td>2001-08-24</td>\n",
       "      <td>Akooshay</td>\n",
       "      <td>1958-08-26</td>\n",
       "      <td>F</td>\n",
       "      <td>1.620</td>\n",
       "      <td>NaN</td>\n",
       "      <td>Wanda De Jesus</td>\n",
       "      <td>42.0</td>\n",
       "      <td>/m/0bgchxw</td>\n",
       "      <td>/m/0bgcj3x</td>\n",
       "      <td>/m/03wcfv7</td>\n",
       "      <td>2001.0</td>\n",
       "    </tr>\n",
       "    <tr>\n",
       "      <th>1</th>\n",
       "      <td>975900</td>\n",
       "      <td>/m/03vyhn</td>\n",
       "      <td>2001-08-24</td>\n",
       "      <td>Lieutenant Melanie Ballard</td>\n",
       "      <td>1974-08-15</td>\n",
       "      <td>F</td>\n",
       "      <td>1.780</td>\n",
       "      <td>/m/044038p</td>\n",
       "      <td>Natasha Henstridge</td>\n",
       "      <td>27.0</td>\n",
       "      <td>/m/0jys3m</td>\n",
       "      <td>/m/0bgchn4</td>\n",
       "      <td>/m/0346l4</td>\n",
       "      <td>2001.0</td>\n",
       "    </tr>\n",
       "    <tr>\n",
       "      <th>2</th>\n",
       "      <td>975900</td>\n",
       "      <td>/m/03vyhn</td>\n",
       "      <td>2001-08-24</td>\n",
       "      <td>Desolation Williams</td>\n",
       "      <td>1969-06-15</td>\n",
       "      <td>M</td>\n",
       "      <td>1.727</td>\n",
       "      <td>/m/0x67</td>\n",
       "      <td>Ice Cube</td>\n",
       "      <td>32.0</td>\n",
       "      <td>/m/0jys3g</td>\n",
       "      <td>/m/0bgchn_</td>\n",
       "      <td>/m/01vw26l</td>\n",
       "      <td>2001.0</td>\n",
       "    </tr>\n",
       "    <tr>\n",
       "      <th>3</th>\n",
       "      <td>975900</td>\n",
       "      <td>/m/03vyhn</td>\n",
       "      <td>2001-08-24</td>\n",
       "      <td>Sgt Jericho Butler</td>\n",
       "      <td>1967-09-12</td>\n",
       "      <td>M</td>\n",
       "      <td>1.750</td>\n",
       "      <td>NaN</td>\n",
       "      <td>Jason Statham</td>\n",
       "      <td>33.0</td>\n",
       "      <td>/m/02vchl6</td>\n",
       "      <td>/m/0bgchnq</td>\n",
       "      <td>/m/034hyc</td>\n",
       "      <td>2001.0</td>\n",
       "    </tr>\n",
       "    <tr>\n",
       "      <th>4</th>\n",
       "      <td>975900</td>\n",
       "      <td>/m/03vyhn</td>\n",
       "      <td>2001-08-24</td>\n",
       "      <td>Bashira Kincaid</td>\n",
       "      <td>1977-09-25</td>\n",
       "      <td>F</td>\n",
       "      <td>1.650</td>\n",
       "      <td>NaN</td>\n",
       "      <td>Clea DuVall</td>\n",
       "      <td>23.0</td>\n",
       "      <td>/m/02vbb3r</td>\n",
       "      <td>/m/0bgchp9</td>\n",
       "      <td>/m/01y9xg</td>\n",
       "      <td>2001.0</td>\n",
       "    </tr>\n",
       "  </tbody>\n",
       "</table>\n",
       "</div>"
      ],
      "text/plain": [
       "   wiki_movie_id freebase_movie_id release_date              character_name  \\\n",
       "0         975900         /m/03vyhn   2001-08-24                    Akooshay   \n",
       "1         975900         /m/03vyhn   2001-08-24  Lieutenant Melanie Ballard   \n",
       "2         975900         /m/03vyhn   2001-08-24         Desolation Williams   \n",
       "3         975900         /m/03vyhn   2001-08-24          Sgt Jericho Butler   \n",
       "4         975900         /m/03vyhn   2001-08-24             Bashira Kincaid   \n",
       "\n",
       "  actor_date_of_birth actor_gender  height actor_ethnicity  \\\n",
       "0          1958-08-26            F   1.620             NaN   \n",
       "1          1974-08-15            F   1.780      /m/044038p   \n",
       "2          1969-06-15            M   1.727         /m/0x67   \n",
       "3          1967-09-12            M   1.750             NaN   \n",
       "4          1977-09-25            F   1.650             NaN   \n",
       "\n",
       "           actor_name  actor_age_at_release freebase_map_id  \\\n",
       "0      Wanda De Jesus                  42.0      /m/0bgchxw   \n",
       "1  Natasha Henstridge                  27.0       /m/0jys3m   \n",
       "2            Ice Cube                  32.0       /m/0jys3g   \n",
       "3       Jason Statham                  33.0      /m/02vchl6   \n",
       "4         Clea DuVall                  23.0      /m/02vbb3r   \n",
       "\n",
       "  freebase_character_id freebase_actor_id  release_year  \n",
       "0            /m/0bgcj3x        /m/03wcfv7        2001.0  \n",
       "1            /m/0bgchn4         /m/0346l4        2001.0  \n",
       "2            /m/0bgchn_        /m/01vw26l        2001.0  \n",
       "3            /m/0bgchnq         /m/034hyc        2001.0  \n",
       "4            /m/0bgchp9         /m/01y9xg        2001.0  "
      ]
     },
     "execution_count": 68,
     "metadata": {},
     "output_type": "execute_result"
    }
   ],
   "source": [
    "characters = data_folder + 'character.metadata.tsv'\n",
    "char_cols = ['wiki_movie_id', 'freebase_movie_id', 'release_date', 'character_name', 'actor_date_of_birth', \n",
    "             'actor_gender', 'height', 'actor_ethnicity', 'actor_name', 'actor_age_at_release', 'freebase_map_id', 'freebase_character_id', 'freebase_actor_id']\n",
    "characters = pd.read_csv(characters, sep='\\t', names=char_cols, parse_dates=[\"release_date\"], date_parser=lambda x: pd.to_datetime(x, errors=\"coerce\"))\n",
    "characters['release_year'] = characters['release_date'].dt.year\n",
    "characters.head()\n"
   ]
  },
  {
   "cell_type": "code",
   "execution_count": 48,
   "id": "1262310a-072f-4ac4-9795-963caa0799c5",
   "metadata": {
    "scrolled": true
   },
   "outputs": [
    {
     "name": "stdout",
     "output_type": "stream",
     "text": [
      "character.metadata.tsv.gz contains: \n",
      "number of movies:\t63652\n",
      "number of characters:\t405060\n",
      "with gender info:\t405060\n",
      "negative age:\t\t421\n"
     ]
    },
    {
     "data": {
      "text/plain": [
       "M    270257\n",
       "F    134803\n",
       "Name: actor_gender, dtype: int64"
      ]
     },
     "execution_count": 48,
     "metadata": {},
     "output_type": "execute_result"
    }
   ],
   "source": [
    "print('character.metadata.tsv.gz contains: \\nnumber of movies:\\t{}\\nnumber of characters:\\t{}\\nwith gender info:\\t{}\\nnegative age:\\t\\t{}'.format(characters.wiki_movie_id.unique().size, len(characters),characters.actor_gender.notnull().sum(), len(characters.query('actor_age_at_release <= 0'))))\n",
    "characters.actor_gender.value_counts()"
   ]
  },
  {
   "cell_type": "code",
   "execution_count": 49,
   "id": "ea910c1c-c0bc-4fc3-950f-5634559cfe96",
   "metadata": {
    "tags": []
   },
   "outputs": [],
   "source": [
    "# drop characters has no gender info\n",
    "characters = characters.loc[characters.actor_gender.notnull()]"
   ]
  },
  {
   "cell_type": "markdown",
   "id": "ec6e04a4-d115-4d25-8089-422fec1415ca",
   "metadata": {
    "tags": []
   },
   "source": [
    "#### plot_summaries.txt\n",
    "\n",
    "Plot summaries of 42,306 movies extracted from the November 2, 2012 dump of English-language Wikipedia.  Each line contains the Wikipedia movie ID (which indexes into movie.metadata.tsv) followed by the summary."
   ]
  },
  {
   "cell_type": "code",
   "execution_count": 51,
   "id": "a154ad37-bafc-4f89-94ee-f8c7d43534ae",
   "metadata": {},
   "outputs": [
    {
     "data": {
      "text/html": [
       "<div>\n",
       "<style scoped>\n",
       "    .dataframe tbody tr th:only-of-type {\n",
       "        vertical-align: middle;\n",
       "    }\n",
       "\n",
       "    .dataframe tbody tr th {\n",
       "        vertical-align: top;\n",
       "    }\n",
       "\n",
       "    .dataframe thead th {\n",
       "        text-align: right;\n",
       "    }\n",
       "</style>\n",
       "<table border=\"1\" class=\"dataframe\">\n",
       "  <thead>\n",
       "    <tr style=\"text-align: right;\">\n",
       "      <th></th>\n",
       "      <th>wiki_movie_id</th>\n",
       "      <th>plot</th>\n",
       "    </tr>\n",
       "  </thead>\n",
       "  <tbody>\n",
       "    <tr>\n",
       "      <th>0</th>\n",
       "      <td>23890098</td>\n",
       "      <td>Shlykov, a hard-working taxi driver and Lyosha...</td>\n",
       "    </tr>\n",
       "    <tr>\n",
       "      <th>1</th>\n",
       "      <td>31186339</td>\n",
       "      <td>The nation of Panem consists of a wealthy Capi...</td>\n",
       "    </tr>\n",
       "    <tr>\n",
       "      <th>2</th>\n",
       "      <td>20663735</td>\n",
       "      <td>Poovalli Induchoodan  is sentenced for six yea...</td>\n",
       "    </tr>\n",
       "    <tr>\n",
       "      <th>3</th>\n",
       "      <td>2231378</td>\n",
       "      <td>The Lemon Drop Kid , a New York City swindler,...</td>\n",
       "    </tr>\n",
       "    <tr>\n",
       "      <th>4</th>\n",
       "      <td>595909</td>\n",
       "      <td>Seventh-day Adventist Church pastor Michael Ch...</td>\n",
       "    </tr>\n",
       "  </tbody>\n",
       "</table>\n",
       "</div>"
      ],
      "text/plain": [
       "   wiki_movie_id                                               plot\n",
       "0       23890098  Shlykov, a hard-working taxi driver and Lyosha...\n",
       "1       31186339  The nation of Panem consists of a wealthy Capi...\n",
       "2       20663735  Poovalli Induchoodan  is sentenced for six yea...\n",
       "3        2231378  The Lemon Drop Kid , a New York City swindler,...\n",
       "4         595909  Seventh-day Adventist Church pastor Michael Ch..."
      ]
     },
     "execution_count": 51,
     "metadata": {},
     "output_type": "execute_result"
    }
   ],
   "source": [
    "plots =  pd.read_csv(data_folder + 'plot_summaries.txt', sep = '\\t', header=None, names=('wiki_movie_id','plot'))\n",
    "plots.head()"
   ]
  },
  {
   "cell_type": "code",
   "execution_count": 52,
   "id": "2bbf30c4-f9cb-49d3-85bc-ecbe6b2c1cbb",
   "metadata": {},
   "outputs": [
    {
     "name": "stdout",
     "output_type": "stream",
     "text": [
      "number of movies:\t63652\n",
      "number of plots:\t42303\n",
      "combined info:\t\t42204\n"
     ]
    },
    {
     "data": {
      "text/html": [
       "<div>\n",
       "<style scoped>\n",
       "    .dataframe tbody tr th:only-of-type {\n",
       "        vertical-align: middle;\n",
       "    }\n",
       "\n",
       "    .dataframe tbody tr th {\n",
       "        vertical-align: top;\n",
       "    }\n",
       "\n",
       "    .dataframe thead th {\n",
       "        text-align: right;\n",
       "    }\n",
       "</style>\n",
       "<table border=\"1\" class=\"dataframe\">\n",
       "  <thead>\n",
       "    <tr style=\"text-align: right;\">\n",
       "      <th></th>\n",
       "      <th>wiki_movie_id</th>\n",
       "      <th>freebase_movie_id</th>\n",
       "      <th>movie_name</th>\n",
       "      <th>release_date</th>\n",
       "      <th>box_office_revenue</th>\n",
       "      <th>movie_runtime</th>\n",
       "      <th>languages</th>\n",
       "      <th>countries</th>\n",
       "      <th>genres</th>\n",
       "      <th>release_year</th>\n",
       "      <th>plot</th>\n",
       "    </tr>\n",
       "  </thead>\n",
       "  <tbody>\n",
       "    <tr>\n",
       "      <th>0</th>\n",
       "      <td>975900</td>\n",
       "      <td>/m/03vyhn</td>\n",
       "      <td>Ghosts of Mars</td>\n",
       "      <td>2001-08-24</td>\n",
       "      <td>14010832.0</td>\n",
       "      <td>98.0</td>\n",
       "      <td>{\"/m/02h40lc\": \"English Language\"}</td>\n",
       "      <td>{\"/m/09c7w0\": \"United States of America\"}</td>\n",
       "      <td>{\"/m/01jfsb\": \"Thriller\", \"/m/06n90\": \"Science...</td>\n",
       "      <td>2001.0</td>\n",
       "      <td>Set in the second half of the 22nd century, th...</td>\n",
       "    </tr>\n",
       "    <tr>\n",
       "      <th>1</th>\n",
       "      <td>9363483</td>\n",
       "      <td>/m/0285_cd</td>\n",
       "      <td>White Of The Eye</td>\n",
       "      <td>1987-01-01</td>\n",
       "      <td>NaN</td>\n",
       "      <td>110.0</td>\n",
       "      <td>{\"/m/02h40lc\": \"English Language\"}</td>\n",
       "      <td>{\"/m/07ssc\": \"United Kingdom\"}</td>\n",
       "      <td>{\"/m/01jfsb\": \"Thriller\", \"/m/0glj9q\": \"Erotic...</td>\n",
       "      <td>1987.0</td>\n",
       "      <td>A series of murders of rich young women throug...</td>\n",
       "    </tr>\n",
       "    <tr>\n",
       "      <th>2</th>\n",
       "      <td>261236</td>\n",
       "      <td>/m/01mrr1</td>\n",
       "      <td>A Woman in Flames</td>\n",
       "      <td>1983-01-01</td>\n",
       "      <td>NaN</td>\n",
       "      <td>106.0</td>\n",
       "      <td>{\"/m/04306rv\": \"German Language\"}</td>\n",
       "      <td>{\"/m/0345h\": \"Germany\"}</td>\n",
       "      <td>{\"/m/07s9rl0\": \"Drama\"}</td>\n",
       "      <td>1983.0</td>\n",
       "      <td>Eva, an upper class housewife, becomes frustra...</td>\n",
       "    </tr>\n",
       "  </tbody>\n",
       "</table>\n",
       "</div>"
      ],
      "text/plain": [
       "   wiki_movie_id freebase_movie_id         movie_name release_date  \\\n",
       "0         975900         /m/03vyhn     Ghosts of Mars   2001-08-24   \n",
       "1        9363483        /m/0285_cd   White Of The Eye   1987-01-01   \n",
       "2         261236         /m/01mrr1  A Woman in Flames   1983-01-01   \n",
       "\n",
       "   box_office_revenue  movie_runtime                           languages  \\\n",
       "0          14010832.0           98.0  {\"/m/02h40lc\": \"English Language\"}   \n",
       "1                 NaN          110.0  {\"/m/02h40lc\": \"English Language\"}   \n",
       "2                 NaN          106.0   {\"/m/04306rv\": \"German Language\"}   \n",
       "\n",
       "                                   countries  \\\n",
       "0  {\"/m/09c7w0\": \"United States of America\"}   \n",
       "1             {\"/m/07ssc\": \"United Kingdom\"}   \n",
       "2                    {\"/m/0345h\": \"Germany\"}   \n",
       "\n",
       "                                              genres  release_year  \\\n",
       "0  {\"/m/01jfsb\": \"Thriller\", \"/m/06n90\": \"Science...        2001.0   \n",
       "1  {\"/m/01jfsb\": \"Thriller\", \"/m/0glj9q\": \"Erotic...        1987.0   \n",
       "2                            {\"/m/07s9rl0\": \"Drama\"}        1983.0   \n",
       "\n",
       "                                                plot  \n",
       "0  Set in the second half of the 22nd century, th...  \n",
       "1  A series of murders of rich young women throug...  \n",
       "2  Eva, an upper class housewife, becomes frustra...  "
      ]
     },
     "execution_count": 52,
     "metadata": {},
     "output_type": "execute_result"
    }
   ],
   "source": [
    "movies_with_plots = pd.merge(left = movies, right = plots, left_on = 'wiki_movie_id', right_on = 'wiki_movie_id', how = 'inner')\n",
    "print('number of movies:\\t{}\\nnumber of plots:\\t{}\\ncombined info:\\t\\t{}'.format(characters.wiki_movie_id.unique().size, len(plots), len(movies_with_plots)))\n",
    "movies_with_plots.head(3)"
   ]
  },
  {
   "cell_type": "markdown",
   "id": "62692c1f-16fc-4a0a-bb24-85c391eebe9f",
   "metadata": {},
   "source": [
    "#### tvtropes.clusters.txt\n",
    "\n",
    "72 character types drawn from tvtropes.com, along with 501 instances of those types.  The ID field indexes into the Freebase character/actor map ID in character.metadata.tsv."
   ]
  },
  {
   "cell_type": "code",
   "execution_count": 59,
   "id": "083a83c8-3a65-42d1-ad4f-c3f80277ab15",
   "metadata": {},
   "outputs": [
    {
     "data": {
      "text/html": [
       "<div>\n",
       "<style scoped>\n",
       "    .dataframe tbody tr th:only-of-type {\n",
       "        vertical-align: middle;\n",
       "    }\n",
       "\n",
       "    .dataframe tbody tr th {\n",
       "        vertical-align: top;\n",
       "    }\n",
       "\n",
       "    .dataframe thead th {\n",
       "        text-align: right;\n",
       "    }\n",
       "</style>\n",
       "<table border=\"1\" class=\"dataframe\">\n",
       "  <thead>\n",
       "    <tr style=\"text-align: right;\">\n",
       "      <th></th>\n",
       "      <th>char_type</th>\n",
       "      <th>char_name</th>\n",
       "      <th>movie_name</th>\n",
       "      <th>freebase_map_id</th>\n",
       "      <th>actor_name</th>\n",
       "    </tr>\n",
       "  </thead>\n",
       "  <tbody>\n",
       "    <tr>\n",
       "      <th>0</th>\n",
       "      <td>absent_minded_professor</td>\n",
       "      <td>Professor Philip Brainard</td>\n",
       "      <td>Flubber</td>\n",
       "      <td>/m/0jy9q0</td>\n",
       "      <td>Robin Williams</td>\n",
       "    </tr>\n",
       "    <tr>\n",
       "      <th>1</th>\n",
       "      <td>absent_minded_professor</td>\n",
       "      <td>Professor Keenbean</td>\n",
       "      <td>Richie Rich</td>\n",
       "      <td>/m/02vchl3</td>\n",
       "      <td>Michael McShane</td>\n",
       "    </tr>\n",
       "    <tr>\n",
       "      <th>2</th>\n",
       "      <td>absent_minded_professor</td>\n",
       "      <td>Dr. Reinhardt Lane</td>\n",
       "      <td>The Shadow</td>\n",
       "      <td>/m/0k6fkc</td>\n",
       "      <td>Ian McKellen</td>\n",
       "    </tr>\n",
       "    <tr>\n",
       "      <th>3</th>\n",
       "      <td>absent_minded_professor</td>\n",
       "      <td>Dr. Harold Medford</td>\n",
       "      <td>Them!</td>\n",
       "      <td>/m/0k6_br</td>\n",
       "      <td>Edmund Gwenn</td>\n",
       "    </tr>\n",
       "    <tr>\n",
       "      <th>4</th>\n",
       "      <td>absent_minded_professor</td>\n",
       "      <td>Daniel Jackson</td>\n",
       "      <td>Stargate</td>\n",
       "      <td>/m/0k3rhh</td>\n",
       "      <td>James Spader</td>\n",
       "    </tr>\n",
       "  </tbody>\n",
       "</table>\n",
       "</div>"
      ],
      "text/plain": [
       "                 char_type                  char_name   movie_name  \\\n",
       "0  absent_minded_professor  Professor Philip Brainard      Flubber   \n",
       "1  absent_minded_professor         Professor Keenbean  Richie Rich   \n",
       "2  absent_minded_professor         Dr. Reinhardt Lane   The Shadow   \n",
       "3  absent_minded_professor         Dr. Harold Medford        Them!   \n",
       "4  absent_minded_professor             Daniel Jackson     Stargate   \n",
       "\n",
       "  freebase_map_id       actor_name  \n",
       "0       /m/0jy9q0   Robin Williams  \n",
       "1      /m/02vchl3  Michael McShane  \n",
       "2       /m/0k6fkc     Ian McKellen  \n",
       "3       /m/0k6_br     Edmund Gwenn  \n",
       "4       /m/0k3rhh     James Spader  "
      ]
     },
     "execution_count": 59,
     "metadata": {},
     "output_type": "execute_result"
    }
   ],
   "source": [
    "tvtropes = pd.read_csv(data_folder + 'tvtropes.clusters.txt', sep = '\\t', header=None, names=('char_type', 'details'))\n",
    "\n",
    "# split the details to seprate columns\n",
    "details = tvtropes['details'].str.slice(start=1, stop=-1).str.split('\", \"|\": \"', expand=True)\n",
    "\n",
    "tvtropes['char_name'] = details[1]\n",
    "tvtropes['movie_name'] = details[3]\n",
    "tvtropes['freebase_map_id'] = details[5]\n",
    "tvtropes['actor_name'] = details[7].str.replace('\"' ,'',regex=True)\n",
    "tvtropes.drop(columns=['details'], inplace = True)\n",
    "tvtropes.head()"
   ]
  },
  {
   "cell_type": "markdown",
   "id": "ae33fddc",
   "metadata": {},
   "source": [
    "#### title.crew.tsv.gz\n",
    "\n",
    "Contains the director and writer information for all the titles in IMDb.\n",
    "\n",
    "1. tconst (string) - alphanumeric unique identifier of the title\n",
    "2. Directors (array of nconsts) - director(s) of the given title\n",
    "3. Writers (array of nconsts) – writer(s) of the given title"
   ]
  },
  {
   "cell_type": "code",
   "execution_count": 60,
   "id": "3f6defae",
   "metadata": {
    "collapsed": false,
    "jupyter": {
     "outputs_hidden": false
    }
   },
   "outputs": [
    {
     "data": {
      "text/html": [
       "<div>\n",
       "<style scoped>\n",
       "    .dataframe tbody tr th:only-of-type {\n",
       "        vertical-align: middle;\n",
       "    }\n",
       "\n",
       "    .dataframe tbody tr th {\n",
       "        vertical-align: top;\n",
       "    }\n",
       "\n",
       "    .dataframe thead th {\n",
       "        text-align: right;\n",
       "    }\n",
       "</style>\n",
       "<table border=\"1\" class=\"dataframe\">\n",
       "  <thead>\n",
       "    <tr style=\"text-align: right;\">\n",
       "      <th></th>\n",
       "      <th>tconst</th>\n",
       "      <th>directors</th>\n",
       "      <th>writers</th>\n",
       "    </tr>\n",
       "  </thead>\n",
       "  <tbody>\n",
       "    <tr>\n",
       "      <th>0</th>\n",
       "      <td>tt0000001</td>\n",
       "      <td>nm0005690</td>\n",
       "      <td>NaN</td>\n",
       "    </tr>\n",
       "    <tr>\n",
       "      <th>1</th>\n",
       "      <td>tt0000002</td>\n",
       "      <td>nm0721526</td>\n",
       "      <td>NaN</td>\n",
       "    </tr>\n",
       "    <tr>\n",
       "      <th>2</th>\n",
       "      <td>tt0000003</td>\n",
       "      <td>nm0721526</td>\n",
       "      <td>NaN</td>\n",
       "    </tr>\n",
       "    <tr>\n",
       "      <th>3</th>\n",
       "      <td>tt0000004</td>\n",
       "      <td>nm0721526</td>\n",
       "      <td>NaN</td>\n",
       "    </tr>\n",
       "    <tr>\n",
       "      <th>4</th>\n",
       "      <td>tt0000005</td>\n",
       "      <td>nm0005690</td>\n",
       "      <td>NaN</td>\n",
       "    </tr>\n",
       "  </tbody>\n",
       "</table>\n",
       "</div>"
      ],
      "text/plain": [
       "      tconst  directors writers\n",
       "0  tt0000001  nm0005690     NaN\n",
       "1  tt0000002  nm0721526     NaN\n",
       "2  tt0000003  nm0721526     NaN\n",
       "3  tt0000004  nm0721526     NaN\n",
       "4  tt0000005  nm0005690     NaN"
      ]
     },
     "execution_count": 60,
     "metadata": {},
     "output_type": "execute_result"
    }
   ],
   "source": [
    "crew = pd.read_csv('data/title.crew.tsv.gz', compression='gzip', sep='\\t', na_values=\"\\\\N\")\n",
    "crew.head()"
   ]
  },
  {
   "cell_type": "markdown",
   "id": "a52402b9",
   "metadata": {},
   "source": [
    "To link the titles of the movies and the writers/directors we need two additional dataset:\n",
    "1. title.akas.tsv.gz, that contains titles and tconst\n",
    "2. data/name.basics.tsv.gz, that contains writers/directors id and their ids\n"
   ]
  },
  {
   "cell_type": "code",
   "execution_count": null,
   "id": "4e7201b0",
   "metadata": {
    "collapsed": false,
    "jupyter": {
     "outputs_hidden": false
    }
   },
   "outputs": [],
   "source": [
    "titles = pd.read_csv('data/title.akas.tsv.gz', compression='gzip', sep='\\t', na_values=\"\\\\N\", usecols=['titleId', 'title'], low_memory=True)\n",
    "titles = titles.rename(columns={'titleId' : 'tconst'})\n",
    "titles.head()"
   ]
  },
  {
   "cell_type": "code",
   "execution_count": null,
   "id": "fbe0991e",
   "metadata": {
    "collapsed": false,
    "jupyter": {
     "outputs_hidden": false
    }
   },
   "outputs": [],
   "source": [
    "## Inner join titles and metadata to only keep the movies that are in the original set\n",
    "titles = pd.merge(titles, movies.rename(columns={'movie_name' : 'title'}).title, on='title', how='inner')\n",
    "titles.head()"
   ]
  },
  {
   "cell_type": "code",
   "execution_count": null,
   "id": "3fe073d8",
   "metadata": {
    "collapsed": false,
    "jupyter": {
     "outputs_hidden": false
    }
   },
   "outputs": [],
   "source": [
    "## Inner join crew and titles on tconst to have the title name with the directors and writers\n",
    "crew = pd.merge(crew, titles, on='tconst', how='inner')\n",
    "crew.drop('tconst', axis=1, inplace=True) ## Drop useless column \"tconst\"\n",
    "crew = crew.drop_duplicates() ## Drop duplicates i.e. titles that have multiple \"tconst\" values\n",
    "del titles ## Free memory\n",
    "crew.head()"
   ]
  },
  {
   "cell_type": "code",
   "execution_count": null,
   "id": "6968283a",
   "metadata": {
    "collapsed": false,
    "jupyter": {
     "outputs_hidden": false
    }
   },
   "outputs": [],
   "source": [
    "# Create two data frame for directors and writers, and drop the row without directors and writers.\n",
    "directors = crew[['directors', 'title']].dropna()\n",
    "writers = crew[['title', 'writers']].dropna()"
   ]
  },
  {
   "cell_type": "code",
   "execution_count": null,
   "id": "f733fb26",
   "metadata": {
    "collapsed": false,
    "jupyter": {
     "outputs_hidden": false
    }
   },
   "outputs": [],
   "source": [
    "# Directors and writers are list, so we transform them into rows\n",
    "directors['directors'] = directors['directors'].str.split(pat=',')\n",
    "writers['writers'] = writers['writers'].str.split(pat=',')\n",
    "directors = directors.explode('directors')\n",
    "writers = writers.explode('writers')"
   ]
  },
  {
   "cell_type": "code",
   "execution_count": null,
   "id": "06e08792",
   "metadata": {
    "collapsed": false,
    "jupyter": {
     "outputs_hidden": false
    }
   },
   "outputs": [],
   "source": [
    "names = pd.read_csv('data/name.basics.tsv.gz', compression='gzip', sep='\\t', na_values=\"\\\\N\", usecols=['nconst', 'primaryName'], low_memory=True)\n",
    "names.head()"
   ]
  },
  {
   "cell_type": "code",
   "execution_count": null,
   "id": "021465a0",
   "metadata": {
    "collapsed": false,
    "jupyter": {
     "outputs_hidden": false
    }
   },
   "outputs": [],
   "source": [
    "directors = pd.merge(directors, names.rename(columns={'nconst' : 'directors'})[['directors', 'primaryName']],\n",
    "                     on='directors', how='inner')\n",
    "directors.drop('directors', axis=1, inplace=True)\n",
    "directors.rename(columns={'primaryName' : 'director_name'}, inplace=True)\n",
    "directors = directors.drop_duplicates()\n",
    "directors.head()"
   ]
  },
  {
   "cell_type": "code",
   "execution_count": null,
   "id": "c96f6aa3",
   "metadata": {
    "collapsed": false,
    "jupyter": {
     "outputs_hidden": false
    }
   },
   "outputs": [],
   "source": [
    "writers = pd.merge(writers, names.rename(columns={'nconst' : 'writers'})[['writers', 'primaryName']],\n",
    "                   on='writers', how='inner')\n",
    "writers.drop('writers', axis=1, inplace=True)\n",
    "writers.rename(columns={'primaryName' : 'writer_name'}, inplace=True)\n",
    "writers = writers.drop_duplicates()\n",
    "del names ## Free memory\n",
    "writers.head()"
   ]
  },
  {
   "cell_type": "code",
   "execution_count": 1,
   "id": "d410fc72",
   "metadata": {},
   "outputs": [
    {
     "data": {
      "text/plain": "'M'"
     },
     "execution_count": 1,
     "metadata": {},
     "output_type": "execute_result"
    }
   ],
   "source": [
    "## TODO use wikidata to find the gender of the writers and directors\n",
    "import requests\n",
    "\n",
    "def get_wiki_id(name: str):\n",
    "    \"\"\"\n",
    "    Get the wikidata id of a person\n",
    "    :param name: name of the person\n",
    "    :return: wikidata id\n",
    "    \"\"\"\n",
    "    api = \"https://www.wikidata.org/w/api.php\"\n",
    "\n",
    "    params = {\n",
    "        'action': 'wbsearchentities',\n",
    "        'format': 'json',\n",
    "        'language': 'en',\n",
    "        'formatversion': '2',\n",
    "        'search': name\n",
    "    }\n",
    "\n",
    "    r = requests.get(api, params = params)\n",
    "\n",
    "    wiki_id = r.json()['search'][0].get('id')\n",
    "    return wiki_id\n",
    "\n",
    "def get_gender(name: str):\n",
    "    \"\"\"\n",
    "    Get the gender of a person from his wiki_id\n",
    "    :param name: name of the person\n",
    "    :return: genre, 'M' for male, 'F' for female and None else\n",
    "    \"\"\"\n",
    "    api = \"https://www.wikidata.org/w/api.php\"\n",
    "\n",
    "    # Const from wikidata\n",
    "    male_id = 'Q6581097'\n",
    "    female_id = 'Q6581072'\n",
    "\n",
    "    wiki_id = get_wiki_id(name)\n",
    "\n",
    "    params = {\n",
    "        \"action\": \"wbgetentities\",\n",
    "        \"format\": \"json\",\n",
    "        \"props\": \"claims\",\n",
    "        \"languages\": \"en\",\n",
    "        \"formatversion\": \"2\",\n",
    "        \"ids\": wiki_id\n",
    "    }\n",
    "\n",
    "    r = requests.get(api, params = params)\n",
    "\n",
    "    # Get P21 value i.e. the gender property id\n",
    "    gender_id = r.json()['entities'][wiki_id]['claims']['P21'][0]['mainsnak']['datavalue']['value']['id']\n",
    "\n",
    "    if gender_id == male_id:\n",
    "        return 'M'\n",
    "    elif gender_id == female_id:\n",
    "        return 'F'\n",
    "    else:\n",
    "        return None\n",
    "get_gender(\"Washington Irving\")"
   ]
  },
  {
   "cell_type": "markdown",
<<<<<<< Updated upstream
   "id": "d241bf12-950c-47fc-a128-2bb12de2705b",
   "metadata": {},
   "source": [
    "### Clean the dataframe"
   ]
  },
  {
   "cell_type": "code",
   "execution_count": null,
   "id": "734b438d-33c8-4b36-ac8f-e963cbf98e47",
   "metadata": {},
   "outputs": [],
   "source": []
  },
  {
   "cell_type": "code",
   "execution_count": null,
   "id": "beedc5d0-7bbb-4391-a885-863fb65cd914",
   "metadata": {},
   "outputs": [],
   "source": []
  },
  {
   "cell_type": "code",
   "execution_count": null,
   "id": "133400aa-febc-4d8e-b5aa-09ea7cdd3d5d",
   "metadata": {},
   "outputs": [],
   "source": []
  },
  {
   "cell_type": "markdown",
   "id": "489b0458-c258-420b-8a79-6e01b75bb2ff",
   "metadata": {},
   "source": [
    "#### corenlp_plot_summaries.tar.gz\n",
    "\n",
    "The plot summaries from above, run through the Stanford CoreNLP pipeline (tagging, parsing, NER and coref). Each filename begins with the Wikipedia movie ID (which indexes into movie.metadata.tsv)."
   ]
  },
  {
   "cell_type": "markdown",
=======
>>>>>>> Stashed changes
   "id": "6b77c3a1",
   "metadata": {},
   "source": [
    "## Task 2 Quantification of gender inequality\n",
    "\n",
    "###  2.1 Male/female ratio \n",
    "#### 2.1.1 Cast"
   ]
  },
  {
   "cell_type": "code",
   "execution_count": 66,
   "id": "1aaeadd9",
   "metadata": {},
   "outputs": [],
   "source": [
    "# input: string of male and female represtation, e.g. 'FMMMFMMM'\n",
    "# output: the ratio of total occurance of female represtation F\n",
    "def get_female_ratio(s):\n",
    "    female_count = 0\n",
    "    for i in range(len(s)):\n",
    "        if s[i] == 'F':\n",
    "            female_count = female_count+1\n",
    "    return round(female_count/len(s), 4)\n",
    "\n"
   ]
  },
  {
   "cell_type": "code",
   "execution_count": 70,
   "id": "5b813d1b-2295-4c08-8949-99494d406513",
   "metadata": {},
   "outputs": [
    {
     "data": {
      "text/html": [
       "<div>\n",
       "<style scoped>\n",
       "    .dataframe tbody tr th:only-of-type {\n",
       "        vertical-align: middle;\n",
       "    }\n",
       "\n",
       "    .dataframe tbody tr th {\n",
       "        vertical-align: top;\n",
       "    }\n",
       "\n",
       "    .dataframe thead th {\n",
       "        text-align: right;\n",
       "    }\n",
       "</style>\n",
       "<table border=\"1\" class=\"dataframe\">\n",
       "  <thead>\n",
       "    <tr style=\"text-align: right;\">\n",
       "      <th></th>\n",
       "      <th>actor_gender</th>\n",
       "      <th>release_year</th>\n",
       "    </tr>\n",
       "  </thead>\n",
       "  <tbody>\n",
       "    <tr>\n",
       "      <th>0</th>\n",
       "      <td>F</td>\n",
       "      <td>2001.0</td>\n",
       "    </tr>\n",
       "    <tr>\n",
       "      <th>1</th>\n",
       "      <td>F</td>\n",
       "      <td>2001.0</td>\n",
       "    </tr>\n",
       "    <tr>\n",
       "      <th>2</th>\n",
       "      <td>M</td>\n",
       "      <td>2001.0</td>\n",
       "    </tr>\n",
       "    <tr>\n",
       "      <th>3</th>\n",
       "      <td>M</td>\n",
       "      <td>2001.0</td>\n",
       "    </tr>\n",
       "    <tr>\n",
       "      <th>4</th>\n",
       "      <td>F</td>\n",
       "      <td>2001.0</td>\n",
       "    </tr>\n",
       "    <tr>\n",
       "      <th>...</th>\n",
       "      <td>...</td>\n",
       "      <td>...</td>\n",
       "    </tr>\n",
       "    <tr>\n",
       "      <th>450664</th>\n",
       "      <td>F</td>\n",
       "      <td>1992.0</td>\n",
       "    </tr>\n",
       "    <tr>\n",
       "      <th>450665</th>\n",
       "      <td>M</td>\n",
       "      <td>1992.0</td>\n",
       "    </tr>\n",
       "    <tr>\n",
       "      <th>450666</th>\n",
       "      <td>M</td>\n",
       "      <td>1957.0</td>\n",
       "    </tr>\n",
       "    <tr>\n",
       "      <th>450667</th>\n",
       "      <td>NaN</td>\n",
       "      <td>1957.0</td>\n",
       "    </tr>\n",
       "    <tr>\n",
       "      <th>450668</th>\n",
       "      <td>NaN</td>\n",
       "      <td>1957.0</td>\n",
       "    </tr>\n",
       "  </tbody>\n",
       "</table>\n",
       "<p>450669 rows × 2 columns</p>\n",
       "</div>"
      ],
      "text/plain": [
       "       actor_gender  release_year\n",
       "0                 F        2001.0\n",
       "1                 F        2001.0\n",
       "2                 M        2001.0\n",
       "3                 M        2001.0\n",
       "4                 F        2001.0\n",
       "...             ...           ...\n",
       "450664            F        1992.0\n",
       "450665            M        1992.0\n",
       "450666            M        1957.0\n",
       "450667          NaN        1957.0\n",
       "450668          NaN        1957.0\n",
       "\n",
       "[450669 rows x 2 columns]"
      ]
     },
     "execution_count": 70,
     "metadata": {},
     "output_type": "execute_result"
    }
   ],
   "source": [
    "# TODO：through time\n",
    "gender_by_year = characters.copy()\n",
    "gender_by_year = gender_by_year[['actor_gender', 'release_year']]\n",
    "gender_by_year"
   ]
  },
  {
   "cell_type": "code",
   "execution_count": null,
   "id": "604a1eec-1b7c-4bee-8402-a4b146a13f8f",
   "metadata": {},
   "outputs": [],
   "source": [
    "female_by_year = gender_by_year.groupby('genres').agg('sum')"
   ]
  },
  {
   "cell_type": "markdown",
   "id": "2f088a2c",
   "metadata": {},
   "source": [
    "#### 2.1.2 Director and writer"
   ]
  },
  {
   "cell_type": "code",
   "execution_count": null,
   "id": "46729ba0",
   "metadata": {},
   "outputs": [],
   "source": [
    "# TODO "
   ]
  },
  {
   "cell_type": "markdown",
   "id": "b9393a6b",
   "metadata": {},
   "source": [
    "###  2.2 Age gap between males and females\n",
    "#### 2.2.1 Cast"
   ]
  },
  {
   "cell_type": "code",
   "execution_count": 171,
   "id": "322d4ab4",
   "metadata": {},
   "outputs": [
    {
     "data": {
      "text/html": [
       "<div>\n",
       "<style scoped>\n",
       "    .dataframe tbody tr th:only-of-type {\n",
       "        vertical-align: middle;\n",
       "    }\n",
       "\n",
       "    .dataframe tbody tr th {\n",
       "        vertical-align: top;\n",
       "    }\n",
       "\n",
       "    .dataframe thead th {\n",
       "        text-align: right;\n",
       "    }\n",
       "</style>\n",
       "<table border=\"1\" class=\"dataframe\">\n",
       "  <thead>\n",
       "    <tr style=\"text-align: right;\">\n",
       "      <th></th>\n",
       "      <th>wiki_movie_id</th>\n",
       "      <th>freebase_movie_id</th>\n",
       "      <th>release_date</th>\n",
       "      <th>character_name</th>\n",
       "      <th>actor_date_of_birth</th>\n",
       "      <th>actor_gender</th>\n",
       "      <th>height</th>\n",
       "      <th>actor_ethnicity</th>\n",
       "      <th>actor_name</th>\n",
       "      <th>actor_age_at_release</th>\n",
       "      <th>freebase_map_id</th>\n",
       "      <th>freebase_character_id</th>\n",
       "      <th>freebase_actor_id</th>\n",
       "    </tr>\n",
       "  </thead>\n",
       "  <tbody>\n",
       "    <tr>\n",
       "      <th>0</th>\n",
       "      <td>975900</td>\n",
       "      <td>/m/03vyhn</td>\n",
       "      <td>2001-08-24</td>\n",
       "      <td>Akooshay</td>\n",
       "      <td>1958-08-26</td>\n",
       "      <td>F</td>\n",
       "      <td>1.620</td>\n",
       "      <td>NaN</td>\n",
       "      <td>Wanda De Jesus</td>\n",
       "      <td>42.0</td>\n",
       "      <td>/m/0bgchxw</td>\n",
       "      <td>/m/0bgcj3x</td>\n",
       "      <td>/m/03wcfv7</td>\n",
       "    </tr>\n",
       "    <tr>\n",
       "      <th>1</th>\n",
       "      <td>975900</td>\n",
       "      <td>/m/03vyhn</td>\n",
       "      <td>2001-08-24</td>\n",
       "      <td>Lieutenant Melanie Ballard</td>\n",
       "      <td>1974-08-15</td>\n",
       "      <td>F</td>\n",
       "      <td>1.780</td>\n",
       "      <td>/m/044038p</td>\n",
       "      <td>Natasha Henstridge</td>\n",
       "      <td>27.0</td>\n",
       "      <td>/m/0jys3m</td>\n",
       "      <td>/m/0bgchn4</td>\n",
       "      <td>/m/0346l4</td>\n",
       "    </tr>\n",
       "    <tr>\n",
       "      <th>2</th>\n",
       "      <td>975900</td>\n",
       "      <td>/m/03vyhn</td>\n",
       "      <td>2001-08-24</td>\n",
       "      <td>Desolation Williams</td>\n",
       "      <td>1969-06-15</td>\n",
       "      <td>M</td>\n",
       "      <td>1.727</td>\n",
       "      <td>/m/0x67</td>\n",
       "      <td>Ice Cube</td>\n",
       "      <td>32.0</td>\n",
       "      <td>/m/0jys3g</td>\n",
       "      <td>/m/0bgchn_</td>\n",
       "      <td>/m/01vw26l</td>\n",
       "    </tr>\n",
       "    <tr>\n",
       "      <th>3</th>\n",
       "      <td>975900</td>\n",
       "      <td>/m/03vyhn</td>\n",
       "      <td>2001-08-24</td>\n",
       "      <td>Sgt Jericho Butler</td>\n",
       "      <td>1967-09-12</td>\n",
       "      <td>M</td>\n",
       "      <td>1.750</td>\n",
       "      <td>NaN</td>\n",
       "      <td>Jason Statham</td>\n",
       "      <td>33.0</td>\n",
       "      <td>/m/02vchl6</td>\n",
       "      <td>/m/0bgchnq</td>\n",
       "      <td>/m/034hyc</td>\n",
       "    </tr>\n",
       "    <tr>\n",
       "      <th>4</th>\n",
       "      <td>975900</td>\n",
       "      <td>/m/03vyhn</td>\n",
       "      <td>2001-08-24</td>\n",
       "      <td>Bashira Kincaid</td>\n",
       "      <td>1977-09-25</td>\n",
       "      <td>F</td>\n",
       "      <td>1.650</td>\n",
       "      <td>NaN</td>\n",
       "      <td>Clea DuVall</td>\n",
       "      <td>23.0</td>\n",
       "      <td>/m/02vbb3r</td>\n",
       "      <td>/m/0bgchp9</td>\n",
       "      <td>/m/01y9xg</td>\n",
       "    </tr>\n",
       "    <tr>\n",
       "      <th>...</th>\n",
       "      <td>...</td>\n",
       "      <td>...</td>\n",
       "      <td>...</td>\n",
       "      <td>...</td>\n",
       "      <td>...</td>\n",
       "      <td>...</td>\n",
       "      <td>...</td>\n",
       "      <td>...</td>\n",
       "      <td>...</td>\n",
       "      <td>...</td>\n",
       "      <td>...</td>\n",
       "      <td>...</td>\n",
       "      <td>...</td>\n",
       "    </tr>\n",
       "    <tr>\n",
       "      <th>450660</th>\n",
       "      <td>913762</td>\n",
       "      <td>/m/03pcrp</td>\n",
       "      <td>1992-05-21</td>\n",
       "      <td>Additional Voices</td>\n",
       "      <td>1954</td>\n",
       "      <td>M</td>\n",
       "      <td>NaN</td>\n",
       "      <td>NaN</td>\n",
       "      <td>Sonny Byrkett</td>\n",
       "      <td>38.0</td>\n",
       "      <td>/m/0kr405f</td>\n",
       "      <td>/m/0kr405k</td>\n",
       "      <td>/m/0gn4bz</td>\n",
       "    </tr>\n",
       "    <tr>\n",
       "      <th>450661</th>\n",
       "      <td>913762</td>\n",
       "      <td>/m/03pcrp</td>\n",
       "      <td>1992-05-21</td>\n",
       "      <td>UN Spacy Commander</td>\n",
       "      <td>1954</td>\n",
       "      <td>M</td>\n",
       "      <td>NaN</td>\n",
       "      <td>NaN</td>\n",
       "      <td>Sonny Byrkett</td>\n",
       "      <td>38.0</td>\n",
       "      <td>/m/0kr407w</td>\n",
       "      <td>/m/0kr407_</td>\n",
       "      <td>/m/0gn4bz</td>\n",
       "    </tr>\n",
       "    <tr>\n",
       "      <th>450662</th>\n",
       "      <td>913762</td>\n",
       "      <td>/m/03pcrp</td>\n",
       "      <td>1992-05-21</td>\n",
       "      <td>Silvie Gena</td>\n",
       "      <td>1958</td>\n",
       "      <td>F</td>\n",
       "      <td>NaN</td>\n",
       "      <td>NaN</td>\n",
       "      <td>Susan Byrkett</td>\n",
       "      <td>34.0</td>\n",
       "      <td>/m/0kr40b9</td>\n",
       "      <td>/m/0kr40bf</td>\n",
       "      <td>/m/0gn4nd</td>\n",
       "    </tr>\n",
       "    <tr>\n",
       "      <th>450665</th>\n",
       "      <td>913762</td>\n",
       "      <td>/m/03pcrp</td>\n",
       "      <td>1992-05-21</td>\n",
       "      <td>Hibiki</td>\n",
       "      <td>1965-04-12</td>\n",
       "      <td>M</td>\n",
       "      <td>NaN</td>\n",
       "      <td>NaN</td>\n",
       "      <td>Jonathan Fahn</td>\n",
       "      <td>27.0</td>\n",
       "      <td>/m/0kr405_</td>\n",
       "      <td>/m/0kr4090</td>\n",
       "      <td>/m/0bx7_j</td>\n",
       "    </tr>\n",
       "    <tr>\n",
       "      <th>450666</th>\n",
       "      <td>28308153</td>\n",
       "      <td>/m/0cp05t9</td>\n",
       "      <td>1957-01-01</td>\n",
       "      <td>NaN</td>\n",
       "      <td>1941-11-18</td>\n",
       "      <td>M</td>\n",
       "      <td>1.730</td>\n",
       "      <td>/m/02w7gg</td>\n",
       "      <td>David Hemmings</td>\n",
       "      <td>15.0</td>\n",
       "      <td>/m/0g8ngmc</td>\n",
       "      <td>NaN</td>\n",
       "      <td>/m/022g44</td>\n",
       "    </tr>\n",
       "  </tbody>\n",
       "</table>\n",
       "<p>290349 rows × 13 columns</p>\n",
       "</div>"
      ],
      "text/plain": [
       "        wiki_movie_id freebase_movie_id release_date  \\\n",
       "0              975900         /m/03vyhn   2001-08-24   \n",
       "1              975900         /m/03vyhn   2001-08-24   \n",
       "2              975900         /m/03vyhn   2001-08-24   \n",
       "3              975900         /m/03vyhn   2001-08-24   \n",
       "4              975900         /m/03vyhn   2001-08-24   \n",
       "...               ...               ...          ...   \n",
       "450660         913762         /m/03pcrp   1992-05-21   \n",
       "450661         913762         /m/03pcrp   1992-05-21   \n",
       "450662         913762         /m/03pcrp   1992-05-21   \n",
       "450665         913762         /m/03pcrp   1992-05-21   \n",
       "450666       28308153        /m/0cp05t9   1957-01-01   \n",
       "\n",
       "                    character_name actor_date_of_birth actor_gender  height  \\\n",
       "0                         Akooshay          1958-08-26            F   1.620   \n",
       "1       Lieutenant Melanie Ballard          1974-08-15            F   1.780   \n",
       "2              Desolation Williams          1969-06-15            M   1.727   \n",
       "3               Sgt Jericho Butler          1967-09-12            M   1.750   \n",
       "4                  Bashira Kincaid          1977-09-25            F   1.650   \n",
       "...                            ...                 ...          ...     ...   \n",
       "450660           Additional Voices                1954            M     NaN   \n",
       "450661          UN Spacy Commander                1954            M     NaN   \n",
       "450662                 Silvie Gena                1958            F     NaN   \n",
       "450665                      Hibiki          1965-04-12            M     NaN   \n",
       "450666                         NaN          1941-11-18            M   1.730   \n",
       "\n",
       "       actor_ethnicity          actor_name  actor_age_at_release  \\\n",
       "0                  NaN      Wanda De Jesus                  42.0   \n",
       "1           /m/044038p  Natasha Henstridge                  27.0   \n",
       "2              /m/0x67            Ice Cube                  32.0   \n",
       "3                  NaN       Jason Statham                  33.0   \n",
       "4                  NaN         Clea DuVall                  23.0   \n",
       "...                ...                 ...                   ...   \n",
       "450660             NaN       Sonny Byrkett                  38.0   \n",
       "450661             NaN       Sonny Byrkett                  38.0   \n",
       "450662             NaN       Susan Byrkett                  34.0   \n",
       "450665             NaN       Jonathan Fahn                  27.0   \n",
       "450666       /m/02w7gg      David Hemmings                  15.0   \n",
       "\n",
       "       freebase_map_id freebase_character_id freebase_actor_id  \n",
       "0           /m/0bgchxw            /m/0bgcj3x        /m/03wcfv7  \n",
       "1            /m/0jys3m            /m/0bgchn4         /m/0346l4  \n",
       "2            /m/0jys3g            /m/0bgchn_        /m/01vw26l  \n",
       "3           /m/02vchl6            /m/0bgchnq         /m/034hyc  \n",
       "4           /m/02vbb3r            /m/0bgchp9         /m/01y9xg  \n",
       "...                ...                   ...               ...  \n",
       "450660      /m/0kr405f            /m/0kr405k         /m/0gn4bz  \n",
       "450661      /m/0kr407w            /m/0kr407_         /m/0gn4bz  \n",
       "450662      /m/0kr40b9            /m/0kr40bf         /m/0gn4nd  \n",
       "450665      /m/0kr405_            /m/0kr4090         /m/0bx7_j  \n",
       "450666      /m/0g8ngmc                   NaN         /m/022g44  \n",
       "\n",
       "[290349 rows x 13 columns]"
      ]
     },
     "execution_count": 171,
     "metadata": {},
     "output_type": "execute_result"
    }
   ],
   "source": [
    "age = characters.copy()\n",
    "age = age[age['actor_age_at_release']>0]# keep only positive values\n",
    "age"
   ]
  },
  {
   "cell_type": "code",
   "execution_count": 172,
   "id": "c29c4dfa",
   "metadata": {},
   "outputs": [
    {
     "data": {
      "text/plain": [
       "Text(0.5, 1.0, 'Age Distribution of Actresses and Actors at Release')"
      ]
     },
     "execution_count": 172,
     "metadata": {},
     "output_type": "execute_result"
    },
    {
     "data": {
      "image/png": "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\n",
      "text/plain": [
       "<Figure size 720x360 with 1 Axes>"
      ]
     },
     "metadata": {
      "needs_background": "light"
     },
     "output_type": "display_data"
    }
   ],
   "source": [
    "# age gap between actresses and actors\n",
    "female_chara = age[age['actor_gender']=='F'].dropna()\n",
    "male_chara = age[age['actor_gender']=='M'].dropna()\n",
    "np.random.seed(0)\n",
    "fig, ax = plt.subplots(figsize=(10, 5))\n",
    "a_heights, a_bins = np.histogram(female_chara['actor_age_at_release'])\n",
    "b_heights, b_bins = np.histogram(male_chara['actor_age_at_release'], bins=a_bins)\n",
    "width = (a_bins[1] - a_bins[0])/3\n",
    "ax.bar(a_bins[:-1], a_heights, width=width, facecolor='palevioletred',label='female')\n",
    "ax.axvline(female_chara['actor_age_at_release'].mean(), color='k', linestyle='dashed', linewidth=1.5)\n",
    "ax.text(female_chara['actor_age_at_release'].mean()-18,7100,'female mean: {:.2f}'.format(female_chara['actor_age_at_release'].mean()))\n",
    "\n",
    "ax.bar(b_bins[:-1]+width, b_heights, width=width, facecolor='cornflowerblue',label='male')\n",
    "ax.axvline(male_chara['actor_age_at_release'].mean(), color='k', linestyle='dashed', linewidth=1.5)\n",
    "ax.text(male_chara['actor_age_at_release'].mean()+1,7100,'male mean: {:.2f}'.format(male_chara['actor_age_at_release'].mean()))\n",
    "ax.legend()\n",
    "ax.set_title('Age Distribution of Actresses and Actors at Release')"
   ]
  },
  {
   "cell_type": "markdown",
   "id": "c10b5988",
   "metadata": {},
   "source": [
    "#### From the age distribution plot, we can see that the averge age of actors is around 40 years old, which is 8 years elder than actresses( a huge gap! ) . Also, age distribution of actors is closer to normal distribution, while actresses declines dramatically once they are no longer at their 'best age'. Women tend to have shorter career in acting. It's also noteworthy that for actors at the same age, men are dominant after 30 years old. It implies that good looks may be more valued for actresses than actors in movie industry."
   ]
  },
  {
   "cell_type": "markdown",
   "id": "aa65d59d",
   "metadata": {},
   "source": [
    "#### 2.2.2 Director and writer"
   ]
  },
  {
   "cell_type": "code",
   "execution_count": null,
   "id": "daab62a7",
   "metadata": {},
   "outputs": [],
   "source": [
    "# TODO"
   ]
  },
  {
   "cell_type": "markdown",
   "id": "8fb46683",
   "metadata": {},
   "source": [
    "###  2.3 Gender difference in different domains\n",
    "#### 2.3.1 Genre"
   ]
  },
  {
   "cell_type": "code",
   "execution_count": 53,
   "id": "4ccfc0ab",
   "metadata": {},
   "outputs": [],
   "source": [
    "movie_genres = movies.copy()\n",
    "movie_genres['genres'] = movie_genres['genres'].apply(lambda x: list(eval(x).values()))\n",
    "movie_genres = movie_genres.explode('genres', ignore_index = True)\n",
    "movie_genres = movie_genres.drop(columns=['freebase_movie_id', 'movie_name','release_date','box_office_revenue',\n",
    "              'movie_runtime', 'languages','countries','release_year'])\n",
    "genres_ct = movie_genres['genres'].value_counts()\n",
    "top30_genres = movie_genres['genres'].value_counts()[:30].index.tolist()"
   ]
  },
  {
   "cell_type": "code",
   "execution_count": 54,
   "id": "66197c7d",
   "metadata": {},
   "outputs": [],
   "source": [
    "# consider a genre is general when at least 100 movies in it\n",
    "general_genres = genres_ct[genres_ct > 100]\n",
    "general_genres = general_genres.index.tolist()"
   ]
  },
  {
   "cell_type": "code",
   "execution_count": 55,
   "id": "28545743",
   "metadata": {},
   "outputs": [],
   "source": [
    "character_genres = pd.merge(left = characters, right = movie_genres, left_on = 'wiki_movie_id', right_on = 'wiki_movie_id', how = 'inner')"
   ]
  },
  {
   "cell_type": "code",
   "execution_count": 56,
   "id": "d73af39b",
   "metadata": {},
   "outputs": [],
   "source": [
    "female_genres = character_genres[character_genres.genres.isin(general_genres)][['actor_gender', 'genres']].groupby('genres').agg('sum')\n",
    "female_genres['female_ratio'] = female_genres['actor_gender'].apply(lambda x: get_female_ratio(x))\n",
    "female_genres = female_genres.drop(columns=['actor_gender'])\n",
    "female_genres = female_genres.sort_values(by='female_ratio', ascending=False).iloc[:30]"
   ]
  },
  {
   "cell_type": "code",
   "execution_count": 57,
   "id": "211ce79e",
   "metadata": {},
   "outputs": [
    {
     "data": {
      "text/plain": [
       "[Text(0.5, 1.0, 'Top 30 Female Genres')]"
      ]
     },
     "execution_count": 57,
     "metadata": {},
     "output_type": "execute_result"
    },
    {
     "data": {
      "image/png": "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\n",
      "text/plain": [
       "<Figure size 500x600 with 1 Axes>"
      ]
     },
     "metadata": {},
     "output_type": "display_data"
    }
   ],
   "source": [
    "female_genres['genres'] = female_genres.index\n",
    "f, ax = plt.subplots(figsize=(5, 6))\n",
    "sns.barplot(data=female_genres, x=\"female_ratio\", y=\"genres\").set(title='Top 30 Female Genres')"
   ]
  },
  {
   "cell_type": "code",
   "execution_count": 58,
   "id": "90e437d5",
   "metadata": {},
   "outputs": [],
   "source": [
    "genre_gender = character_genres[character_genres.genres.isin(top30_genres)][['actor_gender', 'genres']].groupby('genres').agg('sum')\n",
    "genre_gender['female_ratio'] = genre_gender['actor_gender'].apply(lambda x: get_female_ratio(x))\n",
    "genre_gender = genre_gender.drop(columns=['actor_gender'])\n",
    "genre_gender = genre_gender.sort_values(by='female_ratio', ascending=False)"
   ]
  },
  {
   "cell_type": "code",
   "execution_count": 59,
   "id": "fb8eb028",
   "metadata": {},
   "outputs": [
    {
     "data": {
      "text/plain": [
       "[Text(0.5, 1.0, 'Female cast ratio in top 30 genres')]"
      ]
     },
     "execution_count": 59,
     "metadata": {},
     "output_type": "execute_result"
    },
    {
     "data": {
      "image/png": "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\n",
      "text/plain": [
       "<Figure size 500x600 with 1 Axes>"
      ]
     },
     "metadata": {},
     "output_type": "display_data"
    }
   ],
   "source": [
    "genre_gender['genres'] = genre_gender.index\n",
    "f, ax = plt.subplots(figsize=(5, 6))\n",
    "sns.barplot(data=genre_gender, x=\"female_ratio\", y=\"genres\").set(title='Female cast ratio in top 30 genres')"
   ]
  },
  {
   "cell_type": "markdown",
   "id": "696e1f4a",
   "metadata": {
    "jp-MarkdownHeadingCollapsed": true,
    "tags": []
   },
   "source": [
    "#### 2.3.2 Language"
   ]
  },
  {
   "cell_type": "code",
   "execution_count": 60,
   "id": "62ca2757-b726-446c-9cbb-a8aee512b4d7",
   "metadata": {
    "pycharm": {
     "name": "#%%\n"
    },
    "tags": []
   },
   "outputs": [
    {
     "data": {
      "text/plain": [
       "English Language                        40891\n",
       "Hindi Language                           3744\n",
       "Spanish Language                         3673\n",
       "French Language                          3422\n",
       "Silent film                              3183\n",
       "                                        ...  \n",
       "Southwestern Mandarin                       1\n",
       "Australian Aboriginal Pidgin English        1\n",
       "Tok Pisin Language                          1\n",
       "Pawnee Language                             1\n",
       "Kuna language                               1\n",
       "Name: languages, Length: 207, dtype: int64"
      ]
     },
     "execution_count": 60,
     "metadata": {},
     "output_type": "execute_result"
    }
   ],
   "source": [
    "movie_languages = movies.copy()\n",
    "movie_languages['languages'] = movie_languages['languages'].apply(lambda x: list(eval(x).values()))\n",
    "movie_languages = movie_languages.explode('languages', ignore_index = True)\n",
    "movie_languages = movie_languages.drop(columns=['freebase_movie_id', 'movie_name','release_date','box_office_revenue',\n",
    "              'movie_runtime', 'countries','genres','release_year'])\n",
    "movie_languages.languages.value_counts()"
   ]
  },
  {
   "cell_type": "code",
   "execution_count": 62,
   "id": "8e4a2cee-08fe-43b7-b238-22364d266a32",
   "metadata": {},
   "outputs": [
    {
     "data": {
      "text/html": [
       "<div>\n",
       "<style scoped>\n",
       "    .dataframe tbody tr th:only-of-type {\n",
       "        vertical-align: middle;\n",
       "    }\n",
       "\n",
       "    .dataframe tbody tr th {\n",
       "        vertical-align: top;\n",
       "    }\n",
       "\n",
       "    .dataframe thead th {\n",
       "        text-align: right;\n",
       "    }\n",
       "</style>\n",
       "<table border=\"1\" class=\"dataframe\">\n",
       "  <thead>\n",
       "    <tr style=\"text-align: right;\">\n",
       "      <th></th>\n",
       "      <th>wiki_movie_id</th>\n",
       "      <th>languages</th>\n",
       "    </tr>\n",
       "  </thead>\n",
       "  <tbody>\n",
       "    <tr>\n",
       "      <th>0</th>\n",
       "      <td>975900</td>\n",
       "      <td>English Language</td>\n",
       "    </tr>\n",
       "    <tr>\n",
       "      <th>1</th>\n",
       "      <td>3196793</td>\n",
       "      <td>English Language</td>\n",
       "    </tr>\n",
       "    <tr>\n",
       "      <th>2</th>\n",
       "      <td>28463795</td>\n",
       "      <td>Norwegian Language</td>\n",
       "    </tr>\n",
       "    <tr>\n",
       "      <th>3</th>\n",
       "      <td>9363483</td>\n",
       "      <td>English Language</td>\n",
       "    </tr>\n",
       "    <tr>\n",
       "      <th>4</th>\n",
       "      <td>261236</td>\n",
       "      <td>German Language</td>\n",
       "    </tr>\n",
       "  </tbody>\n",
       "</table>\n",
       "</div>"
      ],
      "text/plain": [
       "   wiki_movie_id           languages\n",
       "0         975900    English Language\n",
       "1        3196793    English Language\n",
       "2       28463795  Norwegian Language\n",
       "3        9363483    English Language\n",
       "4         261236     German Language"
      ]
     },
     "execution_count": 62,
     "metadata": {},
     "output_type": "execute_result"
    }
   ],
   "source": [
    "movie_languages.head()"
   ]
  },
  {
   "cell_type": "markdown",
   "id": "ad99a8a8-4973-42cb-bcee-9e5622f14452",
   "metadata": {},
   "source": [
    "#### 2.3.3 Countries"
   ]
  },
  {
   "cell_type": "code",
   "execution_count": 63,
   "id": "d9f21256-6522-45f8-9759-790a9153126b",
   "metadata": {
    "pycharm": {
     "name": "#%%\n"
    },
    "tags": []
   },
   "outputs": [
    {
     "data": {
      "text/plain": [
       "United States of America    34408\n",
       "India                        8411\n",
       "United Kingdom               7868\n",
       "France                       4395\n",
       "Italy                        3163\n",
       "                            ...  \n",
       "Republic of China               1\n",
       "Macau                           1\n",
       "Palestinian Territories         1\n",
       "German Language                 1\n",
       "Ukranian SSR                    1\n",
       "Name: countries, Length: 147, dtype: int64"
      ]
     },
     "execution_count": 63,
     "metadata": {},
     "output_type": "execute_result"
    }
   ],
   "source": [
    "movie_countries = movies.copy()\n",
    "movie_countries['countries'] = movie_countries['countries'].apply(lambda x: list(eval(x).values()))\n",
    "movie_countries = movie_countries.explode('countries', ignore_index = True)\n",
    "movie_countries = movie_countries.drop(columns=['freebase_movie_id', 'movie_name','release_date','box_office_revenue',\n",
    "              'movie_runtime', 'languages','genres', 'release_year'])\n",
    "movie_countries.countries.value_counts()"
   ]
  },
  {
   "cell_type": "code",
   "execution_count": 64,
   "id": "2703402b-a8f2-452c-adb0-737bbc855962",
   "metadata": {},
   "outputs": [
    {
     "data": {
      "text/html": [
       "<div>\n",
       "<style scoped>\n",
       "    .dataframe tbody tr th:only-of-type {\n",
       "        vertical-align: middle;\n",
       "    }\n",
       "\n",
       "    .dataframe tbody tr th {\n",
       "        vertical-align: top;\n",
       "    }\n",
       "\n",
       "    .dataframe thead th {\n",
       "        text-align: right;\n",
       "    }\n",
       "</style>\n",
       "<table border=\"1\" class=\"dataframe\">\n",
       "  <thead>\n",
       "    <tr style=\"text-align: right;\">\n",
       "      <th></th>\n",
       "      <th>wiki_movie_id</th>\n",
       "      <th>countries</th>\n",
       "    </tr>\n",
       "  </thead>\n",
       "  <tbody>\n",
       "    <tr>\n",
       "      <th>81433</th>\n",
       "      <td>23890098</td>\n",
       "      <td>France</td>\n",
       "    </tr>\n",
       "    <tr>\n",
       "      <th>81434</th>\n",
       "      <td>23890098</td>\n",
       "      <td>Soviet Union</td>\n",
       "    </tr>\n",
       "    <tr>\n",
       "      <th>81435</th>\n",
       "      <td>23890098</td>\n",
       "      <td>Russia</td>\n",
       "    </tr>\n",
       "  </tbody>\n",
       "</table>\n",
       "</div>"
      ],
      "text/plain": [
       "       wiki_movie_id     countries\n",
       "81433       23890098        France\n",
       "81434       23890098  Soviet Union\n",
       "81435       23890098        Russia"
      ]
     },
     "execution_count": 64,
     "metadata": {},
     "output_type": "execute_result"
    }
   ],
   "source": [
    "# check one movie with multiple countries\n",
    "movie_countries.query('wiki_movie_id == 23890098')"
   ]
  },
  {
   "cell_type": "code",
   "execution_count": 188,
   "id": "f940b1dd",
   "metadata": {},
   "outputs": [],
   "source": [
    "# TODO plot"
   ]
  },
  {
   "cell_type": "markdown",
   "id": "cd238612",
   "metadata": {},
   "source": [
    "## Task 3 Extract verbs and adjectives of the plot's summaries"
   ]
  },
  {
   "cell_type": "code",
   "execution_count": null,
   "id": "2e6b35a9-3ed9-4e75-a0bb-c8ce0e824834",
   "metadata": {},
   "outputs": [],
   "source": [
    "# Load spacy pipeline\n",
    "nlp = spacy.load(\"en_core_web_sm\")\n",
    "nlp.add_pipe(\"merge_entities\") # Merge entities like ['David' 'Bowie'] to ['David Bowie']"
   ]
  },
  {
   "cell_type": "code",
   "execution_count": null,
   "id": "4dfdd12a",
   "metadata": {
    "collapsed": false,
    "jupyter": {
     "outputs_hidden": false
    }
   },
   "outputs": [],
   "source": [
    "def tag_adj(text):\n",
    "    \"\"\"\n",
    "    Find all noon/adjective pair in the given text\n",
    "    :param text: Text composed of one or multiple sentences\n",
    "    :return: list of noon/adjective pair\n",
    "    \"\"\"\n",
    "    doc = nlp(text)\n",
    "    noun_adj_pairs = []\n",
    "    for token in doc:\n",
    "        ## Is the word a proper noun / noun / pronoun\n",
    "        if token.pos_ in ('PROPN', 'NOUN', 'PRON'):\n",
    "            for child in token.children:\n",
    "                ## Is the child an adjectival modifier\n",
    "                if child.dep_ == 'amod':\n",
    "                    noun_adj_pairs.append((token.lemma_, child.lemma_))\n",
    "    return noun_adj_pairs"
   ]
  },
  {
   "cell_type": "code",
   "execution_count": null,
   "id": "be947662",
   "metadata": {
    "collapsed": false,
    "jupyter": {
     "outputs_hidden": false
    }
   },
   "outputs": [],
   "source": [
    "## Example\n",
    "print(tag_adj(\"There is a red card in the blue envelope and a beautiful girl.\"))\n",
    "print(tag_adj(\"She is beautiful.\"))"
   ]
  },
  {
   "cell_type": "code",
   "execution_count": null,
   "id": "fba3e275",
   "metadata": {
    "collapsed": false,
    "jupyter": {
     "outputs_hidden": false
    }
   },
   "outputs": [],
   "source": [
    "def tag_verb(text):\n",
    "    \"\"\"\n",
    "    Find all noon/verb pair in the given text\n",
    "    :param text: Text composed of one or multiple sentences\n",
    "    :return: list of noon/verb pair\n",
    "    \"\"\"\n",
    "    doc = nlp(text)\n",
    "    verbs = []\n",
    "    for possible_verb in doc:\n",
    "        if possible_verb.pos_ == 'VERB':\n",
    "            for possible_subject in possible_verb.children:\n",
    "                if possible_subject.dep_ == 'nsubj':\n",
    "                    verbs.append((possible_subject.lemma_, possible_verb.lemma_))\n",
    "                    break\n",
    "    return verbs"
   ]
  },
  {
   "cell_type": "markdown",
   "id": "4d8d2bd5",
   "metadata": {},
   "source": [
    "We extract the adjectives and verbs of each plot"
   ]
  },
  {
   "cell_type": "code",
   "execution_count": null,
   "id": "91a062d9",
   "metadata": {
    "collapsed": false,
    "jupyter": {
     "outputs_hidden": false
    }
   },
   "outputs": [],
   "source": [
    "plots['verb'] = plots['plot'].apply(tag_verb) # long computation"
   ]
  },
  {
   "cell_type": "code",
   "execution_count": null,
   "id": "1d92fe3d",
   "metadata": {
    "collapsed": false,
    "jupyter": {
     "outputs_hidden": false
    }
   },
   "outputs": [],
   "source": [
    "plots['adj'] = plots['plot'].apply(tag_adj) # long computation"
   ]
  },
  {
   "cell_type": "code",
   "execution_count": null,
   "id": "705a89cc",
   "metadata": {},
   "outputs": [],
   "source": [
    "# Save intermediate result since computation is quite long\n",
    "plots[['wiki_movie_id', 'verb', 'adj']].to_pickle('data/plots.pickle')"
   ]
  },
  {
   "cell_type": "code",
   "execution_count": null,
   "id": "e4b8219f",
   "metadata": {
    "collapsed": false,
    "jupyter": {
     "outputs_hidden": false
    }
   },
   "outputs": [],
   "source": [
    "# Dict that match all characters to their gender\n",
    "matcher = pd.Series(characters.actor_gender.values, index=characters.character_name).to_dict()\n",
    "matcher.update({'he' : 'M', 'she' : 'F'})"
   ]
  },
  {
   "cell_type": "code",
   "execution_count": null,
   "id": "be0532b4",
   "metadata": {},
   "outputs": [],
   "source": [
    "plots[['wiki_movie_id', 'verb', 'adj']] = pd.read_pickle('data/plots.pickle')"
   ]
  },
  {
   "cell_type": "code",
   "execution_count": null,
   "id": "0959b798",
   "metadata": {},
   "outputs": [],
   "source": [
    "# We build a dataframe that groups the subject and the verb of every plot\n",
    "gender_verb = pd.DataFrame(plots.verb.explode().to_list(), columns=['noon', 'verb'])\n",
    "gender_verb.head()"
   ]
  },
  {
   "cell_type": "code",
   "execution_count": null,
   "id": "d7c3ed70",
   "metadata": {},
   "outputs": [],
   "source": [
    "# We create a new column that assignee to subject to male or female based on the matcher\n",
    "gender_verb['gender'] = gender_verb.noon.apply(matcher.get)\n",
    "gender_verb.dropna(inplace=True)\n",
    "gender_verb.head()"
   ]
  },
  {
   "cell_type": "code",
   "execution_count": null,
   "id": "687cb1cb",
   "metadata": {},
   "outputs": [],
   "source": [
    "# We do the same for adjectives\n",
    "gender_adj = pd.DataFrame(plots.adj.explode().to_list(), columns=['noon', 'adj'])\n",
    "gender_adj['gender'] = gender_adj.noon.apply(matcher.get) ## TODO is this matcher adequate ???\n",
    "gender_adj.dropna(inplace=True)\n",
    "gender_adj.head()"
   ]
  },
  {
   "cell_type": "markdown",
   "id": "59663da3",
   "metadata": {},
   "source": [
    "Now we can study the occurrence of each word per gender in the plots (needs some filtering)"
   ]
  },
  {
   "cell_type": "code",
   "execution_count": null,
   "id": "39eec123",
   "metadata": {},
   "outputs": [],
   "source": [
    "gender_verb.loc[gender_verb.gender == 'F'].verb.value_counts().head(10)"
   ]
  },
  {
   "cell_type": "code",
   "execution_count": null,
   "id": "bd114d66",
   "metadata": {},
   "outputs": [],
   "source": [
    "gender_verb.loc[gender_verb.gender == 'M'].verb.value_counts().head(10)"
   ]
  },
  {
   "cell_type": "code",
   "execution_count": null,
   "id": "e0ebe400",
   "metadata": {},
   "outputs": [],
   "source": [
    "gender_adj.loc[gender_adj.gender == 'F'].adj.value_counts().head(10)"
   ]
  },
  {
   "cell_type": "code",
   "execution_count": null,
   "id": "d1bb2aee",
   "metadata": {},
   "outputs": [],
   "source": [
    "gender_adj.loc[gender_adj.gender == 'M'].adj.value_counts().head(10)"
   ]
  },
  {
   "cell_type": "markdown",
   "id": "ff23aeb3",
   "metadata": {},
   "source": [
    "## Task 4 Sentiment Analysis"
   ]
  },
  {
   "cell_type": "code",
   "execution_count": null,
   "id": "1dc86979",
   "metadata": {},
   "outputs": [],
   "source": []
  }
 ],
 "metadata": {
  "kernelspec": {
   "display_name": "Python 3 (ipykernel)",
   "language": "python",
   "name": "python3"
  },
  "language_info": {
   "codemirror_mode": {
    "name": "ipython",
    "version": 3
   },
   "file_extension": ".py",
   "mimetype": "text/x-python",
   "name": "python",
   "nbconvert_exporter": "python",
   "pygments_lexer": "ipython3",
   "version": "3.9.13"
  }
 },
 "nbformat": 4,
 "nbformat_minor": 5
}
