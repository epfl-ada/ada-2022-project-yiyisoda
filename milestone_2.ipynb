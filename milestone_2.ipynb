{
 "cells": [
  {
   "cell_type": "markdown",
   "id": "c046eefe-d1d7-48da-9453-70ade88128ff",
   "metadata": {
    "pycharm": {
     "name": "#%% md\n"
    }
   },
   "source": [
    "# ADA project: Milestone 2\n",
    "### Team: YiYiSoDa - Yinghui Jiang, Yichen Wang, Sophia Ly, David Chaves"
   ]
  },
  {
   "cell_type": "markdown",
   "id": "c8642206-a551-4e42-8c2d-e50dcf5e73d9",
   "metadata": {},
   "source": [
    "<div class=\"1.1\" style='background-color:#c8dfea; padding:1em;'>\n",
    "<span style=\"color:black\">\n",
    "For project milestone 2 an agreement on the project proposal with its initial analysis was done. \n",
    "The goal of this project is to analyse the gender gap in movies. In order to do so the goal is to answer following questions: <br>\n",
    "<li>How can the gender gap in the movie industry be grasped?\n",
    "<li>Is there a difference of gender gap between genres?\n",
    "<li>What is the gender gap across the world and how did it evolve over time?\n",
    "<li>How will the gender gap evolve in the future and how long will it take for it to be closed?\n",
    "<li>Is there a certain toppic that correlates with one gender?\n",
    "<li>Is there a correlation with off screen inequality and on screen inequality?"
   ]
  },
  {
   "cell_type": "code",
   "execution_count": 1,
   "id": "13f852a3-92cc-4d40-bd61-aab122583eeb",
   "metadata": {
    "pycharm": {
     "name": "#%%\n"
    }
   },
   "outputs": [],
   "source": [
    "import seaborn as sns\n",
    "from IPython.display import display, HTML\n",
    "import matplotlib.pyplot as plt\n",
    "import scipy.stats as stats\n",
    "import pandas as pd\n",
    "import numpy as np\n",
    "import tarfile\n",
    "import re\n",
    "import gzip\n",
    "import spacy\n",
    "import warnings\n",
    "import math\n",
    "warnings.filterwarnings('ignore')\n",
    "\n",
    "data_folder = './data/MovieSummaries/'\n",
    "corenlp_folder = './data/corenlp_plot_summaries/'"
   ]
  },
  {
   "cell_type": "markdown",
   "id": "c5813c25-93a6-4d09-9c10-22a0618621da",
   "metadata": {
    "pycharm": {
     "name": "#%% md\n"
    }
   },
   "source": [
    "## Task 1: Explore the dataset"
   ]
  },
  {
   "cell_type": "markdown",
   "id": "2302f3e9-6300-40a2-bcc2-b2512fcf09ff",
   "metadata": {},
   "source": [
    "<div class=\"1.1\" style='background-color:#c8dfea; padding:1em;'>\n",
    "<span style=\"color:black\">\n",
    "Each dataset is first loaded and then the number of NaN values were calculated. There are multiple ways on how to handle NaN such as discarding row, replacing with mean/ median. Since the best way of handling NaN values depend on which question should be answered, isn't treated yet.\n",
    "Wherever there are tuples containing multiple values, rows are added to the dataframe so that each row had only one value."
   ]
  },
  {
   "cell_type": "markdown",
   "id": "85f1ad4b-ca8d-401b-b8a7-1ce4ee9b409f",
   "metadata": {
    "pycharm": {
     "name": "#%% md\n"
    },
    "tags": []
   },
   "source": [
    "### 1.1 movie.metadata.tsv.gz\n",
    "\n",
    "\n",
    "Metadata for 81,741 movies, extracted from the Noverber 4, 2012 dump of Freebase.  Tab-separated; columns:\n",
    "\n",
    "1. Wikipedia movie ID\n",
    "2. Freebase movie ID\n",
    "3. Movie name\n",
    "4. Movie release date\n",
    "5. Movie box office revenue\n",
    "6. Movie runtime\n",
    "7. Movie languages (Freebase ID:name tuples)\n",
    "8. Movie countries (Freebase ID:name tuples)\n",
    "9. Movie genres (Freebase ID:name tuples)\n"
   ]
  },
  {
   "cell_type": "markdown",
   "id": "1b385a99-ec60-4742-a6e6-908b0dcf7834",
   "metadata": {},
   "source": [
    "##### Loading data"
   ]
  },
  {
   "cell_type": "code",
   "execution_count": 2,
   "id": "5166e01e-48ac-49f7-a280-315bdd2f1156",
   "metadata": {
    "pycharm": {
     "name": "#%%\n"
    },
    "tags": []
   },
   "outputs": [
    {
     "data": {
      "text/html": [
       "<div>\n",
       "<style scoped>\n",
       "    .dataframe tbody tr th:only-of-type {\n",
       "        vertical-align: middle;\n",
       "    }\n",
       "\n",
       "    .dataframe tbody tr th {\n",
       "        vertical-align: top;\n",
       "    }\n",
       "\n",
       "    .dataframe thead th {\n",
       "        text-align: right;\n",
       "    }\n",
       "</style>\n",
       "<table border=\"1\" class=\"dataframe\">\n",
       "  <thead>\n",
       "    <tr style=\"text-align: right;\">\n",
       "      <th></th>\n",
       "      <th>wiki_movie_id</th>\n",
       "      <th>freebase_movie_id</th>\n",
       "      <th>movie_name</th>\n",
       "      <th>release_date</th>\n",
       "      <th>box_office_revenue</th>\n",
       "      <th>movie_runtime</th>\n",
       "      <th>languages</th>\n",
       "      <th>countries</th>\n",
       "      <th>genres</th>\n",
       "    </tr>\n",
       "  </thead>\n",
       "  <tbody>\n",
       "    <tr>\n",
       "      <th>0</th>\n",
       "      <td>975900</td>\n",
       "      <td>/m/03vyhn</td>\n",
       "      <td>Ghosts of Mars</td>\n",
       "      <td>2001-08-24</td>\n",
       "      <td>14010832.0</td>\n",
       "      <td>98.0</td>\n",
       "      <td>{\"/m/02h40lc\": \"English Language\"}</td>\n",
       "      <td>{\"/m/09c7w0\": \"United States of America\"}</td>\n",
       "      <td>{\"/m/01jfsb\": \"Thriller\", \"/m/06n90\": \"Science...</td>\n",
       "    </tr>\n",
       "    <tr>\n",
       "      <th>1</th>\n",
       "      <td>3196793</td>\n",
       "      <td>/m/08yl5d</td>\n",
       "      <td>Getting Away with Murder: The JonBenét Ramsey ...</td>\n",
       "      <td>2000-02-16</td>\n",
       "      <td>NaN</td>\n",
       "      <td>95.0</td>\n",
       "      <td>{\"/m/02h40lc\": \"English Language\"}</td>\n",
       "      <td>{\"/m/09c7w0\": \"United States of America\"}</td>\n",
       "      <td>{\"/m/02n4kr\": \"Mystery\", \"/m/03bxz7\": \"Biograp...</td>\n",
       "    </tr>\n",
       "    <tr>\n",
       "      <th>2</th>\n",
       "      <td>28463795</td>\n",
       "      <td>/m/0crgdbh</td>\n",
       "      <td>Brun bitter</td>\n",
       "      <td>1988-01-01</td>\n",
       "      <td>NaN</td>\n",
       "      <td>83.0</td>\n",
       "      <td>{\"/m/05f_3\": \"Norwegian Language\"}</td>\n",
       "      <td>{\"/m/05b4w\": \"Norway\"}</td>\n",
       "      <td>{\"/m/0lsxr\": \"Crime Fiction\", \"/m/07s9rl0\": \"D...</td>\n",
       "    </tr>\n",
       "    <tr>\n",
       "      <th>3</th>\n",
       "      <td>9363483</td>\n",
       "      <td>/m/0285_cd</td>\n",
       "      <td>White Of The Eye</td>\n",
       "      <td>1987-01-01</td>\n",
       "      <td>NaN</td>\n",
       "      <td>110.0</td>\n",
       "      <td>{\"/m/02h40lc\": \"English Language\"}</td>\n",
       "      <td>{\"/m/07ssc\": \"United Kingdom\"}</td>\n",
       "      <td>{\"/m/01jfsb\": \"Thriller\", \"/m/0glj9q\": \"Erotic...</td>\n",
       "    </tr>\n",
       "    <tr>\n",
       "      <th>4</th>\n",
       "      <td>261236</td>\n",
       "      <td>/m/01mrr1</td>\n",
       "      <td>A Woman in Flames</td>\n",
       "      <td>1983-01-01</td>\n",
       "      <td>NaN</td>\n",
       "      <td>106.0</td>\n",
       "      <td>{\"/m/04306rv\": \"German Language\"}</td>\n",
       "      <td>{\"/m/0345h\": \"Germany\"}</td>\n",
       "      <td>{\"/m/07s9rl0\": \"Drama\"}</td>\n",
       "    </tr>\n",
       "  </tbody>\n",
       "</table>\n",
       "</div>"
      ],
      "text/plain": [
       "   wiki_movie_id freebase_movie_id  \\\n",
       "0         975900         /m/03vyhn   \n",
       "1        3196793         /m/08yl5d   \n",
       "2       28463795        /m/0crgdbh   \n",
       "3        9363483        /m/0285_cd   \n",
       "4         261236         /m/01mrr1   \n",
       "\n",
       "                                          movie_name release_date  \\\n",
       "0                                     Ghosts of Mars   2001-08-24   \n",
       "1  Getting Away with Murder: The JonBenét Ramsey ...   2000-02-16   \n",
       "2                                        Brun bitter   1988-01-01   \n",
       "3                                   White Of The Eye   1987-01-01   \n",
       "4                                  A Woman in Flames   1983-01-01   \n",
       "\n",
       "   box_office_revenue  movie_runtime                           languages  \\\n",
       "0          14010832.0           98.0  {\"/m/02h40lc\": \"English Language\"}   \n",
       "1                 NaN           95.0  {\"/m/02h40lc\": \"English Language\"}   \n",
       "2                 NaN           83.0  {\"/m/05f_3\": \"Norwegian Language\"}   \n",
       "3                 NaN          110.0  {\"/m/02h40lc\": \"English Language\"}   \n",
       "4                 NaN          106.0   {\"/m/04306rv\": \"German Language\"}   \n",
       "\n",
       "                                   countries  \\\n",
       "0  {\"/m/09c7w0\": \"United States of America\"}   \n",
       "1  {\"/m/09c7w0\": \"United States of America\"}   \n",
       "2                     {\"/m/05b4w\": \"Norway\"}   \n",
       "3             {\"/m/07ssc\": \"United Kingdom\"}   \n",
       "4                    {\"/m/0345h\": \"Germany\"}   \n",
       "\n",
       "                                              genres  \n",
       "0  {\"/m/01jfsb\": \"Thriller\", \"/m/06n90\": \"Science...  \n",
       "1  {\"/m/02n4kr\": \"Mystery\", \"/m/03bxz7\": \"Biograp...  \n",
       "2  {\"/m/0lsxr\": \"Crime Fiction\", \"/m/07s9rl0\": \"D...  \n",
       "3  {\"/m/01jfsb\": \"Thriller\", \"/m/0glj9q\": \"Erotic...  \n",
       "4                            {\"/m/07s9rl0\": \"Drama\"}  "
      ]
     },
     "execution_count": 2,
     "metadata": {},
     "output_type": "execute_result"
    }
   ],
   "source": [
    "movies = data_folder + 'movie.metadata.tsv'\n",
    "movies_cols = ['wiki_movie_id', 'freebase_movie_id', 'movie_name','release_date','box_office_revenue',\n",
    "              'movie_runtime', 'languages', 'countries','genres']\n",
    "\n",
    "movies = pd.read_csv(movies, sep='\\t', names=movies_cols, parse_dates=[\"release_date\"], date_parser=lambda x: pd.to_datetime(x, errors=\"coerce\"))\n",
    "movies.head()"
   ]
  },
  {
   "cell_type": "markdown",
   "id": "2af5a13c-0152-47a6-a259-34fd9c0028d1",
   "metadata": {
    "pycharm": {
     "name": "#%% md\n"
    }
   },
   "source": [
    "##### Calculating NaN"
   ]
  },
  {
   "cell_type": "code",
   "execution_count": 3,
   "id": "85b96b26-1100-4d86-bb8b-49e65512e950",
   "metadata": {},
   "outputs": [],
   "source": [
    "# Calculate number of NaN\n",
    "def NaN_percentage(df):\n",
    "    '''\n",
    "    Returns a df with columnname and their respective number of NaN and what percentage this corresponds to.\n",
    "    Args:\n",
    "        df = movies, characters\n",
    "    '''\n",
    "    \n",
    "    n_NaN = []\n",
    "    perc_NaN = []\n",
    "    length = len(df)\n",
    "\n",
    "    for column in df:\n",
    "        i_nan = df[column].isna().sum()\n",
    "        perc_nan = i_nan/ length\n",
    "        n_NaN.append(i_nan)\n",
    "        perc_NaN.append(perc_nan)\n",
    "\n",
    "    # Create df with results\n",
    "    index_df = df.columns.to_list()\n",
    "    df_NaN = pd.DataFrame({'number of NaN':n_NaN, 'percentage of NaN':perc_NaN}, index= index_df )\n",
    "    return df_NaN"
   ]
  },
  {
   "cell_type": "code",
   "execution_count": 4,
   "id": "01efe5fb-e343-4b03-83bf-7c178249dea6",
   "metadata": {},
   "outputs": [
    {
     "data": {
      "text/html": [
       "<div>\n",
       "<style scoped>\n",
       "    .dataframe tbody tr th:only-of-type {\n",
       "        vertical-align: middle;\n",
       "    }\n",
       "\n",
       "    .dataframe tbody tr th {\n",
       "        vertical-align: top;\n",
       "    }\n",
       "\n",
       "    .dataframe thead th {\n",
       "        text-align: right;\n",
       "    }\n",
       "</style>\n",
       "<table border=\"1\" class=\"dataframe\">\n",
       "  <thead>\n",
       "    <tr style=\"text-align: right;\">\n",
       "      <th></th>\n",
       "      <th>number of NaN</th>\n",
       "      <th>percentage of NaN</th>\n",
       "    </tr>\n",
       "  </thead>\n",
       "  <tbody>\n",
       "    <tr>\n",
       "      <th>wiki_movie_id</th>\n",
       "      <td>0</td>\n",
       "      <td>0.000000</td>\n",
       "    </tr>\n",
       "    <tr>\n",
       "      <th>freebase_movie_id</th>\n",
       "      <td>0</td>\n",
       "      <td>0.000000</td>\n",
       "    </tr>\n",
       "    <tr>\n",
       "      <th>movie_name</th>\n",
       "      <td>0</td>\n",
       "      <td>0.000000</td>\n",
       "    </tr>\n",
       "    <tr>\n",
       "      <th>release_date</th>\n",
       "      <td>6903</td>\n",
       "      <td>0.084450</td>\n",
       "    </tr>\n",
       "    <tr>\n",
       "      <th>box_office_revenue</th>\n",
       "      <td>73340</td>\n",
       "      <td>0.897224</td>\n",
       "    </tr>\n",
       "    <tr>\n",
       "      <th>movie_runtime</th>\n",
       "      <td>20450</td>\n",
       "      <td>0.250180</td>\n",
       "    </tr>\n",
       "    <tr>\n",
       "      <th>languages</th>\n",
       "      <td>0</td>\n",
       "      <td>0.000000</td>\n",
       "    </tr>\n",
       "    <tr>\n",
       "      <th>countries</th>\n",
       "      <td>0</td>\n",
       "      <td>0.000000</td>\n",
       "    </tr>\n",
       "    <tr>\n",
       "      <th>genres</th>\n",
       "      <td>0</td>\n",
       "      <td>0.000000</td>\n",
       "    </tr>\n",
       "  </tbody>\n",
       "</table>\n",
       "</div>"
      ],
      "text/plain": [
       "                    number of NaN  percentage of NaN\n",
       "wiki_movie_id                   0           0.000000\n",
       "freebase_movie_id               0           0.000000\n",
       "movie_name                      0           0.000000\n",
       "release_date                 6903           0.084450\n",
       "box_office_revenue          73340           0.897224\n",
       "movie_runtime               20450           0.250180\n",
       "languages                       0           0.000000\n",
       "countries                       0           0.000000\n",
       "genres                          0           0.000000"
      ]
     },
     "execution_count": 4,
     "metadata": {},
     "output_type": "execute_result"
    }
   ],
   "source": [
    "movies_NaN = NaN_percentage(movies)\n",
    "movies_NaN"
   ]
  },
  {
   "cell_type": "markdown",
   "id": "8647f455-1af0-4ea5-aa81-5c5e414ac121",
   "metadata": {},
   "source": [
    "##### Adding rows to dataframe where language-tuple has multiple values "
   ]
  },
  {
   "cell_type": "code",
   "execution_count": 5,
   "id": "62ca2757-b726-446c-9cbb-a8aee512b4d7",
   "metadata": {
    "pycharm": {
     "name": "#%%\n"
    },
    "tags": []
   },
   "outputs": [
    {
     "data": {
      "text/plain": [
       "English Language                        40891\n",
       "Hindi Language                           3744\n",
       "Spanish Language                         3673\n",
       "French Language                          3422\n",
       "Silent film                              3183\n",
       "                                        ...  \n",
       "Southwestern Mandarin                       1\n",
       "Australian Aboriginal Pidgin English        1\n",
       "Tok Pisin Language                          1\n",
       "Pawnee Language                             1\n",
       "Kuna language                               1\n",
       "Name: languages, Length: 207, dtype: int64"
      ]
     },
     "execution_count": 5,
     "metadata": {},
     "output_type": "execute_result"
    }
   ],
   "source": [
    "# relational table between movies with lauguages, countries and genres.\n",
    "# keep wiki_movie_id, lauguages, countries, genres\n",
    "\n",
    "movie_languages = movies.copy()\n",
    "movie_languages['languages'] = movie_languages['languages'].apply(lambda x: list(eval(x).values()))\n",
    "movie_languages = movie_languages.explode('languages', ignore_index = True)\n",
    "movie_languages = movie_languages.drop(columns=['freebase_movie_id', 'movie_name','release_date','box_office_revenue',\n",
    "              'movie_runtime', 'countries','genres'])\n",
    "movie_languages.languages.value_counts()"
   ]
  },
  {
   "cell_type": "markdown",
   "id": "03717657-a0a8-4256-ba11-ce81848db0af",
   "metadata": {},
   "source": [
    "##### Adding rows to dataframe where countries-tuple has multiple values "
   ]
  },
  {
   "cell_type": "code",
   "execution_count": 6,
   "id": "d9f21256-6522-45f8-9759-790a9153126b",
   "metadata": {
    "pycharm": {
     "name": "#%%\n"
    },
    "tags": []
   },
   "outputs": [
    {
     "data": {
      "text/plain": [
       "United States of America    34408\n",
       "India                        8411\n",
       "United Kingdom               7868\n",
       "France                       4395\n",
       "Italy                        3163\n",
       "                            ...  \n",
       "Republic of China               1\n",
       "Macau                           1\n",
       "Palestinian Territories         1\n",
       "German Language                 1\n",
       "Ukranian SSR                    1\n",
       "Name: countries, Length: 147, dtype: int64"
      ]
     },
     "execution_count": 6,
     "metadata": {},
     "output_type": "execute_result"
    }
   ],
   "source": [
    "movie_countries = movies.copy()\n",
    "movie_countries['countries'] = movie_countries['countries'].apply(lambda x: list(eval(x).values()))\n",
    "movie_countries = movie_countries.explode('countries', ignore_index = True)\n",
    "movie_countries = movie_countries.drop(columns=['freebase_movie_id', 'movie_name','release_date','box_office_revenue',\n",
    "              'movie_runtime', 'languages','genres'])\n",
    "movie_countries.countries.value_counts()"
   ]
  },
  {
   "cell_type": "markdown",
   "id": "e7a7fb31-2bcc-46c9-9b07-5055ed5d1617",
   "metadata": {},
   "source": [
    "##### Adding rows to dataframe where language-tuple had multiple values "
   ]
  },
  {
   "cell_type": "code",
   "execution_count": 7,
   "id": "50a2f821-311c-4b36-a259-2cf4f575c532",
   "metadata": {},
   "outputs": [
    {
     "data": {
      "text/plain": [
       "Drama                   34007\n",
       "Comedy                  16349\n",
       "Romance Film            10234\n",
       "Black-and-white          9094\n",
       "Action                   8798\n",
       "                        ...  \n",
       "Romantic thriller           1\n",
       "Comdedy                     1\n",
       "C-Movie                     1\n",
       "Silhouette animation        1\n",
       "Homoeroticism               1\n",
       "Name: genres, Length: 363, dtype: int64"
      ]
     },
     "execution_count": 7,
     "metadata": {},
     "output_type": "execute_result"
    }
   ],
   "source": [
    "movie_genres = movies.copy()\n",
    "movie_genres['genres'] = movie_genres['genres'].apply(lambda x: list(eval(x).values()))\n",
    "movie_genres = movie_genres.explode('genres', ignore_index = True)\n",
    "movie_genres = movie_genres.drop(columns=['freebase_movie_id', 'movie_name','release_date','box_office_revenue',\n",
    "              'movie_runtime', 'languages','countries'])\n",
    "movie_genres.genres.value_counts()"
   ]
  },
  {
   "cell_type": "markdown",
   "id": "b4fd835e-e6b5-4192-a470-a866755ede75",
   "metadata": {
    "pycharm": {
     "name": "#%% md\n"
    }
   },
   "source": [
    "### 1.2 character.metadata.tsv.gz\n",
    "\n",
    "Metadata for 450,669 characters aligned to the movies above, extracted from the Noverber 4, 2012 dump of Freebase.  Tab-separated; columns:\n",
    "\n",
    "1. Wikipedia movie ID\n",
    "2. Freebase movie ID\n",
    "3. Movie release date\n",
    "4. Character name\n",
    "5. Actor date of birth\n",
    "6. Actor gender\n",
    "7. Actor height (in meters)\n",
    "8. Actor ethnicity (Freebase ID)\n",
    "9. Actor name\n",
    "10. Actor age at movie release\n",
    "11. Freebase character/actor map ID\n",
    "12. Freebase character ID\n",
    "13. Freebase actor ID\n"
   ]
  },
  {
   "cell_type": "code",
   "execution_count": 8,
   "id": "4796f0a1-35be-4588-ac8e-863d3640891a",
   "metadata": {
    "pycharm": {
     "name": "#%%\n"
    }
   },
   "outputs": [
    {
     "data": {
      "text/html": [
       "<div>\n",
       "<style scoped>\n",
       "    .dataframe tbody tr th:only-of-type {\n",
       "        vertical-align: middle;\n",
       "    }\n",
       "\n",
       "    .dataframe tbody tr th {\n",
       "        vertical-align: top;\n",
       "    }\n",
       "\n",
       "    .dataframe thead th {\n",
       "        text-align: right;\n",
       "    }\n",
       "</style>\n",
       "<table border=\"1\" class=\"dataframe\">\n",
       "  <thead>\n",
       "    <tr style=\"text-align: right;\">\n",
       "      <th></th>\n",
       "      <th>wiki_movie_id</th>\n",
       "      <th>freebase_movie_id</th>\n",
       "      <th>release_date</th>\n",
       "      <th>character_name</th>\n",
       "      <th>actor_date_of_birth</th>\n",
       "      <th>actor_gender</th>\n",
       "      <th>height</th>\n",
       "      <th>actor_ethnicity</th>\n",
       "      <th>actor_name</th>\n",
       "      <th>actor_age_at_release</th>\n",
       "      <th>freebase_map_id</th>\n",
       "      <th>freebase_character_id</th>\n",
       "      <th>freebase_actor_id</th>\n",
       "    </tr>\n",
       "  </thead>\n",
       "  <tbody>\n",
       "    <tr>\n",
       "      <th>0</th>\n",
       "      <td>975900</td>\n",
       "      <td>/m/03vyhn</td>\n",
       "      <td>2001-08-24</td>\n",
       "      <td>Akooshay</td>\n",
       "      <td>1958-08-26</td>\n",
       "      <td>F</td>\n",
       "      <td>1.620</td>\n",
       "      <td>NaN</td>\n",
       "      <td>Wanda De Jesus</td>\n",
       "      <td>42.0</td>\n",
       "      <td>/m/0bgchxw</td>\n",
       "      <td>/m/0bgcj3x</td>\n",
       "      <td>/m/03wcfv7</td>\n",
       "    </tr>\n",
       "    <tr>\n",
       "      <th>1</th>\n",
       "      <td>975900</td>\n",
       "      <td>/m/03vyhn</td>\n",
       "      <td>2001-08-24</td>\n",
       "      <td>Lieutenant Melanie Ballard</td>\n",
       "      <td>1974-08-15</td>\n",
       "      <td>F</td>\n",
       "      <td>1.780</td>\n",
       "      <td>/m/044038p</td>\n",
       "      <td>Natasha Henstridge</td>\n",
       "      <td>27.0</td>\n",
       "      <td>/m/0jys3m</td>\n",
       "      <td>/m/0bgchn4</td>\n",
       "      <td>/m/0346l4</td>\n",
       "    </tr>\n",
       "    <tr>\n",
       "      <th>2</th>\n",
       "      <td>975900</td>\n",
       "      <td>/m/03vyhn</td>\n",
       "      <td>2001-08-24</td>\n",
       "      <td>Desolation Williams</td>\n",
       "      <td>1969-06-15</td>\n",
       "      <td>M</td>\n",
       "      <td>1.727</td>\n",
       "      <td>/m/0x67</td>\n",
       "      <td>Ice Cube</td>\n",
       "      <td>32.0</td>\n",
       "      <td>/m/0jys3g</td>\n",
       "      <td>/m/0bgchn_</td>\n",
       "      <td>/m/01vw26l</td>\n",
       "    </tr>\n",
       "    <tr>\n",
       "      <th>3</th>\n",
       "      <td>975900</td>\n",
       "      <td>/m/03vyhn</td>\n",
       "      <td>2001-08-24</td>\n",
       "      <td>Sgt Jericho Butler</td>\n",
       "      <td>1967-09-12</td>\n",
       "      <td>M</td>\n",
       "      <td>1.750</td>\n",
       "      <td>NaN</td>\n",
       "      <td>Jason Statham</td>\n",
       "      <td>33.0</td>\n",
       "      <td>/m/02vchl6</td>\n",
       "      <td>/m/0bgchnq</td>\n",
       "      <td>/m/034hyc</td>\n",
       "    </tr>\n",
       "    <tr>\n",
       "      <th>4</th>\n",
       "      <td>975900</td>\n",
       "      <td>/m/03vyhn</td>\n",
       "      <td>2001-08-24</td>\n",
       "      <td>Bashira Kincaid</td>\n",
       "      <td>1977-09-25</td>\n",
       "      <td>F</td>\n",
       "      <td>1.650</td>\n",
       "      <td>NaN</td>\n",
       "      <td>Clea DuVall</td>\n",
       "      <td>23.0</td>\n",
       "      <td>/m/02vbb3r</td>\n",
       "      <td>/m/0bgchp9</td>\n",
       "      <td>/m/01y9xg</td>\n",
       "    </tr>\n",
       "  </tbody>\n",
       "</table>\n",
       "</div>"
      ],
      "text/plain": [
       "   wiki_movie_id freebase_movie_id release_date              character_name  \\\n",
       "0         975900         /m/03vyhn   2001-08-24                    Akooshay   \n",
       "1         975900         /m/03vyhn   2001-08-24  Lieutenant Melanie Ballard   \n",
       "2         975900         /m/03vyhn   2001-08-24         Desolation Williams   \n",
       "3         975900         /m/03vyhn   2001-08-24          Sgt Jericho Butler   \n",
       "4         975900         /m/03vyhn   2001-08-24             Bashira Kincaid   \n",
       "\n",
       "  actor_date_of_birth actor_gender  height actor_ethnicity  \\\n",
       "0          1958-08-26            F   1.620             NaN   \n",
       "1          1974-08-15            F   1.780      /m/044038p   \n",
       "2          1969-06-15            M   1.727         /m/0x67   \n",
       "3          1967-09-12            M   1.750             NaN   \n",
       "4          1977-09-25            F   1.650             NaN   \n",
       "\n",
       "           actor_name  actor_age_at_release freebase_map_id  \\\n",
       "0      Wanda De Jesus                  42.0      /m/0bgchxw   \n",
       "1  Natasha Henstridge                  27.0       /m/0jys3m   \n",
       "2            Ice Cube                  32.0       /m/0jys3g   \n",
       "3       Jason Statham                  33.0      /m/02vchl6   \n",
       "4         Clea DuVall                  23.0      /m/02vbb3r   \n",
       "\n",
       "  freebase_character_id freebase_actor_id  \n",
       "0            /m/0bgcj3x        /m/03wcfv7  \n",
       "1            /m/0bgchn4         /m/0346l4  \n",
       "2            /m/0bgchn_        /m/01vw26l  \n",
       "3            /m/0bgchnq         /m/034hyc  \n",
       "4            /m/0bgchp9         /m/01y9xg  "
      ]
     },
     "execution_count": 8,
     "metadata": {},
     "output_type": "execute_result"
    }
   ],
   "source": [
    "characters = data_folder + 'character.metadata.tsv'\n",
    "char_cols = ['wiki_movie_id', 'freebase_movie_id', 'release_date', 'character_name', 'actor_date_of_birth', \n",
    "             'actor_gender', 'height', 'actor_ethnicity', 'actor_name', 'actor_age_at_release', 'freebase_map_id', 'freebase_character_id', 'freebase_actor_id']\n",
    "characters = pd.read_csv(characters, sep='\\t', names=char_cols, parse_dates=[\"release_date\"], date_parser=lambda x: pd.to_datetime(x, errors=\"coerce\"))\n",
    "characters.head()"
   ]
  },
  {
   "cell_type": "code",
   "execution_count": 9,
   "id": "ff4c36f6-2afc-44c4-a766-d879835e0ffd",
   "metadata": {},
   "outputs": [
    {
     "data": {
      "text/html": [
       "<div>\n",
       "<style scoped>\n",
       "    .dataframe tbody tr th:only-of-type {\n",
       "        vertical-align: middle;\n",
       "    }\n",
       "\n",
       "    .dataframe tbody tr th {\n",
       "        vertical-align: top;\n",
       "    }\n",
       "\n",
       "    .dataframe thead th {\n",
       "        text-align: right;\n",
       "    }\n",
       "</style>\n",
       "<table border=\"1\" class=\"dataframe\">\n",
       "  <thead>\n",
       "    <tr style=\"text-align: right;\">\n",
       "      <th></th>\n",
       "      <th>number of NaN</th>\n",
       "      <th>percentage of NaN</th>\n",
       "    </tr>\n",
       "  </thead>\n",
       "  <tbody>\n",
       "    <tr>\n",
       "      <th>wiki_movie_id</th>\n",
       "      <td>0</td>\n",
       "      <td>0.000000</td>\n",
       "    </tr>\n",
       "    <tr>\n",
       "      <th>freebase_movie_id</th>\n",
       "      <td>0</td>\n",
       "      <td>0.000000</td>\n",
       "    </tr>\n",
       "    <tr>\n",
       "      <th>release_date</th>\n",
       "      <td>10010</td>\n",
       "      <td>0.022211</td>\n",
       "    </tr>\n",
       "    <tr>\n",
       "      <th>character_name</th>\n",
       "      <td>257875</td>\n",
       "      <td>0.572205</td>\n",
       "    </tr>\n",
       "    <tr>\n",
       "      <th>actor_date_of_birth</th>\n",
       "      <td>106145</td>\n",
       "      <td>0.235528</td>\n",
       "    </tr>\n",
       "    <tr>\n",
       "      <th>actor_gender</th>\n",
       "      <td>45609</td>\n",
       "      <td>0.101203</td>\n",
       "    </tr>\n",
       "    <tr>\n",
       "      <th>height</th>\n",
       "      <td>295845</td>\n",
       "      <td>0.656457</td>\n",
       "    </tr>\n",
       "    <tr>\n",
       "      <th>actor_ethnicity</th>\n",
       "      <td>344611</td>\n",
       "      <td>0.764665</td>\n",
       "    </tr>\n",
       "    <tr>\n",
       "      <th>actor_name</th>\n",
       "      <td>1228</td>\n",
       "      <td>0.002725</td>\n",
       "    </tr>\n",
       "    <tr>\n",
       "      <th>actor_age_at_release</th>\n",
       "      <td>158113</td>\n",
       "      <td>0.350841</td>\n",
       "    </tr>\n",
       "    <tr>\n",
       "      <th>freebase_map_id</th>\n",
       "      <td>0</td>\n",
       "      <td>0.000000</td>\n",
       "    </tr>\n",
       "    <tr>\n",
       "      <th>freebase_character_id</th>\n",
       "      <td>257865</td>\n",
       "      <td>0.572183</td>\n",
       "    </tr>\n",
       "    <tr>\n",
       "      <th>freebase_actor_id</th>\n",
       "      <td>815</td>\n",
       "      <td>0.001808</td>\n",
       "    </tr>\n",
       "  </tbody>\n",
       "</table>\n",
       "</div>"
      ],
      "text/plain": [
       "                       number of NaN  percentage of NaN\n",
       "wiki_movie_id                      0           0.000000\n",
       "freebase_movie_id                  0           0.000000\n",
       "release_date                   10010           0.022211\n",
       "character_name                257875           0.572205\n",
       "actor_date_of_birth           106145           0.235528\n",
       "actor_gender                   45609           0.101203\n",
       "height                        295845           0.656457\n",
       "actor_ethnicity               344611           0.764665\n",
       "actor_name                      1228           0.002725\n",
       "actor_age_at_release          158113           0.350841\n",
       "freebase_map_id                    0           0.000000\n",
       "freebase_character_id         257865           0.572183\n",
       "freebase_actor_id                815           0.001808"
      ]
     },
     "execution_count": 9,
     "metadata": {},
     "output_type": "execute_result"
    }
   ],
   "source": [
    "characters_NaN = NaN_percentage(characters)\n",
    "characters_NaN"
   ]
  },
  {
   "cell_type": "markdown",
   "id": "6aab22f7-f92e-4309-8892-ebeb7c19104f",
   "metadata": {},
   "source": [
    "<div class=\"1.1\" style='background-color:#c8dfea; padding:1em;'>\n",
    "<span style=\"color:black\">\n",
    "An analysis is done to see where gender information is missing and where impossible age under 0 exist. Since the whole task is based on gender, the characters without gender information were dropped. The characters with age under 0 first remain, since not all task need this feature. "
   ]
  },
  {
   "cell_type": "code",
   "execution_count": 10,
   "id": "1262310a-072f-4ac4-9795-963caa0799c5",
   "metadata": {
    "pycharm": {
     "name": "#%%\n"
    },
    "scrolled": true
   },
   "outputs": [
    {
     "name": "stdout",
     "output_type": "stream",
     "text": [
      "number of movies:\t64330\n",
      "number of characters:\t450669\n",
      "with gender info:\t405060\n",
      "negative age:\t\t433\n"
     ]
    },
    {
     "data": {
      "text/plain": [
       "M    270257\n",
       "F    134803\n",
       "Name: actor_gender, dtype: int64"
      ]
     },
     "execution_count": 10,
     "metadata": {},
     "output_type": "execute_result"
    }
   ],
   "source": [
    "print('number of movies:\\t{}\\nnumber of characters:\\t{}\\nwith gender info:\\t{}\\nnegative age:\\t\\t{}'.format(characters.wiki_movie_id.unique().size, len(characters),characters.actor_gender.notnull().sum(), len(characters.query('actor_age_at_release <= 0'))))\n",
    "characters.actor_gender.value_counts()"
   ]
  },
  {
   "cell_type": "code",
   "execution_count": 11,
   "id": "ea910c1c-c0bc-4fc3-950f-5634559cfe96",
   "metadata": {
    "pycharm": {
     "name": "#%%\n"
    },
    "tags": []
   },
   "outputs": [],
   "source": [
    "# drop characters has no gender info\n",
    "characters = characters.loc[characters.actor_gender.notnull()]"
   ]
  },
  {
   "cell_type": "markdown",
   "id": "ec6e04a4-d115-4d25-8089-422fec1415ca",
   "metadata": {
    "pycharm": {
     "name": "#%% md\n"
    },
    "tags": []
   },
   "source": [
    "### 1.3 plot_summaries.txt\n",
    "\n",
    "Plot summaries of 42,306 movies extracted from the November 2, 2012 dump of English-language Wikipedia.  Each line contains the Wikipedia movie ID (which indexes into movie.metadata.tsv) followed by the summary."
   ]
  },
  {
   "cell_type": "code",
   "execution_count": 12,
   "id": "a154ad37-bafc-4f89-94ee-f8c7d43534ae",
   "metadata": {
    "pycharm": {
     "name": "#%%\n"
    }
   },
   "outputs": [
    {
     "data": {
      "text/html": [
       "<div>\n",
       "<style scoped>\n",
       "    .dataframe tbody tr th:only-of-type {\n",
       "        vertical-align: middle;\n",
       "    }\n",
       "\n",
       "    .dataframe tbody tr th {\n",
       "        vertical-align: top;\n",
       "    }\n",
       "\n",
       "    .dataframe thead th {\n",
       "        text-align: right;\n",
       "    }\n",
       "</style>\n",
       "<table border=\"1\" class=\"dataframe\">\n",
       "  <thead>\n",
       "    <tr style=\"text-align: right;\">\n",
       "      <th></th>\n",
       "      <th>wiki_movie_id</th>\n",
       "      <th>plot</th>\n",
       "    </tr>\n",
       "  </thead>\n",
       "  <tbody>\n",
       "    <tr>\n",
       "      <th>0</th>\n",
       "      <td>23890098</td>\n",
       "      <td>Shlykov, a hard-working taxi driver and Lyosha...</td>\n",
       "    </tr>\n",
       "    <tr>\n",
       "      <th>1</th>\n",
       "      <td>31186339</td>\n",
       "      <td>The nation of Panem consists of a wealthy Capi...</td>\n",
       "    </tr>\n",
       "    <tr>\n",
       "      <th>2</th>\n",
       "      <td>20663735</td>\n",
       "      <td>Poovalli Induchoodan  is sentenced for six yea...</td>\n",
       "    </tr>\n",
       "    <tr>\n",
       "      <th>3</th>\n",
       "      <td>2231378</td>\n",
       "      <td>The Lemon Drop Kid , a New York City swindler,...</td>\n",
       "    </tr>\n",
       "    <tr>\n",
       "      <th>4</th>\n",
       "      <td>595909</td>\n",
       "      <td>Seventh-day Adventist Church pastor Michael Ch...</td>\n",
       "    </tr>\n",
       "  </tbody>\n",
       "</table>\n",
       "</div>"
      ],
      "text/plain": [
       "   wiki_movie_id                                               plot\n",
       "0       23890098  Shlykov, a hard-working taxi driver and Lyosha...\n",
       "1       31186339  The nation of Panem consists of a wealthy Capi...\n",
       "2       20663735  Poovalli Induchoodan  is sentenced for six yea...\n",
       "3        2231378  The Lemon Drop Kid , a New York City swindler,...\n",
       "4         595909  Seventh-day Adventist Church pastor Michael Ch..."
      ]
     },
     "execution_count": 12,
     "metadata": {},
     "output_type": "execute_result"
    }
   ],
   "source": [
    "plots =  pd.read_csv(data_folder + 'plot_summaries.txt', sep = '\\t', header=None, names=('wiki_movie_id','plot'))\n",
    "plots.head()"
   ]
  },
  {
   "cell_type": "code",
   "execution_count": 13,
   "id": "9c879607-1b1d-490a-88f3-f0703c207c13",
   "metadata": {},
   "outputs": [
    {
     "data": {
      "text/html": [
       "<div>\n",
       "<style scoped>\n",
       "    .dataframe tbody tr th:only-of-type {\n",
       "        vertical-align: middle;\n",
       "    }\n",
       "\n",
       "    .dataframe tbody tr th {\n",
       "        vertical-align: top;\n",
       "    }\n",
       "\n",
       "    .dataframe thead th {\n",
       "        text-align: right;\n",
       "    }\n",
       "</style>\n",
       "<table border=\"1\" class=\"dataframe\">\n",
       "  <thead>\n",
       "    <tr style=\"text-align: right;\">\n",
       "      <th></th>\n",
       "      <th>number of NaN</th>\n",
       "      <th>percentage of NaN</th>\n",
       "    </tr>\n",
       "  </thead>\n",
       "  <tbody>\n",
       "    <tr>\n",
       "      <th>wiki_movie_id</th>\n",
       "      <td>0</td>\n",
       "      <td>0.0</td>\n",
       "    </tr>\n",
       "    <tr>\n",
       "      <th>plot</th>\n",
       "      <td>0</td>\n",
       "      <td>0.0</td>\n",
       "    </tr>\n",
       "  </tbody>\n",
       "</table>\n",
       "</div>"
      ],
      "text/plain": [
       "               number of NaN  percentage of NaN\n",
       "wiki_movie_id              0                0.0\n",
       "plot                       0                0.0"
      ]
     },
     "execution_count": 13,
     "metadata": {},
     "output_type": "execute_result"
    }
   ],
   "source": [
    "plots_NaN = NaN_percentage(plots)\n",
    "plots_NaN"
   ]
  },
  {
   "cell_type": "markdown",
   "id": "35c320c3-cf0a-4515-8e0e-027a221e305a",
   "metadata": {},
   "source": [
    "<div class=\"1.1\" style='background-color:#c8dfea; padding:1em;'>\n",
    "<span style=\"color:black\">\n",
    "The plot summary df is merged with the movie df so that it can be later analyzed regarding gender.    "
   ]
  },
  {
   "cell_type": "code",
   "execution_count": 14,
   "id": "2bbf30c4-f9cb-49d3-85bc-ecbe6b2c1cbb",
   "metadata": {
    "pycharm": {
     "name": "#%%\n"
    }
   },
   "outputs": [
    {
     "name": "stdout",
     "output_type": "stream",
     "text": [
      "number of movies:\t63652\n",
      "number of plots:\t42303\n",
      "combined info:\t\t42204\n"
     ]
    },
    {
     "data": {
      "text/html": [
       "<div>\n",
       "<style scoped>\n",
       "    .dataframe tbody tr th:only-of-type {\n",
       "        vertical-align: middle;\n",
       "    }\n",
       "\n",
       "    .dataframe tbody tr th {\n",
       "        vertical-align: top;\n",
       "    }\n",
       "\n",
       "    .dataframe thead th {\n",
       "        text-align: right;\n",
       "    }\n",
       "</style>\n",
       "<table border=\"1\" class=\"dataframe\">\n",
       "  <thead>\n",
       "    <tr style=\"text-align: right;\">\n",
       "      <th></th>\n",
       "      <th>wiki_movie_id</th>\n",
       "      <th>freebase_movie_id</th>\n",
       "      <th>movie_name</th>\n",
       "      <th>release_date</th>\n",
       "      <th>box_office_revenue</th>\n",
       "      <th>movie_runtime</th>\n",
       "      <th>languages</th>\n",
       "      <th>countries</th>\n",
       "      <th>genres</th>\n",
       "      <th>plot</th>\n",
       "    </tr>\n",
       "  </thead>\n",
       "  <tbody>\n",
       "    <tr>\n",
       "      <th>0</th>\n",
       "      <td>975900</td>\n",
       "      <td>/m/03vyhn</td>\n",
       "      <td>Ghosts of Mars</td>\n",
       "      <td>2001-08-24</td>\n",
       "      <td>14010832.0</td>\n",
       "      <td>98.0</td>\n",
       "      <td>{\"/m/02h40lc\": \"English Language\"}</td>\n",
       "      <td>{\"/m/09c7w0\": \"United States of America\"}</td>\n",
       "      <td>{\"/m/01jfsb\": \"Thriller\", \"/m/06n90\": \"Science...</td>\n",
       "      <td>Set in the second half of the 22nd century, th...</td>\n",
       "    </tr>\n",
       "    <tr>\n",
       "      <th>1</th>\n",
       "      <td>9363483</td>\n",
       "      <td>/m/0285_cd</td>\n",
       "      <td>White Of The Eye</td>\n",
       "      <td>1987-01-01</td>\n",
       "      <td>NaN</td>\n",
       "      <td>110.0</td>\n",
       "      <td>{\"/m/02h40lc\": \"English Language\"}</td>\n",
       "      <td>{\"/m/07ssc\": \"United Kingdom\"}</td>\n",
       "      <td>{\"/m/01jfsb\": \"Thriller\", \"/m/0glj9q\": \"Erotic...</td>\n",
       "      <td>A series of murders of rich young women throug...</td>\n",
       "    </tr>\n",
       "    <tr>\n",
       "      <th>2</th>\n",
       "      <td>261236</td>\n",
       "      <td>/m/01mrr1</td>\n",
       "      <td>A Woman in Flames</td>\n",
       "      <td>1983-01-01</td>\n",
       "      <td>NaN</td>\n",
       "      <td>106.0</td>\n",
       "      <td>{\"/m/04306rv\": \"German Language\"}</td>\n",
       "      <td>{\"/m/0345h\": \"Germany\"}</td>\n",
       "      <td>{\"/m/07s9rl0\": \"Drama\"}</td>\n",
       "      <td>Eva, an upper class housewife, becomes frustra...</td>\n",
       "    </tr>\n",
       "  </tbody>\n",
       "</table>\n",
       "</div>"
      ],
      "text/plain": [
       "   wiki_movie_id freebase_movie_id         movie_name release_date  \\\n",
       "0         975900         /m/03vyhn     Ghosts of Mars   2001-08-24   \n",
       "1        9363483        /m/0285_cd   White Of The Eye   1987-01-01   \n",
       "2         261236         /m/01mrr1  A Woman in Flames   1983-01-01   \n",
       "\n",
       "   box_office_revenue  movie_runtime                           languages  \\\n",
       "0          14010832.0           98.0  {\"/m/02h40lc\": \"English Language\"}   \n",
       "1                 NaN          110.0  {\"/m/02h40lc\": \"English Language\"}   \n",
       "2                 NaN          106.0   {\"/m/04306rv\": \"German Language\"}   \n",
       "\n",
       "                                   countries  \\\n",
       "0  {\"/m/09c7w0\": \"United States of America\"}   \n",
       "1             {\"/m/07ssc\": \"United Kingdom\"}   \n",
       "2                    {\"/m/0345h\": \"Germany\"}   \n",
       "\n",
       "                                              genres  \\\n",
       "0  {\"/m/01jfsb\": \"Thriller\", \"/m/06n90\": \"Science...   \n",
       "1  {\"/m/01jfsb\": \"Thriller\", \"/m/0glj9q\": \"Erotic...   \n",
       "2                            {\"/m/07s9rl0\": \"Drama\"}   \n",
       "\n",
       "                                                plot  \n",
       "0  Set in the second half of the 22nd century, th...  \n",
       "1  A series of murders of rich young women throug...  \n",
       "2  Eva, an upper class housewife, becomes frustra...  "
      ]
     },
     "execution_count": 14,
     "metadata": {},
     "output_type": "execute_result"
    }
   ],
   "source": [
    "movies_with_plots = pd.merge(left = movies, right = plots, left_on = 'wiki_movie_id', right_on = 'wiki_movie_id', how = 'inner')\n",
    "print('number of movies:\\t{}\\nnumber of plots:\\t{}\\ncombined info:\\t\\t{}'.format(characters.wiki_movie_id.unique().size, len(plots), len(movies_with_plots)))\n",
    "movies_with_plots.head(3)"
   ]
  },
  {
   "cell_type": "markdown",
   "id": "62692c1f-16fc-4a0a-bb24-85c391eebe9f",
   "metadata": {
    "pycharm": {
     "name": "#%% md\n"
    }
   },
   "source": [
    "### 1.4 tvtropes.clusters.txt\n",
    "\n",
    "72 character types drawn from tvtropes.com, along with 501 instances of those types.  The ID field indexes into the Freebase character/actor map ID in character.metadata.tsv. "
   ]
  },
  {
   "cell_type": "markdown",
   "id": "44d01176-32a4-4c1d-9e7e-89c2b0c9cfba",
   "metadata": {},
   "source": [
    "<div class=\"1.1\" style='background-color:#c8dfea; padding:1em;'>\n",
    "<span style=\"color:black\">\n",
    "After reading the trope description on https://tvtropes.org/ each trope was manually given a rating based on how well a character was shown, where -1 is bad, 0 is neutral and 1 is positive. Some where easy to assess when judging ajectives where used in the description such as 'dumb'. For some no rating could be given such as 'granola person'. The rating was not based on whether a character is evil or good but on how they are portrayed. E.g. an evil person can be intelligent. Since for many trope description the rating could be discussed it is not sure whether it should be used in further analysis."
   ]
  },
  {
   "cell_type": "code",
   "execution_count": 19,
   "id": "0914b586-bbe4-48c7-a81f-1e4e1db2b732",
   "metadata": {},
   "outputs": [],
   "source": [
    "def get_gender_ratio(s, gender):\n",
    "    ''' \n",
    "    Calculates the ratio gender\n",
    "    Arg:\n",
    "        s: Object containing all male or female actor in a genre. (M or F)\n",
    "        gender: the gender for which the ratio should be computed for\n",
    "    ''' \n",
    "    \n",
    "    gender_count = 0\n",
    "    for i in range(len(s)):\n",
    "        if s[i] == gender:\n",
    "            gender_count = gender_count+1\n",
    "    return round(gender_count/len(s), 4)\n",
    "\n",
    "# TODO：through time\n"
   ]
  },
  {
   "cell_type": "code",
   "execution_count": 89,
   "id": "9e5a1525-209b-47ba-bd18-4ce6753c627f",
   "metadata": {},
   "outputs": [
    {
     "data": {
      "text/html": [
       "<div>\n",
       "<style scoped>\n",
       "    .dataframe tbody tr th:only-of-type {\n",
       "        vertical-align: middle;\n",
       "    }\n",
       "\n",
       "    .dataframe tbody tr th {\n",
       "        vertical-align: top;\n",
       "    }\n",
       "\n",
       "    .dataframe thead th {\n",
       "        text-align: right;\n",
       "    }\n",
       "</style>\n",
       "<table border=\"1\" class=\"dataframe\">\n",
       "  <thead>\n",
       "    <tr style=\"text-align: right;\">\n",
       "      <th></th>\n",
       "      <th>char_type</th>\n",
       "      <th>sentiment</th>\n",
       "      <th>char_name</th>\n",
       "      <th>movie_name</th>\n",
       "      <th>freebase_map_id</th>\n",
       "      <th>actor_name</th>\n",
       "    </tr>\n",
       "  </thead>\n",
       "  <tbody>\n",
       "    <tr>\n",
       "      <th>0</th>\n",
       "      <td>absent_minded_professor</td>\n",
       "      <td>-1</td>\n",
       "      <td>Professor Philip Brainard</td>\n",
       "      <td>Flubber</td>\n",
       "      <td>/m/0jy9q0</td>\n",
       "      <td>Robin Williams</td>\n",
       "    </tr>\n",
       "    <tr>\n",
       "      <th>1</th>\n",
       "      <td>absent_minded_professor</td>\n",
       "      <td>-1</td>\n",
       "      <td>Professor Keenbean</td>\n",
       "      <td>Richie Rich</td>\n",
       "      <td>/m/02vchl3</td>\n",
       "      <td>Michael McShane</td>\n",
       "    </tr>\n",
       "    <tr>\n",
       "      <th>2</th>\n",
       "      <td>absent_minded_professor</td>\n",
       "      <td>-1</td>\n",
       "      <td>Dr. Reinhardt Lane</td>\n",
       "      <td>The Shadow</td>\n",
       "      <td>/m/0k6fkc</td>\n",
       "      <td>Ian McKellen</td>\n",
       "    </tr>\n",
       "    <tr>\n",
       "      <th>3</th>\n",
       "      <td>absent_minded_professor</td>\n",
       "      <td>-1</td>\n",
       "      <td>Dr. Harold Medford</td>\n",
       "      <td>Them!</td>\n",
       "      <td>/m/0k6_br</td>\n",
       "      <td>Edmund Gwenn</td>\n",
       "    </tr>\n",
       "    <tr>\n",
       "      <th>4</th>\n",
       "      <td>absent_minded_professor</td>\n",
       "      <td>-1</td>\n",
       "      <td>Daniel Jackson</td>\n",
       "      <td>Stargate</td>\n",
       "      <td>/m/0k3rhh</td>\n",
       "      <td>James Spader</td>\n",
       "    </tr>\n",
       "  </tbody>\n",
       "</table>\n",
       "</div>"
      ],
      "text/plain": [
       "                 char_type  sentiment                  char_name   movie_name  \\\n",
       "0  absent_minded_professor         -1  Professor Philip Brainard      Flubber   \n",
       "1  absent_minded_professor         -1         Professor Keenbean  Richie Rich   \n",
       "2  absent_minded_professor         -1         Dr. Reinhardt Lane   The Shadow   \n",
       "3  absent_minded_professor         -1         Dr. Harold Medford        Them!   \n",
       "4  absent_minded_professor         -1             Daniel Jackson     Stargate   \n",
       "\n",
       "  freebase_map_id       actor_name  \n",
       "0       /m/0jy9q0   Robin Williams  \n",
       "1      /m/02vchl3  Michael McShane  \n",
       "2       /m/0k6fkc     Ian McKellen  \n",
       "3       /m/0k6_br     Edmund Gwenn  \n",
       "4       /m/0k3rhh     James Spader  "
      ]
     },
     "execution_count": 89,
     "metadata": {},
     "output_type": "execute_result"
    }
   ],
   "source": [
    "tvtropes = pd.read_csv('./data/tvtropes.clusters_assessement.txt', sep = '\\t', header=None, names=('char_type', 'details', 'sentiment'))\n",
    "\n",
    "# split the details to seprate columns\n",
    "details = tvtropes['details'].str.slice(start=1, stop=-1).str.split('\", \"|\": \"', expand=True)\n",
    "\n",
    "tvtropes['char_name'] = details[1]\n",
    "tvtropes['movie_name'] = details[3]\n",
    "tvtropes['freebase_map_id'] = details[5]\n",
    "tvtropes['actor_name'] = details[7].str.replace('\"' ,'',regex=True)\n",
    "tvtropes.drop(columns=['details'], inplace = True)\n",
    "\n",
    "tvtropes.head()"
   ]
  },
  {
   "cell_type": "code",
   "execution_count": 90,
   "id": "9895e699-a2f0-48ec-8454-4ea2a2e2769a",
   "metadata": {},
   "outputs": [
    {
     "data": {
      "text/html": [
       "<div>\n",
       "<style scoped>\n",
       "    .dataframe tbody tr th:only-of-type {\n",
       "        vertical-align: middle;\n",
       "    }\n",
       "\n",
       "    .dataframe tbody tr th {\n",
       "        vertical-align: top;\n",
       "    }\n",
       "\n",
       "    .dataframe thead th {\n",
       "        text-align: right;\n",
       "    }\n",
       "</style>\n",
       "<table border=\"1\" class=\"dataframe\">\n",
       "  <thead>\n",
       "    <tr style=\"text-align: right;\">\n",
       "      <th></th>\n",
       "      <th>number of NaN</th>\n",
       "      <th>percentage of NaN</th>\n",
       "    </tr>\n",
       "  </thead>\n",
       "  <tbody>\n",
       "    <tr>\n",
       "      <th>wiki_movie_id</th>\n",
       "      <td>0</td>\n",
       "      <td>0.0</td>\n",
       "    </tr>\n",
       "    <tr>\n",
       "      <th>plot</th>\n",
       "      <td>0</td>\n",
       "      <td>0.0</td>\n",
       "    </tr>\n",
       "  </tbody>\n",
       "</table>\n",
       "</div>"
      ],
      "text/plain": [
       "               number of NaN  percentage of NaN\n",
       "wiki_movie_id              0                0.0\n",
       "plot                       0                0.0"
      ]
     },
     "execution_count": 90,
     "metadata": {},
     "output_type": "execute_result"
    }
   ],
   "source": [
    "tropes_NaN = NaN_percentage(tvtropes)\n",
    "plots_NaN"
   ]
  },
  {
   "cell_type": "code",
   "execution_count": 91,
   "id": "1c6af1b7-52aa-4ac6-a82a-a0986eb1cbfe",
   "metadata": {},
   "outputs": [],
   "source": [
    "tvtropes = pd.merge(tvtropes, characters[['freebase_map_id','actor_gender','wiki_movie_id']],\n",
    "                       left_on='freebase_map_id', right_on='freebase_map_id', how='left')\n",
    "tvtropes_w_gender = tvtropes[['char_type', 'actor_gender']].groupby('char_type').agg('sum')\n",
    "tvtropes_w_gender['female_ratio'] =tvtropes_w_gender['actor_gender'].apply(lambda x: get_gender_ratio(x,'F'))\n",
    "tvtropes_w_gender = tvtropes_w_gender.query('female_ratio != 0').sort_values(by='female_ratio', ascending=False)"
   ]
  },
  {
   "cell_type": "code",
   "execution_count": 92,
   "id": "4cc6384c-9d90-468b-95f0-74a4db98b74c",
   "metadata": {},
   "outputs": [],
   "source": [
    "tvtropes_M = tvtropes[tvtropes['actor_gender']=='M']\n",
    "tvtropes_F = tvtropes[tvtropes['actor_gender']=='F']"
   ]
  },
  {
   "cell_type": "code",
   "execution_count": 93,
   "id": "0ec73f63-c049-4354-a83c-5f33d70b100d",
   "metadata": {},
   "outputs": [
    {
     "name": "stdout",
     "output_type": "stream",
     "text": [
      "Number of character types for female:\t 21\n",
      "Number of character types for male:\t 65\n"
     ]
    }
   ],
   "source": [
    "print('Number of character types for female:\\t {}\\nNumber of character types for male:\\t {}'.format(len(tvtropes_F.char_type.unique()), len(tvtropes_M.char_type.unique())))"
   ]
  },
  {
   "cell_type": "code",
   "execution_count": 94,
   "id": "39f91f35-db2d-4883-83fc-396debf2080d",
   "metadata": {},
   "outputs": [
    {
     "name": "stdout",
     "output_type": "stream",
     "text": [
      "\n",
      "Sentiment score of female types: -0.5362318840579711\n",
      "Sentiment score of male types:\t -0.060324825986078884\n"
     ]
    }
   ],
   "source": [
    "print('\\nSentiment score of female types: {}\\nSentiment score of male types:\\t {}'.format(tvtropes_F.sentiment.mean(), tvtropes_M.sentiment.mean()))"
   ]
  },
  {
   "cell_type": "markdown",
   "id": "960cf188-ca13-4236-ac5a-e920c1584d41",
   "metadata": {},
   "source": [
    "##### We can see that there are three times of character variety for male characters comparing to female. The sentiment towards these female character are more negative than male. "
   ]
  },
  {
   "cell_type": "markdown",
   "id": "ae33fddc",
   "metadata": {
    "pycharm": {
     "name": "#%% md\n"
    }
   },
   "source": [
    "### 1.5 title.crew.tsv.gz\n",
    "\n",
    "Contains the director and writer information for all the titles in IMDb.\n",
    "\n",
    "1. tconst (string) - alphanumeric unique identifier of the title\n",
    "2. Directors (array of nconsts) - director(s) of the given title\n",
    "3. Writers (array of nconsts) – writer(s) of the given title"
   ]
  },
  {
   "cell_type": "code",
   "execution_count": 40,
   "id": "3f6defae",
   "metadata": {
    "collapsed": false,
    "jupyter": {
     "outputs_hidden": false
    },
    "pycharm": {
     "name": "#%%\n"
    }
   },
   "outputs": [
    {
     "data": {
      "text/html": [
       "<div>\n",
       "<style scoped>\n",
       "    .dataframe tbody tr th:only-of-type {\n",
       "        vertical-align: middle;\n",
       "    }\n",
       "\n",
       "    .dataframe tbody tr th {\n",
       "        vertical-align: top;\n",
       "    }\n",
       "\n",
       "    .dataframe thead th {\n",
       "        text-align: right;\n",
       "    }\n",
       "</style>\n",
       "<table border=\"1\" class=\"dataframe\">\n",
       "  <thead>\n",
       "    <tr style=\"text-align: right;\">\n",
       "      <th></th>\n",
       "      <th>tconst</th>\n",
       "      <th>directors</th>\n",
       "      <th>writers</th>\n",
       "    </tr>\n",
       "  </thead>\n",
       "  <tbody>\n",
       "    <tr>\n",
       "      <th>0</th>\n",
       "      <td>tt0000001</td>\n",
       "      <td>nm0005690</td>\n",
       "      <td>NaN</td>\n",
       "    </tr>\n",
       "    <tr>\n",
       "      <th>1</th>\n",
       "      <td>tt0000002</td>\n",
       "      <td>nm0721526</td>\n",
       "      <td>NaN</td>\n",
       "    </tr>\n",
       "    <tr>\n",
       "      <th>2</th>\n",
       "      <td>tt0000003</td>\n",
       "      <td>nm0721526</td>\n",
       "      <td>NaN</td>\n",
       "    </tr>\n",
       "    <tr>\n",
       "      <th>3</th>\n",
       "      <td>tt0000004</td>\n",
       "      <td>nm0721526</td>\n",
       "      <td>NaN</td>\n",
       "    </tr>\n",
       "    <tr>\n",
       "      <th>4</th>\n",
       "      <td>tt0000005</td>\n",
       "      <td>nm0005690</td>\n",
       "      <td>NaN</td>\n",
       "    </tr>\n",
       "  </tbody>\n",
       "</table>\n",
       "</div>"
      ],
      "text/plain": [
       "      tconst  directors writers\n",
       "0  tt0000001  nm0005690     NaN\n",
       "1  tt0000002  nm0721526     NaN\n",
       "2  tt0000003  nm0721526     NaN\n",
       "3  tt0000004  nm0721526     NaN\n",
       "4  tt0000005  nm0005690     NaN"
      ]
     },
     "execution_count": 40,
     "metadata": {},
     "output_type": "execute_result"
    }
   ],
   "source": [
    "crew = pd.read_csv('data/title.crew.tsv.gz', compression='gzip', sep='\\t', na_values=\"\\\\N\")\n",
    "crew.head()"
   ]
  },
  {
   "cell_type": "markdown",
   "id": "a52402b9",
   "metadata": {
    "pycharm": {
     "name": "#%% md\n"
    }
   },
   "source": [
    "<div class=\"1.1\" style='background-color:#c8dfea; padding:1em;'>\n",
    "<span style=\"color:black\">\n",
    "    \n",
    "To link the titles of the movies and the writers/directors we need two additional dataset:\n",
    "1. title.akas.tsv.gz, that contains titles and tconst\n",
    "2. data/name.basics.tsv.gz, that contains writers/directors id and their ids\n"
   ]
  },
  {
   "cell_type": "code",
   "execution_count": null,
   "id": "3dd40d51-2754-4b2e-a91a-982497108e33",
   "metadata": {
    "collapsed": false,
    "jupyter": {
     "outputs_hidden": false
    },
    "pycharm": {
     "name": "#%%\n"
    }
   },
   "outputs": [],
   "source": [
    "titles = pd.read_csv('data/title.akas.tsv.gz', compression='gzip', sep='\\t', na_values=\"\\\\N\", usecols=['titleId', 'title'], low_memory=True)\n",
    "titles = titles.rename(columns={'titleId' : 'tconst'})\n",
    "titles.head()"
   ]
  },
  {
   "cell_type": "code",
   "execution_count": null,
   "id": "fbe0991e",
   "metadata": {
    "collapsed": false,
    "jupyter": {
     "outputs_hidden": false
    },
    "pycharm": {
     "name": "#%%\n"
    }
   },
   "outputs": [],
   "source": [
    "## Inner join titles and metadata to only keep the movies that are in the original set\n",
    "titles = pd.merge(titles, movies.rename(columns={'movie_name' : 'title'}).title, on='title', how='inner')\n",
    "titles.head()"
   ]
  },
  {
   "cell_type": "code",
   "execution_count": null,
   "id": "3fe073d8",
   "metadata": {
    "collapsed": false,
    "jupyter": {
     "outputs_hidden": false
    },
    "pycharm": {
     "name": "#%%\n"
    }
   },
   "outputs": [],
   "source": [
    "## Inner join crew and titles on tconst to have the title name with the directors and writers\n",
    "crew = pd.merge(crew, titles, on='tconst', how='inner')\n",
    "crew.drop('tconst', axis=1, inplace=True) ## Drop useless column \"tconst\"\n",
    "crew = crew.drop_duplicates() ## Drop duplicates i.e. titles that have multiple \"tconst\" values\n",
    "del titles ## Free memory\n",
    "crew.head()"
   ]
  },
  {
   "cell_type": "code",
   "execution_count": null,
   "id": "6968283a",
   "metadata": {
    "collapsed": false,
    "jupyter": {
     "outputs_hidden": false
    },
    "pycharm": {
     "name": "#%%\n"
    }
   },
   "outputs": [],
   "source": [
    "# Create two data frame for directors and writers, and drop the row without directors and writers.\n",
    "directors = crew[['directors', 'title']].dropna()\n",
    "writers = crew[['title', 'writers']].dropna()"
   ]
  },
  {
   "cell_type": "code",
   "execution_count": null,
   "id": "f733fb26",
   "metadata": {
    "collapsed": false,
    "jupyter": {
     "outputs_hidden": false
    },
    "pycharm": {
     "name": "#%%\n"
    }
   },
   "outputs": [],
   "source": [
    "# Directors and writers are list, so we transform them into rows\n",
    "directors['directors'] = directors['directors'].str.split(pat=',')\n",
    "writers['writers'] = writers['writers'].str.split(pat=',')\n",
    "directors = directors.explode('directors')\n",
    "writers = writers.explode('writers')"
   ]
  },
  {
   "cell_type": "code",
   "execution_count": null,
   "id": "06e08792",
   "metadata": {
    "collapsed": false,
    "jupyter": {
     "outputs_hidden": false
    },
    "pycharm": {
     "name": "#%%\n"
    }
   },
   "outputs": [],
   "source": [
    "names = pd.read_csv('data/name.basics.tsv.gz', compression='gzip', sep='\\t', na_values=\"\\\\N\", usecols=['nconst', 'primaryName'], low_memory=True)\n",
    "names.head()"
   ]
  },
  {
   "cell_type": "code",
   "execution_count": null,
   "id": "021465a0",
   "metadata": {
    "collapsed": false,
    "jupyter": {
     "outputs_hidden": false
    },
    "pycharm": {
     "name": "#%%\n"
    }
   },
   "outputs": [],
   "source": [
    "directors = pd.merge(directors, names.rename(columns={'nconst' : 'directors'})[['directors', 'primaryName']],\n",
    "                     on='directors', how='inner')\n",
    "directors.drop('directors', axis=1, inplace=True)\n",
    "directors.rename(columns={'primaryName' : 'director_name'}, inplace=True)\n",
    "directors = directors.drop_duplicates()\n",
    "directors.head()"
   ]
  },
  {
   "cell_type": "code",
   "execution_count": null,
   "id": "c96f6aa3",
   "metadata": {
    "collapsed": false,
    "jupyter": {
     "outputs_hidden": false
    },
    "pycharm": {
     "name": "#%%\n"
    }
   },
   "outputs": [],
   "source": [
    "writers = pd.merge(writers, names.rename(columns={'nconst' : 'writers'})[['writers', 'primaryName']],\n",
    "                   on='writers', how='inner')\n",
    "writers.drop('writers', axis=1, inplace=True)\n",
    "writers.rename(columns={'primaryName' : 'writer_name'}, inplace=True)\n",
    "writers = writers.drop_duplicates()\n",
    "del names ## Free memory\n",
    "writers.head()"
   ]
  },
  {
   "cell_type": "markdown",
   "id": "6b77c3a1",
   "metadata": {},
   "source": [
    "## Task 2 Quantification of gender inequality\n",
    "\n",
    "###  2.1 Female ratio \n",
    "#### 2.1.1 Female ratio in cast"
   ]
  },
  {
   "cell_type": "markdown",
   "id": "8f6781a6",
   "metadata": {},
   "source": [
    "<div class=\"1.1\" style='background-color:#c8dfea; padding:1em;'>\n",
    "<span style=\"color:black\">\n",
    "The number of actress versus actor can reflect gender equality. Since the number of movies is not the same throughout the years, the ratio of female actress per year is computed.  \n",
    "    \n",
    "However, it can be rather inconvincing when the overall movies are quite few (e.g. at the very beginning stage of movie industry). Thus, we first need to filter out those years that have extremely few movies."
   ]
  },
  {
   "cell_type": "code",
   "execution_count": 184,
   "id": "1e8fee50-6f0a-4f4c-9bb9-0a9b18dff13b",
   "metadata": {},
   "outputs": [],
   "source": [
    "sns.reset_defaults()"
   ]
  },
  {
   "cell_type": "code",
   "execution_count": 185,
   "id": "755923b6",
   "metadata": {},
   "outputs": [
    {
     "data": {
      "text/plain": [
       "Text(0, 0.5, 'Count')"
      ]
     },
     "execution_count": 185,
     "metadata": {},
     "output_type": "execute_result"
    },
    {
     "data": {
      "image/png": "[encoded data removed]",
      "text/plain": [
       "<Figure size 640x480 with 1 Axes>"
      ]
     },
     "metadata": {},
     "output_type": "display_data"
    }
   ],
   "source": [
    "# first check the distribution of movies numbers in each year\n",
    "characters_by_year = characters.copy()\n",
    "characters_by_year['release_date'] = pd.to_datetime(characters_by_year['release_date']) # transform to datetime format\n",
    "characters_by_year['release_year'] = characters_by_year['release_date'].dt.to_period('Y') # create year column\n",
    "characters_by_year['release_year'] = characters_by_year['release_year'].astype(str)\n",
    "year_movie_count = characters_by_year.groupby('release_year')['wiki_movie_id'].count().reset_index()\n",
    "year_movie_count['movie_count'] = year_movie_count['wiki_movie_id']# rename column\n",
    "year_movie_count = year_movie_count[['release_year','movie_count']] # only keep necessary columns\n",
    "m = sns.histplot(year_movie_count, log_scale=True).set_title('Distribution of number of movies per year')\n",
    "plt.xlabel('Number of movies per year')\n",
    "plt.ylabel('Count')"
   ]
  },
  {
   "cell_type": "markdown",
   "id": "97656f30",
   "metadata": {},
   "source": [
    "<div class=\"1.1\" style='background-color:#c8dfea; padding:1em;'>\n",
    "<span style=\"color:black\">\n",
    "From the histogram, we can see that there are a few years where only little movies were produced. By  filtering out certain years with extremely few movies (under 50 movies) avoid a skewed computation of female ratio."
   ]
  },
  {
   "cell_type": "code",
   "execution_count": 186,
   "id": "5ea615e6",
   "metadata": {},
   "outputs": [
    {
     "data": {
      "text/plain": [
       "Text(0, 0.5, 'Count')"
      ]
     },
     "execution_count": 186,
     "metadata": {},
     "output_type": "execute_result"
    },
    {
     "data": {
      "image/png": "[encoded data removed]",
      "text/plain": [
       "<Figure size 640x480 with 1 Axes>"
      ]
     },
     "metadata": {},
     "output_type": "display_data"
    }
   ],
   "source": [
    "# filter out years with extremely few movies\n",
    "year_movie_count = year_movie_count[year_movie_count['movie_count']>=50] # keep years with more than 50 movies\n",
    "year_list= year_movie_count['release_year'] # create a list containing selected years\n",
    "characters_by_year = characters_by_year[characters_by_year['release_year'].isin(year_list)]\n",
    "m = sns.histplot(year_movie_count, log_scale=True).set_title('Distribution of Movie Count in Each Year')\n",
    "plt.xlabel('Number of movies per year')\n",
    "plt.ylabel('Count')"
   ]
  },
  {
   "cell_type": "code",
   "execution_count": 187,
   "id": "1aaeadd9",
   "metadata": {},
   "outputs": [],
   "source": [
    "def gender_ratio(s, gender):\n",
    "    count = len(s[s['actor_gender']==gender])\n",
    "    \n",
    "    return round((count/len(s)), 4)\n",
    "\n",
    "    \n",
    "female_ratio_by_year = characters_by_year.groupby('release_year').apply(lambda x: gender_ratio(x, 'F')).reset_index() # compute female ratio of each year\n",
    "female_ratio_by_year['female_ratio'] = female_ratio_by_year[0] # rename column\n",
    "female_ratio_by_year=female_ratio_by_year[['release_year','female_ratio']] # keep only necessary columns\n",
    "\n",
    "male_ratio_by_year = characters_by_year.groupby('release_year').apply(lambda x: gender_ratio(x, 'M')).reset_index() # compute male ratio of each year\n",
    "male_ratio_by_year['male_ratio'] = male_ratio_by_year[0] # rename column\n",
    "male_ratio_by_year=male_ratio_by_year[['release_year','male_ratio']] # keep only necessary columns\n",
    "\n"
   ]
  },
  {
   "cell_type": "code",
   "execution_count": 188,
   "id": "c21d9781-da2d-4ecf-8320-36d6355cadcc",
   "metadata": {},
   "outputs": [
    {
     "data": {
      "image/png": "[encoded data removed]",
      "text/plain": [
       "<Figure size 640x480 with 1 Axes>"
      ]
     },
     "metadata": {},
     "output_type": "display_data"
    }
   ],
   "source": [
    "ax = sns.histplot(female_ratio_by_year.female_ratio.values, kde=True, stat='density', color = 'cornflowerblue', label='female ratio')\n",
    "lower = np.percentile(female_ratio_by_year.female_ratio.values, 2.5)\n",
    "upper = np.percentile(female_ratio_by_year.female_ratio.values, 97.5)\n",
    "plt.axvline(x=lower, ymin=0, ymax=1,c='y')\n",
    "plt.axvline(x=upper, ymin=0, ymax=1,c='r')\n",
    "\n",
    "ax = sns.histplot(male_ratio_by_year.male_ratio.values, kde=True, stat='density', color = 'khaki',label='male ratio')\n",
    "lower = np.percentile(male_ratio_by_year.male_ratio.values, 2.5)\n",
    "upper = np.percentile(male_ratio_by_year.male_ratio.values, 97.5)\n",
    "plt.axvline(x=lower, ymin=0, ymax=1,label='2.5th percentile',c='y')\n",
    "plt.axvline(x=upper, ymin=0, ymax=1,label='97.5th percentile',c='r')\n",
    "\n",
    "plt.xlabel(\"'Gender Ratio per year'\")\n",
    "plt.ylabel(\"Count\")\n",
    "plt.title(\"Distribution of Gender in cast\")\n",
    "plt.legend()\n",
    "plt.show()"
   ]
  },
  {
   "cell_type": "markdown",
   "id": "89c59366",
   "metadata": {},
   "source": [
    "At last, we got the final temporal flutuation of female ratio in cast from 1888 to 2016."
   ]
  },
  {
   "cell_type": "code",
   "execution_count": 192,
   "id": "d966e5b1",
   "metadata": {},
   "outputs": [
    {
     "data": {
      "image/png": "[encoded data removed]",
      "text/plain": [
       "<Figure size 1000x500 with 1 Axes>"
      ]
     },
     "metadata": {},
     "output_type": "display_data"
    }
   ],
   "source": [
    "f, ax = plt.subplots(figsize=(10, 5))\n",
    "sns.set(rc={'axes.facecolor':'lavenderblush', 'figure.facecolor':'lavender'})\n",
    "g = sns.lineplot(x='release_year',y='female_ratio',markers='o',data=female_ratio_by_year)\n",
    "g.set_title('Female Ratio Change in Cast from 1888 to 2016')\n",
    "g.tick_params(axis='x', rotation=45)\n",
    "for ind, label in enumerate(g.get_xticklabels()):\n",
    "    if ind % 10 == 0:  # every 10th label is kept \n",
    "        label.set_visible(True)\n",
    "    else:\n",
    "        label.set_visible(False)"
   ]
  },
  {
   "cell_type": "markdown",
   "id": "2f088a2c",
   "metadata": {},
   "source": [
    "### 2.1.2 Female ratio in directors"
   ]
  },
  {
   "cell_type": "code",
   "execution_count": 88,
   "id": "46729ba0",
   "metadata": {},
   "outputs": [],
   "source": [
    "# load data\n",
    "writers = pd.read_pickle('./data/writers.pickle')\n",
    "directors = pd.read_pickle('./data/directors.pickle')"
   ]
  },
  {
   "cell_type": "markdown",
   "id": "ff89724a",
   "metadata": {},
   "source": [
    "Let's first take a look at the overall female ratio in directors and writers!"
   ]
  },
  {
   "cell_type": "code",
   "execution_count": 66,
   "id": "eed53fad",
   "metadata": {},
   "outputs": [
    {
     "name": "stdout",
     "output_type": "stream",
     "text": [
      "The overall female ratio in directors and writers are 0.15 and 0.21\n"
     ]
    }
   ],
   "source": [
    "female_ratio_directors = len(directors[directors['gender']=='F'])/len(directors)\n",
    "female_ratio_writers = len(writers[writers['gender']=='F'])/len(writers)\n",
    "print('The overall female ratio in directors and writers are {:.2f}'.format(female_ratio_directors),'and {:.2f}'.format(female_ratio_writers))"
   ]
  },
  {
   "cell_type": "markdown",
   "id": "c73c95dc",
   "metadata": {},
   "source": [
    "The overall female ratios are much lower than expected! Then we would like to know how ratios change across this long period in directors and writers. Is it getting better for women directors and writers? Let's investigate into directors first!"
   ]
  },
  {
   "cell_type": "code",
   "execution_count": 67,
   "id": "5226478b",
   "metadata": {},
   "outputs": [],
   "source": [
    "# merge dataframe by title to get release year \n",
    "def ffemale_ratio(s):\n",
    "    female_count = len(s[s['gender']=='F'])\n",
    "    return round((female_count/len(s)), 4)\n",
    "directors.rename(columns={'title': 'movie_name'}, inplace=True)# rename columns to get the key\n",
    "directors_by_year = pd.merge(directors,movies, on = 'movie_name')\n",
    "directors_by_year=directors_by_year[['movie_name','director_name','gender','release_date']] # keep only necessary columns\n",
    "directors_by_year['release_date'] = pd.to_datetime(directors_by_year['release_date'])\n",
    "directors_by_year['release_year'] = directors_by_year['release_date'].dt.to_period('Y') # create year column"
   ]
  },
  {
   "cell_type": "code",
   "execution_count": 68,
   "id": "c5c60fa3",
   "metadata": {},
   "outputs": [],
   "source": [
    "# filter out years with extremely few movies \n",
    "directors_by_year['release_year'] = directors_by_year['release_year'].astype(str)\n",
    "directors_by_year = directors_by_year[directors_by_year['release_year'].isin(year_list)]"
   ]
  },
  {
   "cell_type": "code",
   "execution_count": 70,
   "id": "8ae1458c",
   "metadata": {},
   "outputs": [
    {
     "data": {
      "text/plain": [
       "Text(0.5, 1.0, 'Distribution of Female Ratio in Directors in Each Year')"
      ]
     },
     "execution_count": 70,
     "metadata": {},
     "output_type": "execute_result"
    },
    {
     "data": {
      "image/png": "[encoded data removed]",
      "text/plain": [
       "<Figure size 432x288 with 1 Axes>"
      ]
     },
     "metadata": {},
     "output_type": "display_data"
    }
   ],
   "source": [
    "female_director_ratio_by_year = directors_by_year.groupby('release_year').apply(lambda x: ffemale_ratio(x)).reset_index()\n",
    "female_director_ratio_by_year['female_ratio'] = female_director_ratio_by_year[0] # rename column\n",
    "female_director_ratio_by_year=female_director_ratio_by_year[['release_year','female_ratio']] # keep only necessary columns\n",
    "female_director_ratio_by_year.hist()\n",
    "plt.xlabel('Female Ratio')\n",
    "plt.ylabel('Year Count')\n",
    "plt.title('Distribution of Female Ratio in Directors in Each Year')"
   ]
  },
  {
   "cell_type": "markdown",
   "id": "061fcef0",
   "metadata": {},
   "source": [
    "The overall ratio is pretty low and not skewed, thus we don't use a logarithmic scale here. Now we got the final temporal flutuation of female ratio in directors from 1888 to 2016."
   ]
  },
  {
   "cell_type": "code",
   "execution_count": 522,
   "id": "fec82d17",
   "metadata": {},
   "outputs": [
    {
     "data": {
      "image/png": "[encoded data removed]",
      "text/plain": [
       "<Figure size 720x360 with 1 Axes>"
      ]
     },
     "metadata": {},
     "output_type": "display_data"
    }
   ],
   "source": [
    "f, ax = plt.subplots(figsize=(10, 5))\n",
    "sns.set(rc={'axes.facecolor':'lavenderblush', 'figure.facecolor':'lavender'})\n",
    "g = sns.lineplot(data=female_director_ratio_by_year,x='release_year',y='female_ratio',markers='o')\n",
    "g.set_title('Female Ratio Change in Directors from 1888 to 2016')\n",
    "g.tick_params(axis='x', rotation=45)\n",
    "for ind, label in enumerate(g.get_xticklabels()):\n",
    "    if ind % 10 == 0:  # every 10th label is kept \n",
    "        label.set_visible(True)\n",
    "    else:\n",
    "        label.set_visible(False)"
   ]
  },
  {
   "cell_type": "markdown",
   "id": "89ff24d3",
   "metadata": {},
   "source": [
    "### 2.1.3 Female ratio in writers\n",
    "Let's repeat the same procedure and see what happens to writers!"
   ]
  },
  {
   "cell_type": "code",
   "execution_count": 71,
   "id": "b5bc734a",
   "metadata": {},
   "outputs": [],
   "source": [
    "writers.rename(columns={'title': 'movie_name'}, inplace=True)# rename columns to get the key\n",
    "writers_by_year = pd.merge(writers,movies, on = 'movie_name')\n",
    "writers_by_year=writers_by_year[['movie_name','writer_name','gender','release_date']] # keep only necessary columns\n",
    "writers_by_year['release_date'] = pd.to_datetime(writers_by_year['release_date'])\n",
    "writers_by_year['release_year'] = writers_by_year['release_date'].dt.to_period('Y') # create year column"
   ]
  },
  {
   "cell_type": "code",
   "execution_count": 72,
   "id": "8f58c309",
   "metadata": {},
   "outputs": [],
   "source": [
    "# filter out years with extremely few movies \n",
    "writers_by_year['release_year'] = writers_by_year['release_year'].astype(str)\n",
    "writers_by_year = writers_by_year[writers_by_year['release_year'].isin(year_list)]"
   ]
  },
  {
   "cell_type": "code",
   "execution_count": 74,
   "id": "48ed54dc",
   "metadata": {},
   "outputs": [
    {
     "data": {
      "text/plain": [
       "Text(0.5, 1.0, 'Distribution of Female Ratio in Writers in Each Year')"
      ]
     },
     "execution_count": 74,
     "metadata": {},
     "output_type": "execute_result"
    },
    {
     "data": {
      "image/png": "[encoded data removed]",
      "text/plain": [
       "<Figure size 432x288 with 1 Axes>"
      ]
     },
     "metadata": {},
     "output_type": "display_data"
    }
   ],
   "source": [
    "female_writer_ratio_by_year = writers_by_year.groupby('release_year').apply(lambda x: ffemale_ratio(x)).reset_index()\n",
    "female_writer_ratio_by_year['female_ratio'] = female_writer_ratio_by_year[0] # rename column\n",
    "female_writer_ratio_by_year=female_writer_ratio_by_year[['release_year','female_ratio']] # keep only necessary columns\n",
    "female_writer_ratio_by_year.hist()\n",
    "plt.xlabel('Female Ratio')\n",
    "plt.ylabel('Year Count')\n",
    "plt.title('Distribution of Female Ratio in Writers in Each Year')"
   ]
  },
  {
   "cell_type": "markdown",
   "id": "b3b99492",
   "metadata": {},
   "source": [
    "Similarly,  we got the final temporal flutuation of female ratio in writers from 1888 to 2016."
   ]
  },
  {
   "cell_type": "code",
   "execution_count": 75,
   "id": "f3c1ddea",
   "metadata": {},
   "outputs": [
    {
     "data": {
      "image/png": "[encoded data removed]",
      "text/plain": [
       "<Figure size 720x360 with 1 Axes>"
      ]
     },
     "metadata": {},
     "output_type": "display_data"
    }
   ],
   "source": [
    "f, ax = plt.subplots(figsize=(10, 5))\n",
    "sns.set(rc={'axes.facecolor':'lavenderblush', 'figure.facecolor':'lavender'})\n",
    "g = sns.lineplot(data=female_writer_ratio_by_year ,x='release_year',y='female_ratio',markers='o')\n",
    "g.set_title('Female Ratio Change in Writers from 1888 to 2016')\n",
    "g.tick_params(axis='x', rotation=45)\n",
    "for ind, label in enumerate(g.get_xticklabels()):\n",
    "    if ind % 10 == 0:  # every 10th label is kept \n",
    "        label.set_visible(True)\n",
    "    else:\n",
    "        label.set_visible(False)"
   ]
  },
  {
   "cell_type": "markdown",
   "id": "aa78a1ad",
   "metadata": {},
   "source": [
    "Although the female ratio in directors and writers gradually increases during a century, the female proportion is somehow still unsatisfactory, as it accounts for less than a quarter. Men are dominant in movie production, which is even worse than what happens in cast.\n",
    "Meanwhile, we also noticed that around 1938, all the female ratio in cast, directors and writers experienced dramatic decline. It's possibly due to second world war when women tend to have less chance in their movie career in wartime, compared to peacetime."
   ]
  },
  {
   "cell_type": "markdown",
   "id": "b9393a6b",
   "metadata": {},
   "source": [
    "###  2.2 Age gap between males and females in cast"
   ]
  },
  {
   "cell_type": "code",
   "execution_count": 15,
   "id": "322d4ab4",
   "metadata": {},
   "outputs": [],
   "source": [
    "age = characters.copy()\n",
    "age = age[age['actor_age_at_release']>0]# keep only positive values"
   ]
  },
  {
   "cell_type": "code",
   "execution_count": 16,
   "id": "c29c4dfa",
   "metadata": {},
   "outputs": [
    {
     "data": {
      "text/plain": [
       "Text(0.5, 1.0, 'Age Distribution of Actresses and Actors at Release')"
      ]
     },
     "execution_count": 16,
     "metadata": {},
     "output_type": "execute_result"
    },
    {
     "data": {
      "image/png": "[encoded data removed]",
      "text/plain": [
       "<Figure size 720x360 with 1 Axes>"
      ]
     },
     "metadata": {
      "needs_background": "light"
     },
     "output_type": "display_data"
    }
   ],
   "source": [
    "# age gap between actresses and actors\n",
    "female_chara = age[age['actor_gender']=='F'].dropna()\n",
    "male_chara = age[age['actor_gender']=='M'].dropna()\n",
    "np.random.seed(0)\n",
    "fig, ax = plt.subplots(figsize=(10, 5))\n",
    "a_heights, a_bins = np.histogram(female_chara['actor_age_at_release'])\n",
    "b_heights, b_bins = np.histogram(male_chara['actor_age_at_release'], bins=a_bins)\n",
    "width = (a_bins[1] - a_bins[0])/3\n",
    "ax.bar(a_bins[:-1], a_heights, width=width, facecolor='palevioletred',label='female')\n",
    "ax.axvline(female_chara['actor_age_at_release'].mean(), color='k', linestyle='dashed', linewidth=1.5)\n",
    "ax.text(female_chara['actor_age_at_release'].mean()-18,7100,'female mean: {:.2f}'.format(female_chara['actor_age_at_release'].mean()))\n",
    "\n",
    "ax.bar(b_bins[:-1]+width, b_heights, width=width, facecolor='cornflowerblue',label='male')\n",
    "ax.axvline(male_chara['actor_age_at_release'].mean(), color='k', linestyle='dashed', linewidth=1.5)\n",
    "ax.text(male_chara['actor_age_at_release'].mean()+1,7100,'male mean: {:.2f}'.format(male_chara['actor_age_at_release'].mean()))\n",
    "ax.legend()\n",
    "ax.set_title('Age Distribution of Actresses and Actors at Release')"
   ]
  },
  {
   "cell_type": "markdown",
   "id": "c10b5988",
   "metadata": {},
   "source": [
    "From the age distribution plot, we can see that the averge age of actors is around 40 years old, which is 8 years elder than actresses( a huge gap! ) . Also, age distribution of actors is closer to normal distribution, while actresses declines dramatically once they are no longer at their 'best age'. Women tend to have shorter career in acting. It's also noteworthy that for actors at the same age, men are dominant after 30 years old. It implies that good looks may be more valued for actresses than actors in movie industry."
   ]
  },
  {
   "cell_type": "markdown",
   "id": "8fb46683",
   "metadata": {},
   "source": [
    "###  2.3 Gender difference in different domains\n",
    "#### 2.3.1 Genre"
   ]
  },
  {
   "cell_type": "markdown",
   "id": "6583f683-7bd8-4b37-9a46-160c85296cad",
   "metadata": {},
   "source": [
    "<div class=\"1.1\" style='background-color:#c8dfea; padding:1em;'>\n",
    "<span style=\"color:black\">\n",
    "In order to see if there is a difference between genders regarding genres the top 30 female and male genres is computed. Those correspond to the movies where the respective female or male ration is the highest.\n",
    "Only the genres with more than 100 movies were taken into consideration. <br><br>\n",
    "    \n",
    "Instead of checking which genre has the highest female / male ration it is also interesting to order the 30 most appearing genres according to the gender ratio. "
   ]
  },
  {
   "cell_type": "code",
   "execution_count": 77,
   "id": "b469c802",
   "metadata": {},
   "outputs": [],
   "source": [
    "def get_female_ratio(s):\n",
    "    female_count = 0\n",
    "    for i in range(len(s)):\n",
    "        if s[i] == 'F':\n",
    "            female_count = female_count+1\n",
    "    return round(female_count/len(s), 4)"
   ]
  },
  {
   "cell_type": "code",
   "execution_count": 48,
   "id": "b8e18cee-03ea-4ff0-89a3-d4dd92a828a7",
   "metadata": {},
   "outputs": [],
   "source": [
    "def get_gender_ratio(s, gender):\n",
    "    ''' \n",
    "    Calculates the ratio gender\n",
    "    Arg:\n",
    "        s: Object containing all male or female actor in a genre. (M or F)\n",
    "        gender: the gender for which the ratio should be computed for\n",
    "    '''\n",
    "    \n",
    "    gender_count = 0\n",
    "    for i in range(len(s)):\n",
    "        if s[i] == gender:\n",
    "            gender_count = gender_count+1\n",
    "    return round(gender_count/len(s), 4)\n",
    "\n",
    "# TODO：through time\n"
   ]
  },
  {
   "cell_type": "code",
   "execution_count": 49,
   "id": "c34c1d82-7f43-48e1-b519-e83b08dbbb08",
   "metadata": {},
   "outputs": [],
   "source": [
    "def genderratio_domain(df, domain, threshold,characters, gender):\n",
    "    ''' \n",
    "    \n",
    "    Arg:\n",
    "        df = movie_genres\n",
    "        domain = domain\n",
    "        threshold = number of movies has to be higher than threshhold for domain specific value to be counted as general\n",
    "        characters = characters df\n",
    "        gender = 'F' or 'M'\n",
    "    '''\n",
    "    if gender == 'F':\n",
    "        gender_ratio = \"female_ratio\"\n",
    "    else:\n",
    "        gender_ratio = \"male_ratio\"  \n",
    "    \n",
    "    # generate dataframe containing the actors gender and domain-specific value of the movie\n",
    "    domain_ct = df[domain].value_counts()\n",
    "\n",
    "    # consider a domain is general when at least threshold-number of movies in it\n",
    "    general_genres = domain_ct[domain_ct > threshold]\n",
    "    general_genres = general_genres.index.tolist()\n",
    "    character_domain = pd.merge(left = characters, right = df, left_on = 'wiki_movie_id', right_on = 'wiki_movie_id', how = 'inner')\n",
    "\n",
    "    # Extract genres that has female actress\n",
    "    # Sum the number of male / female actor per genre and calculate female ratio\n",
    "    gender_genres = character_domain[character_domain[domain].isin(general_genres)][['actor_gender', domain]].groupby(domain).agg('sum')\n",
    "    gender_genres[gender_ratio] = gender_genres['actor_gender'].apply(lambda x: get_gender_ratio(x,gender))\n",
    "    gender_genres = gender_genres.drop(columns=['actor_gender'])\n",
    "    gender_genres = gender_genres.sort_values(by=gender_ratio, ascending=False).iloc[:30]\n",
    "    \n",
    "    \n",
    "    return gender_genres"
   ]
  },
  {
   "cell_type": "code",
   "execution_count": 50,
   "id": "6c26f11e-04f3-42b3-882d-c1578a64ec97",
   "metadata": {},
   "outputs": [
    {
     "data": {
      "text/plain": [
       "[Text(0.5, 1.0, 'Top 30 Female Genres')]"
      ]
     },
     "execution_count": 50,
     "metadata": {},
     "output_type": "execute_result"
    },
    {
     "data": {
      "image/png": "[encoded data removed]",
      "text/plain": [
       "<Figure size 360x432 with 1 Axes>"
      ]
     },
     "metadata": {
      "needs_background": "light"
     },
     "output_type": "display_data"
    }
   ],
   "source": [
    "female_genres = genderratio_domain(movie_genres, 'genres', 100, characters, 'F')\n",
    "female_genres['genres'] = female_genres.index\n",
    "f, ax = plt.subplots(figsize=(5, 6))\n",
    "sns.barplot(data=female_genres, x=\"female_ratio\", y=\"genres\").set(title='Top 30 Female Genres')"
   ]
  },
  {
   "cell_type": "code",
   "execution_count": 51,
   "id": "1b37ab0b-c03c-431b-961c-5548eb0a42db",
   "metadata": {},
   "outputs": [
    {
     "data": {
      "text/plain": [
       "[Text(0.5, 1.0, 'Top 30 Male Genres')]"
      ]
     },
     "execution_count": 51,
     "metadata": {},
     "output_type": "execute_result"
    },
    {
     "data": {
      "image/png": "[encoded data removed]",
      "text/plain": [
       "<Figure size 360x432 with 1 Axes>"
      ]
     },
     "metadata": {
      "needs_background": "light"
     },
     "output_type": "display_data"
    }
   ],
   "source": [
    "male_genres = genderratio_domain(movie_genres, 'genres', 100, characters, 'M')\n",
    "male_genres['genres'] = male_genres.index\n",
    "f, ax = plt.subplots(figsize=(5, 6))\n",
    "sns.barplot(data=male_genres, x=\"male_ratio\", y=\"genres\").set(title='Top 30 Male Genres')"
   ]
  },
  {
   "cell_type": "code",
   "execution_count": 52,
   "id": "2c06e332-c97d-4b5f-acb8-509960af24f1",
   "metadata": {},
   "outputs": [
    {
     "data": {
      "text/plain": [
       "[Text(0.5, 1.0, 'Female cast ratio in top 30 genres')]"
      ]
     },
     "execution_count": 52,
     "metadata": {},
     "output_type": "execute_result"
    },
    {
     "data": {
      "image/png": "[encoded data removed]",
      "text/plain": [
       "<Figure size 360x432 with 1 Axes>"
      ]
     },
     "metadata": {
      "needs_background": "light"
     },
     "output_type": "display_data"
    }
   ],
   "source": [
    "character_genres = pd.merge(left = characters, right = movie_genres, left_on = 'wiki_movie_id', right_on = 'wiki_movie_id', how = 'inner')\n",
    "top30_genres = movie_genres['genres'].value_counts()[:30].index.tolist()\n",
    "genre_gender = character_genres[character_genres.genres.isin(top30_genres)][['actor_gender', 'genres']].groupby('genres').agg('sum')\n",
    "genre_gender['female_ratio'] = genre_gender['actor_gender'].apply(lambda x: get_gender_ratio(x, \"F\"))\n",
    "genre_gender = genre_gender.drop(columns=['actor_gender'])\n",
    "genre_gender = genre_gender.sort_values(by='female_ratio', ascending=False)\n",
    "genre_gender['genres'] = genre_gender.index\n",
    "f, ax = plt.subplots(figsize=(5, 6))\n",
    "sns.barplot(data=genre_gender, x=\"female_ratio\", y=\"genres\").set(title='Female cast ratio in top 30 genres')"
   ]
  },
  {
   "cell_type": "markdown",
   "id": "7a32d75d-b4ac-4000-b844-a118b336865d",
   "metadata": {},
   "source": [
    "#### 2.3.1 Countries"
   ]
  },
  {
   "cell_type": "markdown",
   "id": "12a11fe7-6406-4afe-8574-dd0fb14f7d9f",
   "metadata": {},
   "source": [
    "<div class=\"1.1\" style='background-color:#c8dfea; padding:1em;'>\n",
    "<span style=\"color:black\">\n",
    "Another task is to show the gender gap across the world. For that we show the countries that produces movies with the highes female or male ratio. In this case all countries are considered that have produced more than 50 movies."
   ]
  },
  {
   "cell_type": "code",
   "execution_count": 54,
   "id": "d14cc910-e8a0-421f-ae72-7b4e48fd6488",
   "metadata": {},
   "outputs": [
    {
     "data": {
      "text/plain": [
       "[Text(0.5, 1.0, 'Top 30 Female Countries')]"
      ]
     },
     "execution_count": 54,
     "metadata": {},
     "output_type": "execute_result"
    },
    {
     "data": {
      "image/png": "[encoded data removed]",
      "text/plain": [
       "<Figure size 360x432 with 1 Axes>"
      ]
     },
     "metadata": {
      "needs_background": "light"
     },
     "output_type": "display_data"
    }
   ],
   "source": [
    "female_countries = genderratio_domain(movie_countries, 'countries', 50, characters, 'F')\n",
    "female_countries['countries'] = female_countries.index\n",
    "f, ax = plt.subplots(figsize=(5, 6))\n",
    "sns.barplot(data=female_countries, x=\"female_ratio\", y= 'countries').set(title='Top 30 Female Countries')"
   ]
  },
  {
   "cell_type": "code",
   "execution_count": 55,
   "id": "bcad2f9f-a836-4183-a69b-3a0115e45faa",
   "metadata": {},
   "outputs": [
    {
     "data": {
      "text/plain": [
       "[Text(0.5, 1.0, 'Top 30 Male Countries')]"
      ]
     },
     "execution_count": 55,
     "metadata": {},
     "output_type": "execute_result"
    },
    {
     "data": {
      "image/png": "[encoded data removed]",
      "text/plain": [
       "<Figure size 360x432 with 1 Axes>"
      ]
     },
     "metadata": {
      "needs_background": "light"
     },
     "output_type": "display_data"
    }
   ],
   "source": [
    "male_countries = genderratio_domain(movie_countries, 'countries', 50, characters, 'M')\n",
    "male_countries['countries'] = male_countries.index\n",
    "f, ax = plt.subplots(figsize=(5, 6))\n",
    "sns.barplot(data=male_countries, x=\"male_ratio\", y= 'countries').set(title='Top 30 Male Countries')"
   ]
  },
  {
   "cell_type": "markdown",
   "id": "696e1f4a",
   "metadata": {},
   "source": [
    "#### 2.3.1 Language"
   ]
  },
  {
   "cell_type": "markdown",
   "id": "ed98137f-08bd-44e2-a11f-2822f6ddc6b4",
   "metadata": {},
   "source": [
    "<div class=\"1.1\" style='background-color:#c8dfea; padding:1em;'>\n",
    "<span style=\"color:black\">\n",
    "In order to see if countries with the same language have a similar gendergap..."
   ]
  },
  {
   "cell_type": "markdown",
   "id": "cd238612",
   "metadata": {
    "pycharm": {
     "name": "#%% md\n"
    }
   },
   "source": [
    "## Task 3 Extract verbs and adjectives of the plot's summaries"
   ]
  },
  {
   "cell_type": "code",
   "execution_count": null,
   "id": "2e6b35a9-3ed9-4e75-a0bb-c8ce0e824834",
   "metadata": {
    "pycharm": {
     "name": "#%%\n"
    }
   },
   "outputs": [],
   "source": [
    "# Load spacy pipeline\n",
    "nlp = spacy.load(\"en_core_web_sm\")\n",
    "nlp.add_pipe(\"merge_entities\") # Merge entities like ['David' 'Bowie'] to ['David Bowie']"
   ]
  },
  {
   "cell_type": "code",
   "execution_count": null,
   "id": "4dfdd12a",
   "metadata": {
    "collapsed": false,
    "jupyter": {
     "outputs_hidden": false
    },
    "pycharm": {
     "name": "#%%\n"
    }
   },
   "outputs": [],
   "source": [
    "def tag_adj(text):\n",
    "    \"\"\"\n",
    "    Find all noon/adjective pair in the given text\n",
    "    :param text: Text composed of one or multiple sentences\n",
    "    :return: list of noon/adjective pair\n",
    "    \"\"\"\n",
    "    doc = nlp(text)\n",
    "    noun_adj_pairs = []\n",
    "    for token in doc:\n",
    "        ## Is the word a proper noun / noun / pronoun\n",
    "        if token.pos_ in ('PROPN', 'NOUN', 'PRON'):\n",
    "            for child in token.children:\n",
    "                ## Is the child an adjectival modifier\n",
    "                if child.dep_ == 'amod':\n",
    "                    noun_adj_pairs.append((token.lemma_, child.lemma_))\n",
    "    return noun_adj_pairs"
   ]
  },
  {
   "cell_type": "code",
   "execution_count": null,
   "id": "be947662",
   "metadata": {
    "collapsed": false,
    "jupyter": {
     "outputs_hidden": false
    },
    "pycharm": {
     "name": "#%%\n"
    }
   },
   "outputs": [],
   "source": [
    "## Example\n",
    "print(tag_adj(\"There is a red card in the blue envelope and a beautiful girl.\"))\n",
    "print(tag_adj(\"She is beautiful.\"))"
   ]
  },
  {
   "cell_type": "code",
   "execution_count": null,
   "id": "fba3e275",
   "metadata": {
    "collapsed": false,
    "jupyter": {
     "outputs_hidden": false
    },
    "pycharm": {
     "name": "#%%\n"
    }
   },
   "outputs": [],
   "source": [
    "def tag_verb(text):\n",
    "    \"\"\"\n",
    "    Find all noon/verb pair in the given text\n",
    "    :param text: Text composed of one or multiple sentences\n",
    "    :return: list of noon/verb pair\n",
    "    \"\"\"\n",
    "    doc = nlp(text)\n",
    "    verbs = []\n",
    "    for possible_verb in doc:\n",
    "        if possible_verb.pos_ == 'VERB':\n",
    "            for possible_subject in possible_verb.children:\n",
    "                if possible_subject.dep_ == 'nsubj':\n",
    "                    verbs.append((possible_subject.lemma_, possible_verb.lemma_))\n",
    "                    break\n",
    "    return verbs"
   ]
  },
  {
   "cell_type": "markdown",
   "id": "4d8d2bd5",
   "metadata": {
    "pycharm": {
     "name": "#%% md\n"
    }
   },
   "source": [
    "We extract the adjectives and verbs of each plot"
   ]
  },
  {
   "cell_type": "code",
   "execution_count": null,
   "id": "91a062d9",
   "metadata": {
    "collapsed": false,
    "jupyter": {
     "outputs_hidden": false
    },
    "pycharm": {
     "name": "#%%\n"
    }
   },
   "outputs": [],
   "source": [
    "plots['verb'] = plots['plot'].apply(tag_verb) # long computation"
   ]
  },
  {
   "cell_type": "code",
   "execution_count": null,
   "id": "1d92fe3d",
   "metadata": {
    "collapsed": false,
    "jupyter": {
     "outputs_hidden": false
    },
    "pycharm": {
     "name": "#%%\n"
    }
   },
   "outputs": [],
   "source": [
    "plots['adj'] = plots['plot'].apply(tag_adj) # long computation"
   ]
  },
  {
   "cell_type": "code",
   "execution_count": null,
   "id": "449ce1c3",
   "metadata": {
    "pycharm": {
     "name": "#%%\n"
    }
   },
   "outputs": [],
   "source": [
    "# Save intermediate result since computation is quite long\n",
    "plots.to_pickle('data/plots.pickle')"
   ]
  },
  {
   "cell_type": "code",
   "execution_count": null,
   "id": "705a89cc",
   "metadata": {
    "pycharm": {
     "name": "#%%\n"
    }
   },
   "outputs": [],
   "source": [
    "# Save intermediate result since computation is quite long\n",
    "plots[['wiki_movie_id', 'verb', 'adj']].to_pickle('data/plots.pickle')"
   ]
  },
  {
   "cell_type": "code",
   "execution_count": null,
   "id": "e4b8219f",
   "metadata": {
    "collapsed": false,
    "jupyter": {
     "outputs_hidden": false
    },
    "pycharm": {
     "name": "#%%\n"
    }
   },
   "outputs": [],
   "source": [
    "# Dict that match all characters to their gender\n",
    "matcher = pd.Series(characters.actor_gender.values, index=characters.character_name).to_dict()\n",
    "matcher.update({'he' : 'M', 'she' : 'F'})"
   ]
  },
  {
   "cell_type": "code",
   "execution_count": null,
   "id": "be0532b4",
   "metadata": {
    "pycharm": {
     "name": "#%%\n"
    }
   },
   "outputs": [],
   "source": [
    "plots[['wiki_movie_id', 'verb', 'adj']] = pd.read_pickle('data/plots.pickle')"
   ]
  },
  {
   "cell_type": "code",
   "execution_count": null,
   "id": "0959b798",
   "metadata": {
    "pycharm": {
     "name": "#%%\n"
    }
   },
   "outputs": [],
   "source": [
    "# We build a dataframe that groups the subject and the verb of every plot\n",
    "gender_verb = pd.DataFrame(plots.verb.explode().to_list(), columns=['noon', 'verb'])\n",
    "gender_verb.head()"
   ]
  },
  {
   "cell_type": "code",
   "execution_count": null,
   "id": "d7c3ed70",
   "metadata": {
    "pycharm": {
     "name": "#%%\n"
    }
   },
   "outputs": [],
   "source": [
    "# We create a new column that assignee to subject to male or female based on the matcher\n",
    "gender_verb['gender'] = gender_verb.noon.apply(matcher.get)\n",
    "gender_verb.dropna(inplace=True)\n",
    "gender_verb.head()"
   ]
  },
  {
   "cell_type": "code",
   "execution_count": null,
   "id": "687cb1cb",
   "metadata": {
    "pycharm": {
     "name": "#%%\n"
    }
   },
   "outputs": [],
   "source": [
    "# We do the same for adjectives\n",
    "gender_adj = pd.DataFrame(plots.adj.explode().to_list(), columns=['noon', 'adj'])\n",
    "gender_adj['gender'] = gender_adj.noon.apply(matcher.get) ## TODO is this matcher adequate ???\n",
    "gender_adj.dropna(inplace=True)\n",
    "gender_adj.head()"
   ]
  },
  {
   "cell_type": "markdown",
   "id": "59663da3",
   "metadata": {
    "pycharm": {
     "name": "#%% md\n"
    }
   },
   "source": [
    "Now we can study the occurrence of each word per gender in the plots (needs some filtering)"
   ]
  },
  {
   "cell_type": "code",
   "execution_count": null,
   "id": "39eec123",
   "metadata": {
    "pycharm": {
     "name": "#%%\n"
    }
   },
   "outputs": [],
   "source": [
    "gender_verb.loc[gender_verb.gender == 'F'].verb.value_counts().head(10)"
   ]
  },
  {
   "cell_type": "code",
   "execution_count": null,
   "id": "bd114d66",
   "metadata": {
    "pycharm": {
     "name": "#%%\n"
    }
   },
   "outputs": [],
   "source": [
    "gender_verb.loc[gender_verb.gender == 'M'].verb.value_counts().head(10)"
   ]
  },
  {
   "cell_type": "code",
   "execution_count": null,
   "id": "e0ebe400",
   "metadata": {
    "pycharm": {
     "name": "#%%\n"
    }
   },
   "outputs": [],
   "source": [
    "gender_adj.loc[gender_adj.gender == 'F'].adj.value_counts().head(10)"
   ]
  },
  {
   "cell_type": "code",
   "execution_count": null,
   "id": "d1bb2aee",
   "metadata": {
    "pycharm": {
     "name": "#%%\n"
    }
   },
   "outputs": [],
   "source": [
    "gender_adj.loc[gender_adj.gender == 'M'].adj.value_counts().head(10)"
   ]
  },
  {
   "cell_type": "markdown",
   "id": "ff23aeb3",
   "metadata": {},
   "source": [
    "## Task 4 Sentiment Analysis"
   ]
  },
  {
   "cell_type": "code",
   "execution_count": null,
   "id": "1dc86979",
   "metadata": {},
   "outputs": [],
   "source": []
  }
 ],
 "metadata": {
  "kernelspec": {
   "display_name": "Python 3 (ipykernel)",
   "language": "python",
   "name": "python3"
  },
  "language_info": {
   "codemirror_mode": {
    "name": "ipython",
    "version": 3
   },
   "file_extension": ".py",
   "mimetype": "text/x-python",
   "name": "python",
   "nbconvert_exporter": "python",
   "pygments_lexer": "ipython3",
   "version": "3.9.12"
  }
 },
 "nbformat": 4,
 "nbformat_minor": 5
}
